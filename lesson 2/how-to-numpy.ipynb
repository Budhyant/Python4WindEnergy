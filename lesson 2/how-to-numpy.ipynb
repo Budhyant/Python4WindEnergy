{
 "metadata": {
  "name": ""
 },
 "nbformat": 3,
 "nbformat_minor": 0,
 "worksheets": [
  {
   "cells": [
    {
     "cell_type": "heading",
     "level": 1,
     "metadata": {},
     "source": [
      "Numerical Data in Python: the NumPy Array Object"
     ]
    },
    {
     "cell_type": "markdown",
     "metadata": {},
     "source": [
      "This notebook is based on existing and more elaborate NumPy lecture material:\n",
      "\n",
      "* [SciPy Lecture Notes](http://scipy-lectures.github.io/) (various Python developers)\n",
      "* [scipy array tip sheed](http://pages.physics.cornell.edu/~myers/teaching/ComputationalMethods/python/arrays.html) (Physics at Cornell University)\n",
      "* http://wiki.scipy.org/Tentative_NumPy_Tutorial\n",
      "\n",
      "For Matlab users, following reference material might com in handy:\n",
      "\n",
      "* [NumPy for Matlab Users](http://wiki.scipy.org/NumPy_for_Matlab_Users)"
     ]
    },
    {
     "cell_type": "markdown",
     "metadata": {},
     "source": [
      "* explain numpy stuff based on an example\n",
      "* give an exercise as a Wakari notebook?\n",
      "* start from a list, move to array\n",
      "* vectorized operations\n",
      "* Explain fancy indexing\n",
      "* Difference of printing an N-Dimensional array between NumPy and Matlab\n",
      "* slicing: views of an array\n",
      "* fancy indexing: copies\n",
      "* looking up data: sets, \\_\\_eq\\_\\_ stuff in NumPy etc\n",
      "* load/write arrays from matlab, csv, text files, binary files\n",
      "\n",
      "* reading/writing DTU Wind Energy files: wasp, hawc2, mann turbulence, ... ?\n",
      "\n",
      "* IO with NumPy:\n",
      "    * loadtxt\n",
      "    * binary files\n",
      "    * from csv data table"
     ]
    },
    {
     "cell_type": "heading",
     "level": 2,
     "metadata": {},
     "source": [
      "Import Conventions"
     ]
    },
    {
     "cell_type": "markdown",
     "metadata": {},
     "source": [
      "Name spaces: keep them separate, it will make your live easier on the long term."
     ]
    },
    {
     "cell_type": "code",
     "collapsed": false,
     "input": [
      "import numpy as np"
     ],
     "language": "python",
     "metadata": {},
     "outputs": [],
     "prompt_number": 10
    },
    {
     "cell_type": "markdown",
     "metadata": {},
     "source": [
      " Note that some like to input everything from numpy as\n",
      "\n",
      "```python\n",
      "from numpy import *\n",
      "```\n",
      "in order never to have to type np., but that might create problems (aka name space clashes) down the road. For instance, consider the following case:"
     ]
    },
    {
     "cell_type": "code",
     "collapsed": false,
     "input": [
      "from numpy import *\n",
      "print type(cos(10))\n",
      "cos(array([1,2,3]))"
     ],
     "language": "python",
     "metadata": {},
     "outputs": [
      {
       "output_type": "stream",
       "stream": "stdout",
       "text": [
        "<type 'numpy.float64'>\n"
       ]
      },
      {
       "metadata": {},
       "output_type": "pyout",
       "prompt_number": 2,
       "text": [
        "array([ 0.54030231, -0.41614684, -0.9899925 ])"
       ]
      }
     ],
     "prompt_number": 2
    },
    {
     "cell_type": "code",
     "collapsed": false,
     "input": [
      "from math import *\n",
      "print type(cos(10))"
     ],
     "language": "python",
     "metadata": {},
     "outputs": [
      {
       "output_type": "stream",
       "stream": "stdout",
       "text": [
        "<type 'float'>\n"
       ]
      }
     ],
     "prompt_number": 4
    },
    {
     "cell_type": "code",
     "collapsed": false,
     "input": [
      "cos(array([1,2,3]))"
     ],
     "language": "python",
     "metadata": {},
     "outputs": [
      {
       "ename": "TypeError",
       "evalue": "only length-1 arrays can be converted to Python scalars",
       "output_type": "pyerr",
       "traceback": [
        "\u001b[1;31m---------------------------------------------------------------------------\u001b[0m\n\u001b[1;31mTypeError\u001b[0m                                 Traceback (most recent call last)",
        "\u001b[1;32m<ipython-input-8-d051637b9365>\u001b[0m in \u001b[0;36m<module>\u001b[1;34m()\u001b[0m\n\u001b[1;32m----> 1\u001b[1;33m \u001b[0mcos\u001b[0m\u001b[1;33m(\u001b[0m\u001b[0marray\u001b[0m\u001b[1;33m(\u001b[0m\u001b[1;33m[\u001b[0m\u001b[1;36m1\u001b[0m\u001b[1;33m,\u001b[0m\u001b[1;36m2\u001b[0m\u001b[1;33m,\u001b[0m\u001b[1;36m3\u001b[0m\u001b[1;33m]\u001b[0m\u001b[1;33m)\u001b[0m\u001b[1;33m)\u001b[0m\u001b[1;33m\u001b[0m\u001b[0m\n\u001b[0m",
        "\u001b[1;31mTypeError\u001b[0m: only length-1 arrays can be converted to Python scalars"
       ]
      }
     ],
     "prompt_number": 8
    },
    {
     "cell_type": "markdown",
     "metadata": {},
     "source": [
      "The function numpy.cos (which accepts numbers and arrays) clashed with math.cos (which only accepts numbers), and the last one that has been imported is the one that prevails."
     ]
    },
    {
     "cell_type": "heading",
     "level": 2,
     "metadata": {},
     "source": [
      "Arrays"
     ]
    },
    {
     "cell_type": "markdown",
     "metadata": {},
     "source": [
      "Python objects:\n",
      "\n",
      "* high-level number objects: integers, floating point\n",
      "* containers: lists (costless insertion and append), dictionaries (fast lookup)\n",
      "\n",
      "NumPy provides:\n",
      "\n",
      "* extension package to Python for multi-dimensional arrays\n",
      "* closer to hardware (efficiency)\n",
      "* designed for scientific computation (convenience)\n",
      "* Also known as array oriented computing\n"
     ]
    },
    {
     "cell_type": "markdown",
     "metadata": {},
     "source": [
      "![caption](files/anatomyarray.png)"
     ]
    },
    {
     "cell_type": "heading",
     "level": 3,
     "metadata": {},
     "source": [
      "Fooling around with arrays"
     ]
    },
    {
     "cell_type": "code",
     "collapsed": false,
     "input": [
      "np.array([[11,12,13], [21,22,23], [31,32,33]])"
     ],
     "language": "python",
     "metadata": {},
     "outputs": [
      {
       "metadata": {},
       "output_type": "pyout",
       "prompt_number": 32,
       "text": [
        "array([[11, 12, 13],\n",
        "       [21, 22, 23],\n",
        "       [31, 32, 33]])"
       ]
      }
     ],
     "prompt_number": 32
    },
    {
     "cell_type": "markdown",
     "metadata": {},
     "source": [
      "Can't we just use Python lists instead?"
     ]
    },
    {
     "cell_type": "code",
     "collapsed": false,
     "input": [
      "L = range(5) # a Python list\n",
      "a = np.arange(5) # a NumPy array"
     ],
     "language": "python",
     "metadata": {},
     "outputs": [],
     "prompt_number": 24
    },
    {
     "cell_type": "markdown",
     "metadata": {},
     "source": [
      "Lists behave according to very simple yet clear rules:"
     ]
    },
    {
     "cell_type": "code",
     "collapsed": false,
     "input": [
      "L1 = L*2\n",
      "L2 = L+L\n",
      "L1 == L2"
     ],
     "language": "python",
     "metadata": {},
     "outputs": [],
     "prompt_number": 30
    },
    {
     "cell_type": "code",
     "collapsed": false,
     "input": [
      "L1"
     ],
     "language": "python",
     "metadata": {},
     "outputs": [
      {
       "metadata": {},
       "output_type": "pyout",
       "prompt_number": 31,
       "text": [
        "[0, 1, 2, 3, 4, 0, 1, 2, 3, 4, 0, 1, 2, 3, 4, 0, 1, 2, 3, 4]"
       ]
      }
     ],
     "prompt_number": 31
    },
    {
     "cell_type": "markdown",
     "metadata": {},
     "source": [
      "We could apply element wise operations on list elements. But they will always be slower compared to NumPy:"
     ]
    },
    {
     "cell_type": "code",
     "collapsed": false,
     "input": [
      "L = range(5000)\n",
      "a = np.arange(5000)\n",
      "%timeit [i**2 for i in L]\n",
      "%timeit a**2\n",
      "325/5"
     ],
     "language": "python",
     "metadata": {},
     "outputs": [
      {
       "output_type": "stream",
       "stream": "stdout",
       "text": [
        "1000 loops, best of 3: 323 \u00b5s per loop\n",
        "100000 loops, best of 3: 4.92 \u00b5s per loop"
       ]
      },
      {
       "output_type": "stream",
       "stream": "stdout",
       "text": [
        "\n"
       ]
      },
      {
       "metadata": {},
       "output_type": "pyout",
       "prompt_number": 29,
       "text": [
        "65"
       ]
      }
     ],
     "prompt_number": 29
    },
    {
     "cell_type": "markdown",
     "metadata": {},
     "source": [
      "Convinience functions for creating special arrays:"
     ]
    },
    {
     "cell_type": "code",
     "collapsed": false,
     "input": [
      "np.ones((5,4))"
     ],
     "language": "python",
     "metadata": {},
     "outputs": [
      {
       "metadata": {},
       "output_type": "pyout",
       "prompt_number": 15,
       "text": [
        "array([[ 1.,  1.,  1.,  1.],\n",
        "       [ 1.,  1.,  1.,  1.],\n",
        "       [ 1.,  1.,  1.,  1.],\n",
        "       [ 1.,  1.,  1.,  1.],\n",
        "       [ 1.,  1.,  1.,  1.]])"
       ]
      }
     ],
     "prompt_number": 15
    },
    {
     "cell_type": "code",
     "collapsed": false,
     "input": [
      "np.diagflat(np.array([1,2,3,4]))"
     ],
     "language": "python",
     "metadata": {},
     "outputs": [
      {
       "metadata": {},
       "output_type": "pyout",
       "prompt_number": 16,
       "text": [
        "array([[1, 0, 0, 0],\n",
        "       [0, 2, 0, 0],\n",
        "       [0, 0, 3, 0],\n",
        "       [0, 0, 0, 4]])"
       ]
      }
     ],
     "prompt_number": 16
    },
    {
     "cell_type": "code",
     "collapsed": false,
     "input": [],
     "language": "python",
     "metadata": {},
     "outputs": [],
     "prompt_number": 19
    },
    {
     "cell_type": "heading",
     "level": 3,
     "metadata": {},
     "source": [
      "Printing arrays"
     ]
    },
    {
     "cell_type": "markdown",
     "metadata": {},
     "source": [
      "When you print an array, NumPy displays it in a similar way to nested lists, but with the following layout:\n",
      "\n",
      "* the last axis is printed from left to right,\n",
      "* the second-to-last is printed from top to bottom,\n",
      "* the rest are also printed from top to bottom, with each slice separated from the next by an empty line. "
     ]
    },
    {
     "cell_type": "code",
     "collapsed": false,
     "input": [
      "a1 = np.array([[111,121],[211,221]])\n",
      "print p1\n",
      "a2 = np.array([[112, 122],[212,222]])\n",
      "print p1\n",
      "a3 = np.dstack( (a1, a2 ))\n",
      "a4 = np.array([ [[111,112],[121,122]], [[211,212],[221,222]] ])\n",
      "a5 = np.array([ [np.array([111,112]),[121,122]], [[211,212],[221,222]] ])\n",
      "print a3 == a4\n",
      "print a3[1,0,0]"
     ],
     "language": "python",
     "metadata": {},
     "outputs": [
      {
       "output_type": "stream",
       "stream": "stdout",
       "text": [
        "[[111 121]\n",
        " [211 221]]\n",
        "[[111 121]\n",
        " [211 221]]\n",
        "[[[ True  True]\n",
        "  [ True  True]]\n",
        "\n",
        " [[ True  True]\n",
        "  [ True  True]]]\n",
        "211\n",
        "<type 'numpy.ndarray'>\n"
       ]
      }
     ],
     "prompt_number": 23
    },
    {
     "cell_type": "heading",
     "level": 2,
     "metadata": {},
     "source": [
      "Indexing Multi-dimensional Arrays"
     ]
    },
    {
     "cell_type": "markdown",
     "metadata": {},
     "source": [
      "Create a 3D array with random data"
     ]
    },
    {
     "cell_type": "code",
     "collapsed": false,
     "input": [
      "d1, d2, d3 = 1000, 2000, 50\n",
      "i0, i1, istep = 10, 700, 10\n",
      "j0, j1, jstep = 8, 1000, 7\n",
      "aa = np.random.rand(d1,d2,d3)\n",
      "i = np.arange(i0,i1,istep)\n",
      "j = np.arange(j0,j1,jstep)\n",
      "k = [1,2, 10]\n",
      "aa.shape"
     ],
     "language": "python",
     "metadata": {},
     "outputs": [
      {
       "metadata": {},
       "output_type": "pyout",
       "prompt_number": 25,
       "text": [
        "(1000, 2000, 50)"
       ]
      }
     ],
     "prompt_number": 25
    },
    {
     "cell_type": "markdown",
     "metadata": {},
     "source": [
      "Slicing that array using the intervals defined above in i,j,k"
     ]
    },
    {
     "cell_type": "code",
     "collapsed": false,
     "input": [
      "aaijk1 = aa[i,j,k]"
     ],
     "language": "python",
     "metadata": {},
     "outputs": [
      {
       "ename": "ValueError",
       "evalue": "shape mismatch: objects cannot be broadcast to a single shape",
       "output_type": "pyerr",
       "traceback": [
        "\u001b[1;31m---------------------------------------------------------------------------\u001b[0m\n\u001b[1;31mValueError\u001b[0m                                Traceback (most recent call last)",
        "\u001b[1;32m<ipython-input-26-abfc4537a455>\u001b[0m in \u001b[0;36m<module>\u001b[1;34m()\u001b[0m\n\u001b[1;32m----> 1\u001b[1;33m \u001b[0maaijk1\u001b[0m \u001b[1;33m=\u001b[0m \u001b[0maa\u001b[0m\u001b[1;33m[\u001b[0m\u001b[0mi\u001b[0m\u001b[1;33m,\u001b[0m\u001b[0mj\u001b[0m\u001b[1;33m,\u001b[0m\u001b[0mk\u001b[0m\u001b[1;33m]\u001b[0m\u001b[1;33m\u001b[0m\u001b[0m\n\u001b[0m",
        "\u001b[1;31mValueError\u001b[0m: shape mismatch: objects cannot be broadcast to a single shape"
       ]
      }
     ],
     "prompt_number": 26
    },
    {
     "cell_type": "markdown",
     "metadata": {},
     "source": [
      "So Matlab style slicing doesn't work. In NumPy there are 3 possible methods"
     ]
    },
    {
     "cell_type": "code",
     "collapsed": false,
     "input": [
      "# method 1: fancy indexing for each dimension separately\n",
      "aai = aa[i,:,:]\n",
      "aaij = aai[:,j,:]\n",
      "aaijk = aaij[:,:,k]\n",
      "# which is similar to\n",
      "aaijk1 = aa[i,:,:][:,j,:][:,:,k]\n",
      "\n",
      "# method 2: slicing on dimensions 1,2, and fancy indexing on the last dimension\n",
      "aaijk2 = aa[i0:i1:istep, j0:j1:jstep, k]\n",
      "\n",
      "# method 3: fancy indexing\n",
      "aaijk3 = aa[np.ix_(i,j,k)]"
     ],
     "language": "python",
     "metadata": {},
     "outputs": []
    },
    {
     "cell_type": "markdown",
     "metadata": {},
     "source": [
      "Verify the result, comparing two arrays with floats"
     ]
    },
    {
     "cell_type": "code",
     "collapsed": false,
     "input": [
      "print(np.allclose(aaijk1, aaijk))\n",
      "print(np.allclose(aaijk2, aaijk))\n",
      "print(np.allclose(aaijk3, aaijk))"
     ],
     "language": "python",
     "metadata": {},
     "outputs": [
      {
       "output_type": "stream",
       "stream": "stdout",
       "text": [
        "True\n",
        "True\n",
        "True\n"
       ]
      }
     ],
     "prompt_number": 5
    },
    {
     "cell_type": "markdown",
     "metadata": {},
     "source": [
      "Simple benchmarking with IPython magic %timeit, which method is faster?"
     ]
    },
    {
     "cell_type": "code",
     "collapsed": false,
     "input": [
      "# which method is faster?\n",
      "print(\"method 1: fancy indexing for each dimension seperately\")\n",
      "%timeit aa[i,:,:][:,j,:][:,:,k]\n",
      "print(\"method 2: slicing\")\n",
      "%timeit aa[i0:i1:istep, j0:j1:jstep, k]\n",
      "print(\"method 3: fancy indexing\")\n",
      "%timeit aa[np.ix_(i,j,k)]"
     ],
     "language": "python",
     "metadata": {},
     "outputs": []
    },
    {
     "cell_type": "markdown",
     "metadata": {},
     "source": [
      "Slicing is the clear winner, because we create views and not copies of the arrays."
     ]
    }
   ],
   "metadata": {}
  }
 ]
}