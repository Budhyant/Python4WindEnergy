{
 "metadata": {
  "name": ""
 },
 "nbformat": 3,
 "nbformat_minor": 0,
 "worksheets": [
  {
   "cells": [
    {
     "cell_type": "heading",
     "level": 1,
     "metadata": {},
     "source": [
      "Numerical Data in Python: the NumPy Array Object"
     ]
    },
    {
     "cell_type": "markdown",
     "metadata": {},
     "source": [
      "This notebook is based on existing and more elaborate NumPy lecture material:\n",
      "\n",
      "* [SciPy Lecture Notes](http://scipy-lectures.github.io/) (various Python developers)\n",
      "* [scipy array tip sheed](http://pages.physics.cornell.edu/~myers/teaching/ComputationalMethods/python/arrays.html) (Physics at Cornell University)\n",
      "* http://wiki.scipy.org/Tentative_NumPy_Tutorial (somewhat older page but still contains usefull examples)\n",
      "\n",
      "For Matlab users, following reference material might com in handy:\n",
      "\n",
      "* [NumPy for Matlab Users](http://wiki.scipy.org/NumPy_for_Matlab_Users)\n",
      "\n",
      "Official documentation:\n",
      "\n",
      "* [NumPy User Guide](http://docs.scipy.org/doc/numpy/user/index.html)\n",
      "* [NumPy and SciPy documentation pages](http://docs.scipy.org/doc/)"
     ]
    },
    {
     "cell_type": "markdown",
     "metadata": {},
     "source": [
      "* explain numpy stuff based on an example\n",
      "* give an exercise as a Wakari notebook?\n",
      "* start from a list, move to array\n",
      "* vectorized operations\n",
      "* Explain fancy indexing\n",
      "* Difference of printing an N-Dimensional array between NumPy and Matlab\n",
      "* slicing: views of an array\n",
      "* fancy indexing: copies\n",
      "* looking up data: sets, \\_\\_eq\\_\\_ stuff in NumPy etc\n",
      "* load/write arrays from matlab, csv, text files, binary files\n",
      "\n",
      "* reading/writing DTU Wind Energy files: wasp, hawc2, mann turbulence, ... ?\n",
      "\n",
      "* IO with NumPy:\n",
      "    * loadtxt\n",
      "    * binary files\n",
      "    * from csv data table"
     ]
    },
    {
     "cell_type": "heading",
     "level": 2,
     "metadata": {},
     "source": [
      "Import Conventions"
     ]
    },
    {
     "cell_type": "markdown",
     "metadata": {},
     "source": [
      "Name spaces: keep them separate, it will make your live easier on the long term."
     ]
    },
    {
     "cell_type": "code",
     "collapsed": false,
     "input": [
      "import numpy as np"
     ],
     "language": "python",
     "metadata": {},
     "outputs": [],
     "prompt_number": 1
    },
    {
     "cell_type": "markdown",
     "metadata": {},
     "source": [
      " Note that some like to input everything from numpy as\n",
      "\n",
      "```python\n",
      "from numpy import *\n",
      "```\n",
      "in order never to have to type np., but that might create problems (aka name space clashes) down the road. For instance, consider the following case:"
     ]
    },
    {
     "cell_type": "code",
     "collapsed": false,
     "input": [
      "from numpy import *\n",
      "print type(cos(10))\n",
      "cos(array([1,2,3]))"
     ],
     "language": "python",
     "metadata": {},
     "outputs": [
      {
       "output_type": "stream",
       "stream": "stdout",
       "text": [
        "<type 'numpy.float64'>\n"
       ]
      },
      {
       "metadata": {},
       "output_type": "pyout",
       "prompt_number": 2,
       "text": [
        "array([ 0.54030231, -0.41614684, -0.9899925 ])"
       ]
      }
     ],
     "prompt_number": 2
    },
    {
     "cell_type": "code",
     "collapsed": false,
     "input": [
      "from math import *\n",
      "print type(cos(10))"
     ],
     "language": "python",
     "metadata": {},
     "outputs": [
      {
       "output_type": "stream",
       "stream": "stdout",
       "text": [
        "<type 'float'>\n"
       ]
      }
     ],
     "prompt_number": 4
    },
    {
     "cell_type": "code",
     "collapsed": false,
     "input": [
      "cos(array([1,2,3]))"
     ],
     "language": "python",
     "metadata": {},
     "outputs": [
      {
       "ename": "TypeError",
       "evalue": "only length-1 arrays can be converted to Python scalars",
       "output_type": "pyerr",
       "traceback": [
        "\u001b[1;31m---------------------------------------------------------------------------\u001b[0m\n\u001b[1;31mTypeError\u001b[0m                                 Traceback (most recent call last)",
        "\u001b[1;32m<ipython-input-8-d051637b9365>\u001b[0m in \u001b[0;36m<module>\u001b[1;34m()\u001b[0m\n\u001b[1;32m----> 1\u001b[1;33m \u001b[0mcos\u001b[0m\u001b[1;33m(\u001b[0m\u001b[0marray\u001b[0m\u001b[1;33m(\u001b[0m\u001b[1;33m[\u001b[0m\u001b[1;36m1\u001b[0m\u001b[1;33m,\u001b[0m\u001b[1;36m2\u001b[0m\u001b[1;33m,\u001b[0m\u001b[1;36m3\u001b[0m\u001b[1;33m]\u001b[0m\u001b[1;33m)\u001b[0m\u001b[1;33m)\u001b[0m\u001b[1;33m\u001b[0m\u001b[0m\n\u001b[0m",
        "\u001b[1;31mTypeError\u001b[0m: only length-1 arrays can be converted to Python scalars"
       ]
      }
     ],
     "prompt_number": 8
    },
    {
     "cell_type": "markdown",
     "metadata": {},
     "source": [
      "The function numpy.cos (which accepts numbers and arrays) clashed with math.cos (which only accepts numbers), and the last one that has been imported is the one that prevails."
     ]
    },
    {
     "cell_type": "heading",
     "level": 2,
     "metadata": {},
     "source": [
      "Arrays"
     ]
    },
    {
     "cell_type": "markdown",
     "metadata": {},
     "source": [
      "Python objects:\n",
      "\n",
      "* high-level number objects: integers, floating point\n",
      "* containers: lists (costless insertion and append), dictionaries (fast lookup)\n",
      "\n",
      "NumPy provides:\n",
      "\n",
      "* extension package to Python for multi-dimensional arrays\n",
      "* closer to hardware (efficiency)\n",
      "* designed for scientific computation (convenience)\n",
      "* Also known as array oriented computing\n"
     ]
    },
    {
     "cell_type": "markdown",
     "metadata": {},
     "source": [
      "![caption](files/anatomyarray.png)"
     ]
    },
    {
     "cell_type": "heading",
     "level": 3,
     "metadata": {},
     "source": [
      "Fooling around with arrays"
     ]
    },
    {
     "cell_type": "code",
     "collapsed": false,
     "input": [
      "np.array([[11,12,13], [21,22,23], [31,32,33]])"
     ],
     "language": "python",
     "metadata": {},
     "outputs": [
      {
       "metadata": {},
       "output_type": "pyout",
       "prompt_number": 32,
       "text": [
        "array([[11, 12, 13],\n",
        "       [21, 22, 23],\n",
        "       [31, 32, 33]])"
       ]
      }
     ],
     "prompt_number": 32
    },
    {
     "cell_type": "markdown",
     "metadata": {},
     "source": [
      "Can't we just use Python lists instead?"
     ]
    },
    {
     "cell_type": "code",
     "collapsed": false,
     "input": [
      "L = range(5) # a Python list\n",
      "a = np.arange(5) # a NumPy array"
     ],
     "language": "python",
     "metadata": {},
     "outputs": [],
     "prompt_number": 24
    },
    {
     "cell_type": "markdown",
     "metadata": {},
     "source": [
      "Lists behave according to very simple yet clear rules:"
     ]
    },
    {
     "cell_type": "code",
     "collapsed": false,
     "input": [
      "L1 = L*2\n",
      "L2 = L+L\n",
      "L1 == L2"
     ],
     "language": "python",
     "metadata": {},
     "outputs": [],
     "prompt_number": 30
    },
    {
     "cell_type": "code",
     "collapsed": false,
     "input": [
      "L1"
     ],
     "language": "python",
     "metadata": {},
     "outputs": [
      {
       "metadata": {},
       "output_type": "pyout",
       "prompt_number": 31,
       "text": [
        "[0, 1, 2, 3, 4, 0, 1, 2, 3, 4, 0, 1, 2, 3, 4, 0, 1, 2, 3, 4]"
       ]
      }
     ],
     "prompt_number": 31
    },
    {
     "cell_type": "markdown",
     "metadata": {},
     "source": [
      "We could apply element wise operations on list elements. But they will always be slower compared to NumPy:"
     ]
    },
    {
     "cell_type": "code",
     "collapsed": false,
     "input": [
      "L = range(5000)\n",
      "a = np.arange(5000)\n",
      "%timeit [i**2 for i in L]\n",
      "%timeit a**2\n",
      "325/5"
     ],
     "language": "python",
     "metadata": {},
     "outputs": [
      {
       "output_type": "stream",
       "stream": "stdout",
       "text": [
        "1000 loops, best of 3: 323 \u00b5s per loop\n",
        "100000 loops, best of 3: 4.92 \u00b5s per loop"
       ]
      },
      {
       "output_type": "stream",
       "stream": "stdout",
       "text": [
        "\n"
       ]
      },
      {
       "metadata": {},
       "output_type": "pyout",
       "prompt_number": 29,
       "text": [
        "65"
       ]
      }
     ],
     "prompt_number": 29
    },
    {
     "cell_type": "markdown",
     "metadata": {},
     "source": [
      "Convinience functions for creating special arrays:"
     ]
    },
    {
     "cell_type": "code",
     "collapsed": false,
     "input": [
      "np.ones((5,4))"
     ],
     "language": "python",
     "metadata": {},
     "outputs": [
      {
       "metadata": {},
       "output_type": "pyout",
       "prompt_number": 15,
       "text": [
        "array([[ 1.,  1.,  1.,  1.],\n",
        "       [ 1.,  1.,  1.,  1.],\n",
        "       [ 1.,  1.,  1.,  1.],\n",
        "       [ 1.,  1.,  1.,  1.],\n",
        "       [ 1.,  1.,  1.,  1.]])"
       ]
      }
     ],
     "prompt_number": 15
    },
    {
     "cell_type": "code",
     "collapsed": false,
     "input": [
      "np.diagflat(np.array([1,2,3,4]))"
     ],
     "language": "python",
     "metadata": {},
     "outputs": [
      {
       "metadata": {},
       "output_type": "pyout",
       "prompt_number": 16,
       "text": [
        "array([[1, 0, 0, 0],\n",
        "       [0, 2, 0, 0],\n",
        "       [0, 0, 3, 0],\n",
        "       [0, 0, 0, 4]])"
       ]
      }
     ],
     "prompt_number": 16
    },
    {
     "cell_type": "markdown",
     "metadata": {},
     "source": [
      "Selecting last element, slicing, views, copies, in place operations, linspace"
     ]
    },
    {
     "cell_type": "code",
     "collapsed": false,
     "input": [],
     "language": "python",
     "metadata": {},
     "outputs": [],
     "prompt_number": 19
    },
    {
     "cell_type": "heading",
     "level": 3,
     "metadata": {},
     "source": [
      "Printing arrays"
     ]
    },
    {
     "cell_type": "markdown",
     "metadata": {},
     "source": [
      "When you print an array, NumPy displays it in a similar way to nested lists, but with the following layout:\n",
      "\n",
      "* the last axis is printed from left to right,\n",
      "* the second-to-last is printed from top to bottom,\n",
      "* the rest are also printed from top to bottom, with each slice separated from the next by an empty line. "
     ]
    },
    {
     "cell_type": "markdown",
     "metadata": {},
     "source": [
      "Creating and printing arrays might work a little different than expected:"
     ]
    },
    {
     "cell_type": "code",
     "collapsed": false,
     "input": [
      "a1 = np.array([[111,121],[211,221]])\n",
      "print a1\n",
      "a2 = np.array([[112, 122],[212,222]])\n",
      "print a2\n"
     ],
     "language": "python",
     "metadata": {},
     "outputs": [
      {
       "output_type": "stream",
       "stream": "stdout",
       "text": [
        "[[111 121]\n",
        " [211 221]]\n",
        "[[111 121]\n",
        " [211 221]]\n",
        "[[[ True  True]\n",
        "  [ True  True]]\n",
        "\n",
        " [[ True  True]\n",
        "  [ True  True]]]\n",
        "211\n",
        "<type 'numpy.ndarray'>\n"
       ]
      }
     ],
     "prompt_number": 23
    },
    {
     "cell_type": "markdown",
     "metadata": {},
     "source": [
      "What if we would create a 3D array, where a2 would be stacked along a third dimension:"
     ]
    },
    {
     "cell_type": "code",
     "collapsed": false,
     "input": [
      "a3 = np.dstack((a1, a2))"
     ],
     "language": "python",
     "metadata": {},
     "outputs": []
    },
    {
     "cell_type": "code",
     "collapsed": false,
     "input": [
      "a4 = np.array([ [[111,112],[121,122]], [[211,212],[221,222]] ])\n",
      "a5 = np.array([ [np.array([111,112]),[121,122]], [[211,212],[221,222]] ])"
     ],
     "language": "python",
     "metadata": {},
     "outputs": []
    },
    {
     "cell_type": "code",
     "collapsed": false,
     "input": [
      "print a3 == a4\n",
      "print a3[1,0,0]"
     ],
     "language": "python",
     "metadata": {},
     "outputs": []
    },
    {
     "cell_type": "code",
     "collapsed": false,
     "input": [],
     "language": "python",
     "metadata": {},
     "outputs": []
    },
    {
     "cell_type": "heading",
     "level": 2,
     "metadata": {},
     "source": [
      "Indexing Multi-dimensional Arrays"
     ]
    },
    {
     "cell_type": "markdown",
     "metadata": {},
     "source": [
      "Create a 3D array with random data"
     ]
    },
    {
     "cell_type": "code",
     "collapsed": false,
     "input": [
      "d1, d2, d3 = 1000, 2000, 50\n",
      "i0, i1, istep = 10, 700, 10\n",
      "j0, j1, jstep = 8, 1000, 7\n",
      "aa = np.random.rand(d1,d2,d3)\n",
      "i = np.arange(i0,i1,istep)\n",
      "j = np.arange(j0,j1,jstep)\n",
      "k = [1,2, 10]\n",
      "aa.shape"
     ],
     "language": "python",
     "metadata": {},
     "outputs": [
      {
       "metadata": {},
       "output_type": "pyout",
       "prompt_number": 25,
       "text": [
        "(1000, 2000, 50)"
       ]
      }
     ],
     "prompt_number": 25
    },
    {
     "cell_type": "markdown",
     "metadata": {},
     "source": [
      "Slicing that array using the intervals defined above in i,j,k"
     ]
    },
    {
     "cell_type": "code",
     "collapsed": false,
     "input": [
      "aaijk1 = aa[i,j,k]"
     ],
     "language": "python",
     "metadata": {},
     "outputs": [
      {
       "ename": "ValueError",
       "evalue": "shape mismatch: objects cannot be broadcast to a single shape",
       "output_type": "pyerr",
       "traceback": [
        "\u001b[1;31m---------------------------------------------------------------------------\u001b[0m\n\u001b[1;31mValueError\u001b[0m                                Traceback (most recent call last)",
        "\u001b[1;32m<ipython-input-26-abfc4537a455>\u001b[0m in \u001b[0;36m<module>\u001b[1;34m()\u001b[0m\n\u001b[1;32m----> 1\u001b[1;33m \u001b[0maaijk1\u001b[0m \u001b[1;33m=\u001b[0m \u001b[0maa\u001b[0m\u001b[1;33m[\u001b[0m\u001b[0mi\u001b[0m\u001b[1;33m,\u001b[0m\u001b[0mj\u001b[0m\u001b[1;33m,\u001b[0m\u001b[0mk\u001b[0m\u001b[1;33m]\u001b[0m\u001b[1;33m\u001b[0m\u001b[0m\n\u001b[0m",
        "\u001b[1;31mValueError\u001b[0m: shape mismatch: objects cannot be broadcast to a single shape"
       ]
      }
     ],
     "prompt_number": 26
    },
    {
     "cell_type": "markdown",
     "metadata": {},
     "source": [
      "So Matlab style slicing doesn't work. In NumPy there are 3 possible methods"
     ]
    },
    {
     "cell_type": "code",
     "collapsed": false,
     "input": [
      "# method 1: fancy indexing for each dimension separately\n",
      "aai = aa[i,:,:]\n",
      "aaij = aai[:,j,:]\n",
      "aaijk = aaij[:,:,k]\n",
      "# which is similar to\n",
      "aaijk1 = aa[i,:,:][:,j,:][:,:,k]\n",
      "\n",
      "# method 2: slicing on dimensions 1,2, and fancy indexing on the last dimension\n",
      "# slicing: inclusive lower boundary, exclusive upper boundary\n",
      "aaijk2 = aa[i0:i1:istep, j0:j1:jstep, k]\n",
      "\n",
      "# method 3: fancy indexing\n",
      "aaijk3 = aa[np.ix_(i,j,k)]"
     ],
     "language": "python",
     "metadata": {},
     "outputs": []
    },
    {
     "cell_type": "markdown",
     "metadata": {},
     "source": [
      "Verify the result, comparing two arrays with floats"
     ]
    },
    {
     "cell_type": "code",
     "collapsed": false,
     "input": [
      "print(np.allclose(aaijk1, aaijk))\n",
      "print(np.allclose(aaijk2, aaijk))\n",
      "print(np.allclose(aaijk3, aaijk))"
     ],
     "language": "python",
     "metadata": {},
     "outputs": [
      {
       "output_type": "stream",
       "stream": "stdout",
       "text": [
        "True\n",
        "True\n",
        "True\n"
       ]
      }
     ],
     "prompt_number": 5
    },
    {
     "cell_type": "markdown",
     "metadata": {},
     "source": [
      "Simple benchmarking with IPython magic %timeit, which method is faster?"
     ]
    },
    {
     "cell_type": "code",
     "collapsed": false,
     "input": [
      "# which method is faster?\n",
      "print(\"method 1: fancy indexing for each dimension seperately\")\n",
      "%timeit aa[i,:,:][:,j,:][:,:,k]\n",
      "print(\"method 2: slicing\")\n",
      "%timeit aa[i0:i1:istep, j0:j1:jstep, k]\n",
      "print(\"method 3: fancy indexing\")\n",
      "%timeit aa[np.ix_(i,j,k)]"
     ],
     "language": "python",
     "metadata": {},
     "outputs": []
    },
    {
     "cell_type": "markdown",
     "metadata": {},
     "source": [
      "Slicing is the clear winner, because we create views and not copies of the arrays."
     ]
    },
    {
     "cell_type": "heading",
     "level": 2,
     "metadata": {},
     "source": [
      "I/O with NumPy arrays"
     ]
    },
    {
     "cell_type": "code",
     "collapsed": false,
     "input": [
      "a = np.random.rand(10, 5)\n",
      "b = np.ones( (10,2) )\n",
      "c = np.zeros( (5,5) )\n",
      "\n",
      "np.savetxt('savetxt', a)\n",
      "np.savez('savez', a, b, c) # NumPy binary\n",
      "np.save('save', a) # NumPy binary"
     ],
     "language": "python",
     "metadata": {},
     "outputs": [],
     "prompt_number": 14
    },
    {
     "cell_type": "markdown",
     "metadata": {},
     "source": [
      "And to load the saved arrays: use loadtxt, loads, load"
     ]
    },
    {
     "cell_type": "code",
     "collapsed": false,
     "input": [
      "np.loadtxt('savetxt')"
     ],
     "language": "python",
     "metadata": {},
     "outputs": [
      {
       "metadata": {},
       "output_type": "pyout",
       "prompt_number": 15,
       "text": [
        "array([[ 0.58951463,  0.25364097,  0.22872002,  0.50496593,  0.63408619],\n",
        "       [ 0.94506257,  0.58750057,  0.60338287,  0.23230774,  0.6832449 ],\n",
        "       [ 0.44313992,  0.26718261,  0.89882027,  0.89599165,  0.05243552],\n",
        "       [ 0.60607946,  0.02249345,  0.41245453,  0.37303377,  0.76568748],\n",
        "       [ 0.03469898,  0.21175471,  0.96323066,  0.39655602,  0.6500778 ],\n",
        "       [ 0.74975727,  0.10758864,  0.81351876,  0.56340434,  0.89108878],\n",
        "       [ 0.73585457,  0.86550601,  0.87664468,  0.7487025 ,  0.02304955],\n",
        "       [ 0.3630177 ,  0.2815981 ,  0.9985682 ,  0.25157408,  0.10956538],\n",
        "       [ 0.09280795,  0.64685929,  0.85697407,  0.77609291,  0.56018828],\n",
        "       [ 0.19499422,  0.96372241,  0.62658103,  0.92424868,  0.39157309]])"
       ]
      }
     ],
     "prompt_number": 15
    },
    {
     "cell_type": "markdown",
     "metadata": {},
     "source": [
      "For more complex csv or text files, use numpy.genfromtxt(). For instance, we may be dealing with a fixed-width file, where columns are defined as a given number of characters. In that case, we need to set delimiter to a single integer (if all the columns have the same size) or to a sequence of integers (if columns can have different sizes)."
     ]
    },
    {
     "cell_type": "code",
     "collapsed": false,
     "input": [
      "fname = 'fixedwidth'\n",
      "data1 = np.genfromtxt(fname, dtype=None, delimiter=',', comments='#', skiprows=0, skip_header=0, skip_footer=0)\n",
      "print data1.shape\n",
      "data1[0]"
     ],
     "language": "python",
     "metadata": {},
     "outputs": [
      {
       "output_type": "stream",
       "stream": "stdout",
       "text": [
        "(20,)\n"
       ]
      },
      {
       "metadata": {},
       "output_type": "pyout",
       "prompt_number": 27,
       "text": [
        "'0.0  1.00000e-02          0.0          0.0  7.50000e-07  7.50000e-07          0.0          0.0  1.00000e+12  2.00000e+12  6.75000e-08  6.75000e-08  1.35000e-07   100.000000   100.000000  9.00000e-04          0.0          0.0          0.0'"
       ]
      }
     ],
     "prompt_number": 27
    },
    {
     "cell_type": "code",
     "collapsed": false,
     "input": [
      "data2 = np.genfromtxt(fname, dtype=np.float16, delimiter=13, comments='#', skiprows=0, skip_header=0, skip_footer=0)\n",
      "print data2.shape\n",
      "data2[:,0]"
     ],
     "language": "python",
     "metadata": {},
     "outputs": [
      {
       "output_type": "stream",
       "stream": "stdout",
       "text": [
        "(20, 19)\n"
       ]
      },
      {
       "metadata": {},
       "output_type": "pyout",
       "prompt_number": 28,
       "text": [
        "array([ 0.        ,  0.16186523,  0.1619873 ,  0.19470215,  0.22729492,\n",
        "        0.26000977,  0.29248047,  0.32519531,  0.35791016,  0.390625  ,\n",
        "        0.4230957 ,  0.45581055,  0.48852539,  0.52099609,  0.55371094,\n",
        "        0.58642578,  0.61914062,  0.65185547,  0.68457031,  0.71679688], dtype=float16)"
       ]
      }
     ],
     "prompt_number": 28
    },
    {
     "cell_type": "code",
     "collapsed": false,
     "input": [
      "data = np.fromstring(string, dtype=float, count=-1, sep='')\n",
      "data = np.fromfile(file, dtype=float, count=-1, sep='') # also for binary data\n",
      "data.tofile(fname)"
     ],
     "language": "python",
     "metadata": {},
     "outputs": []
    },
    {
     "cell_type": "heading",
     "level": 2,
     "metadata": {},
     "source": [
      "More file IO with scipy.io"
     ]
    },
    {
     "cell_type": "markdown",
     "metadata": {},
     "source": [
      "See also official [SciPy tutorial on IO](http://docs.scipy.org/doc/scipy/reference/tutorial/io.html)\n",
      "\n",
      "Reading and writing Matlab .mat files"
     ]
    },
    {
     "cell_type": "code",
     "collapsed": false,
     "input": [
      "import scipy.io as sio\n",
      "constitutive = sio.loadmat('constitutive.mat')\n",
      "utils = sio.loadmat('utils.mat')"
     ],
     "language": "python",
     "metadata": {},
     "outputs": [
      {
       "metadata": {},
       "output_type": "pyout",
       "prompt_number": 31,
       "text": [
        "dict"
       ]
      }
     ],
     "prompt_number": 31
    },
    {
     "cell_type": "code",
     "collapsed": false,
     "input": [
      "utils.keys()"
     ],
     "language": "python",
     "metadata": {},
     "outputs": [
      {
       "metadata": {},
       "output_type": "pyout",
       "prompt_number": 32,
       "text": [
        "['utils', '__version__', '__header__', '__globals__']"
       ]
      }
     ],
     "prompt_number": 32
    },
    {
     "cell_type": "code",
     "collapsed": false,
     "input": [
      "utils['utils'].dtype"
     ],
     "language": "python",
     "metadata": {},
     "outputs": [
      {
       "metadata": {},
       "output_type": "pyout",
       "prompt_number": 36,
       "text": [
        "dtype([('foldername', 'O'), ('nl_2d', 'O'), ('el_2d', 'O'), ('emat', 'O'), ('matprops', 'O'), ('ne_2d', 'O'), ('nn_2d', 'O'), ('etype_string', 'O'), ('etype', 'O'), ('nnpe_2d', 'O'), ('mdim_2d', 'O'), ('gpoints', 'O'), ('ndiv', 'O'), ('mapnn', 'O'), ('mapel_2d', 'O'), ('mapel4mat', 'O'), ('nmat', 'O'), ('pr_2d', 'O'), ('ElCent', 'O'), ('ElArea', 'O'), ('GQ', 'O'), ('iQ', 'O'), ('jQ', 'O'), ('vQ', 'O'), ('iQm', 'O'), ('jQm', 'O'), ('vQm', 'O'), ('density', 'O')])"
       ]
      }
     ],
     "prompt_number": 36
    },
    {
     "cell_type": "code",
     "collapsed": false,
     "input": [
      "utils['utils']['foldername'][0][0]"
     ],
     "language": "python",
     "metadata": {},
     "outputs": [
      {
       "metadata": {},
       "output_type": "pyout",
       "prompt_number": 39,
       "text": [
        "array([u'BECAS_examples/WTAirfoil'], \n",
        "      dtype='<U24')"
       ]
      }
     ],
     "prompt_number": 39
    },
    {
     "cell_type": "code",
     "collapsed": false,
     "input": [
      "utils['utils']['matprops'][0][0]"
     ],
     "language": "python",
     "metadata": {},
     "outputs": [
      {
       "metadata": {},
       "output_type": "pyout",
       "prompt_number": 41,
       "text": [
        "array([[  4.00000000e+10,   1.00000000e+10,   1.00000000e+10,\n",
        "          4.00000000e+09,   4.00000000e+09,   3.57100000e+09,\n",
        "          2.80000000e-01,   2.80000000e-01,   4.00000000e-01,\n",
        "          1.90000000e+03],\n",
        "       [  1.20000000e+10,   1.00000000e+10,   1.20000000e+10,\n",
        "          1.00000000e+10,   3.80000000e+09,   3.80000000e+09,\n",
        "          5.00000000e-01,   2.80000000e-01,   2.80000000e-01,\n",
        "          1.89000000e+03],\n",
        "       [  2.00000000e+10,   1.00000000e+10,   1.00000000e+10,\n",
        "          7.50000000e+09,   4.00000000e+09,   4.00000000e+09,\n",
        "          5.00000000e-01,   2.80000000e-01,   2.80000000e-01,\n",
        "          1.86000000e+03],\n",
        "       [  5.00000000e+07,   5.00000000e+07,   5.00000000e+07,\n",
        "          1.78570000e+07,   1.78570000e+07,   1.78570000e+07,\n",
        "          4.00000000e-01,   4.00000000e-01,   4.00000000e-01,\n",
        "          8.00000000e+01]])"
       ]
      }
     ],
     "prompt_number": 41
    },
    {
     "cell_type": "markdown",
     "metadata": {},
     "source": [
      "Or if you think that's too much of hasle, you could try to use the Octave to Python bridge"
     ]
    },
    {
     "cell_type": "code",
     "collapsed": false,
     "input": [
      "from oct2py import octave\n",
      "# short hand notation\n",
      "oc = octave.run\n",
      "oc(\"load('utils.mat')\")\n",
      "oc(\"load('constitutive.mat')\")\n",
      "utils        = octave.get('utils')\n",
      "constitutive = octave.get('constitutive')"
     ],
     "language": "python",
     "metadata": {},
     "outputs": [],
     "prompt_number": 42
    },
    {
     "cell_type": "code",
     "collapsed": false,
     "input": [
      "utils['matprops']"
     ],
     "language": "python",
     "metadata": {},
     "outputs": [
      {
       "metadata": {},
       "output_type": "pyout",
       "prompt_number": 46,
       "text": [
        "array([[  4.00000000e+10,   1.00000000e+10,   1.00000000e+10,\n",
        "          4.00000000e+09,   4.00000000e+09,   3.57100000e+09,\n",
        "          2.80000000e-01,   2.80000000e-01,   4.00000000e-01,\n",
        "          1.90000000e+03],\n",
        "       [  1.20000000e+10,   1.00000000e+10,   1.20000000e+10,\n",
        "          1.00000000e+10,   3.80000000e+09,   3.80000000e+09,\n",
        "          5.00000000e-01,   2.80000000e-01,   2.80000000e-01,\n",
        "          1.89000000e+03],\n",
        "       [  2.00000000e+10,   1.00000000e+10,   1.00000000e+10,\n",
        "          7.50000000e+09,   4.00000000e+09,   4.00000000e+09,\n",
        "          5.00000000e-01,   2.80000000e-01,   2.80000000e-01,\n",
        "          1.86000000e+03],\n",
        "       [  5.00000000e+07,   5.00000000e+07,   5.00000000e+07,\n",
        "          1.78570000e+07,   1.78570000e+07,   1.78570000e+07,\n",
        "          4.00000000e-01,   4.00000000e-01,   4.00000000e-01,\n",
        "          8.00000000e+01]])"
       ]
      }
     ],
     "prompt_number": 46
    },
    {
     "cell_type": "code",
     "collapsed": false,
     "input": [],
     "language": "python",
     "metadata": {},
     "outputs": []
    }
   ],
   "metadata": {}
  }
 ]
}