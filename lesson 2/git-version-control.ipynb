{
 "metadata": {
  "name": ""
 },
 "nbformat": 3,
 "nbformat_minor": 0,
 "worksheets": [
  {
   "cells": [
    {
     "cell_type": "heading",
     "level": 1,
     "metadata": {},
     "source": [
      "Version Control with Git"
     ]
    },
    {
     "cell_type": "markdown",
     "metadata": {},
     "source": [
      "Resources:\n",
      "\n",
      "* [Pro Git book, written by Scott Chacon](http://git-scm.com/book) (extensive)\n",
      "* [TortoiseGit](http://code.google.com/p/tortoisegit/): The coolest Interface to Git Version Control. It is a port of TortoiseSVN for Git.\n",
      "* [Git Immersion](http://gitimmersion.com/): Git Immersion is a guided tour that walks through the fundamentals of Git, inspired by the premise that to know a thing is to do it."
     ]
    },
    {
     "cell_type": "heading",
     "level": 2,
     "metadata": {},
     "source": [
      "Github"
     ]
    },
    {
     "cell_type": "markdown",
     "metadata": {},
     "source": [
      "* Extremely popular code sharing platform, and the home of a plethora of open source projects.\n",
      "* Solid tools for software development: issue tracker, milestones, ..."
     ]
    },
    {
     "cell_type": "heading",
     "level": 2,
     "metadata": {},
     "source": [
      "Git: the extreme basics"
     ]
    },
    {
     "cell_type": "markdown",
     "metadata": {},
     "source": [
      "* Decentralised version control system (SVN: centralised)\n",
      "* Git has integrety: everything in Git is check-summed before it is stored and is then referred to by that checksum\n",
      "* When working, all operations are local and are executed fast:\n",
      "    * Local repository: add, commit, branch, merge, checkout"
     ]
    },
    {
     "cell_type": "markdown",
     "metadata": {},
     "source": [
      "![caption](files/git-operations.png)"
     ]
    },
    {
     "cell_type": "markdown",
     "metadata": {},
     "source": [
      "![caption](files/file-status-lifecycle.png)"
     ]
    },
    {
     "cell_type": "markdown",
     "metadata": {},
     "source": [
      "<img src=\"files/git-staging-add-commit.png\" width=\"300\"> <img src=\"files/git-nostaging-commit.png\" width=\"300\">"
     ]
    },
    {
     "cell_type": "markdown",
     "metadata": {},
     "source": [
      "* Retriving changes from a remote repository:\n",
      "    * clone, fetch, merge\n",
      "* Uploading local changes to remote repository:\n",
      "    * push"
     ]
    }
   ],
   "metadata": {}
  }
 ]
}