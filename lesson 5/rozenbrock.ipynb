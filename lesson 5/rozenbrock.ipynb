{
 "metadata": {
  "celltoolbar": "Slideshow",
  "name": ""
 },
 "nbformat": 3,
 "nbformat_minor": 0,
 "worksheets": [
  {
   "cells": [
    {
     "cell_type": "code",
     "collapsed": false,
     "input": [
      "\n",
      "from openmdao.main.api import Component, Assembly, Slot, Case\n",
      "from openmdao.main.datatypes.api import Float, Int\n",
      "from openmdao.util.testutil import assert_rel_error, assert_raises\n",
      "\n",
      "\n",
      "from openmdao.lib.casehandlers.api import DBCaseRecorder, ListCaseRecorder, ListCaseIterator\n",
      "from openmdao.lib.drivers.api import CaseIteratorDriver\n",
      "from openmdao.main.api import Driver\n",
      "from openmdao.lib.casehandlers.dbcase import list_db_vars, case_db_to_dict\n",
      "\n",
      "from openmdao.lib.drivers.api import COBYLAdriver, CONMINdriver, \\\n",
      "        NEWSUMTdriver, SLSQPdriver, Genetic\n",
      "    \n",
      "import os.path as path\n",
      "import pandas as pd"
     ],
     "language": "python",
     "metadata": {
      "slideshow": {
       "slide_type": "slide"
      }
     },
     "outputs": [
      {
       "output_type": "stream",
       "stream": "stdout",
       "text": [
        "\n"
       ]
      }
     ],
     "prompt_number": 48
    },
    {
     "cell_type": "markdown",
     "metadata": {},
     "source": [
      "Some convenient function to manipulate openmdao classes"
     ]
    },
    {
     "cell_type": "code",
     "collapsed": false,
     "input": [
      "def call_func(self, outputs=None, **kwargs):\n",
      "    \"\"\"\n",
      "    Conveniently call the assemblies/component in a functional way.\n",
      "        output1, output2, ... = assembly(['output1', 'output2', ...], input1=val1, input2=val2...)\n",
      "    or:\n",
      "        output1 = assembly('output1', input1=val1, input2=val2...)\n",
      "    or:\n",
      "        assembly = assembly(input1=val1, input2=val2...)\n",
      "\n",
      "    The function will do:\n",
      "        self.input1 = val1\n",
      "        self.input2 = val2\n",
      "        ....\n",
      "        self.execute()\n",
      "        return [self.output1, self.output2,...]\n",
      "    \"\"\"\n",
      "    for k, v in kwargs.iteritems():\n",
      "        if hasattr(self, k):\n",
      "            setattr(self, k, v)\n",
      "            #print k + '=' + str(v)\n",
      "    self.run()\n",
      "    # Prepare outputs\n",
      "    if not outputs:\n",
      "        # Return the object executed that can then be used directly\n",
      "        return self\n",
      "    if isinstance(outputs, str):\n",
      "        outputs_val = getattr(self, outputs)\n",
      "    elif isinstance(outputs, list):\n",
      "        outputs_val = []\n",
      "        for o in outputs:\n",
      "            outputs_val.append(getattr(self, o))\n",
      "    return outputs_val\n",
      "\n",
      "Component.__call__ = call_func\n",
      "Assembly.__call__ = call_func\n",
      "\n",
      "\n",
      "## Transform an openmdao recorder into a pandas dataframe\n",
      "rec2df = lambda rec: pd.DataFrame([[c[k] for k in rec.cases[0].keys()] for c in rec.cases], columns=rec.cases[0].keys())"
     ],
     "language": "python",
     "metadata": {
      "slideshow": {
       "slide_type": "slide"
      }
     },
     "outputs": [
      {
       "ename": "NameError",
       "evalue": "name 'Component' is not defined",
       "output_type": "pyerr",
       "traceback": [
        "\u001b[0;31m---------------------------------------------------------------------------\u001b[0m\n\u001b[0;31mNameError\u001b[0m                                 Traceback (most recent call last)",
        "\u001b[0;32m<ipython-input-1-b39802474c69>\u001b[0m in \u001b[0;36m<module>\u001b[0;34m()\u001b[0m\n\u001b[1;32m     32\u001b[0m     \u001b[0;32mreturn\u001b[0m \u001b[0moutputs_val\u001b[0m\u001b[0;34m\u001b[0m\u001b[0m\n\u001b[1;32m     33\u001b[0m \u001b[0;34m\u001b[0m\u001b[0m\n\u001b[0;32m---> 34\u001b[0;31m \u001b[0mComponent\u001b[0m\u001b[0;34m.\u001b[0m\u001b[0m__call__\u001b[0m \u001b[0;34m=\u001b[0m \u001b[0mcall_func\u001b[0m\u001b[0;34m\u001b[0m\u001b[0m\n\u001b[0m\u001b[1;32m     35\u001b[0m \u001b[0mAssembly\u001b[0m\u001b[0;34m.\u001b[0m\u001b[0m__call__\u001b[0m \u001b[0;34m=\u001b[0m \u001b[0mcall_func\u001b[0m\u001b[0;34m\u001b[0m\u001b[0m\n\u001b[1;32m     36\u001b[0m \u001b[0;34m\u001b[0m\u001b[0m\n",
        "\u001b[0;31mNameError\u001b[0m: name 'Component' is not defined"
       ]
      }
     ],
     "prompt_number": 1
    },
    {
     "cell_type": "markdown",
     "metadata": {
      "slideshow": {
       "slide_type": "slide"
      }
     },
     "source": [
      "The Component: implement the Rosenbrock function: $$f=100 (x2 - x1^2)^2 + (1 - x1)^2$$\n",
      "\n",
      "The Component has two inputs:\n",
      "\n",
      "* x1: a float\n",
      "* x2: a float\n",
      "\n",
      "And one output: \n",
      "\n",
      "* f: a float"
     ]
    },
    {
     "cell_type": "code",
     "collapsed": false,
     "input": [
      "\n",
      "class Rosenbrock(Component):\n",
      "    \"\"\" Standard two-dimensional Rosenbrock function. \"\"\"\n",
      "\n",
      "    x1 = Float(iotype='in')\n",
      "    x2 = Float(iotype='in')\n",
      "    f  = Float(iotype='out')\n",
      "\n",
      "    def execute(self):\n",
      "        \"\"\" Just evaluate the function. \"\"\"\n",
      "        x1 = self.x1\n",
      "        x2 = self.x2\n",
      "        self.f = 100 * (x2 - x1**2)**2 + (1 - x1)**2\n",
      "        "
     ],
     "language": "python",
     "metadata": {
      "slideshow": {
       "slide_type": "fragment"
      }
     },
     "outputs": [],
     "prompt_number": 50
    },
    {
     "cell_type": "code",
     "collapsed": false,
     "input": [
      "## Plotting the contour map\n",
      "def contour_plot(Rosenbrock):\n",
      "    rose = Rosenbrock()\n",
      "    XS, YS = meshgrid(linspace(-2, 2, 20), linspace(-2,2, 20));\n",
      "    ZS = array([rose(x1=x, x2=y).f for x,y in zip(XS.flatten(),YS.flatten())]).reshape(XS.shape);\n",
      "    contourf(XS, YS, ZS, 50);\n",
      "    colorbar()\n",
      "contour_plot(Rosenbrock)    "
     ],
     "language": "python",
     "metadata": {
      "slideshow": {
       "slide_type": "slide"
      }
     },
     "outputs": [
      {
       "metadata": {},
       "output_type": "display_data",
       "png": "[encoded data removed]",
       "text": [
        "<matplotlib.figure.Figure at 0x10b392110>"
       ]
      }
     ],
     "prompt_number": 51
    },
    {
     "cell_type": "markdown",
     "metadata": {
      "slideshow": {
       "slide_type": "slide"
      }
     },
     "source": [
      "Looking at the Assembly structure:\n",
      "\n",
      "![schema](imgs/rozenbrock.png)"
     ]
    },
    {
     "cell_type": "code",
     "collapsed": false,
     "input": [
      "            \n",
      "class Optimization(Assembly):\n",
      "    \n",
      "    def configure(self):\n",
      "        \"\"\" Configure driver and its workflow. \"\"\"\n",
      "        super(Assembly, self).configure()\n",
      "        ## Add some components\n",
      "        self.add('rosenbrock', Rosenbrock())\n",
      "        ## Add an optimizer: COBYLAdriver, CONMINdriver, NEWSUMTdriver, SLSQPdriver, Genetic\n",
      "        self.add('driver', Genetic())         \n",
      "\n",
      "        self.driver.workflow.add('rosenbrock')\n",
      "        \n",
      "        ## The parameters of the optimization\n",
      "        self.driver.add_parameter('rosenbrock.x1', low=-2, high=2, start=-1.0)\n",
      "        self.driver.add_parameter('rosenbrock.x2', low=-2, high=2, start=-2.0)\n",
      "        self.driver.add_objective('rosenbrock.f')\n",
      "        \n",
      "        ## This recorder will create a list of cases\n",
      "        self.driver.recorders = [ListCaseRecorder()]\n",
      "        ## These variables will be recorded\n",
      "        self.driver.printvars = ['rosenbrock.x1','rosenbrock.x2','rosenbrock.f',]\n",
      "\n",
      "        ## Some optimizer options\n",
      "        self.driver.itmax = 300\n",
      "        self.driver.fdch = 0.00001\n",
      "        self.driver.fdchm = 0.000001\n",
      "        self.driver.ctlmin = 0.001\n",
      "        self.driver.delfun = 0.0001\n",
      "        "
     ],
     "language": "python",
     "metadata": {
      "slideshow": {
       "slide_type": "-"
      }
     },
     "outputs": [],
     "prompt_number": 52
    },
    {
     "cell_type": "code",
     "collapsed": false,
     "input": [
      "%%timeit\n",
      "opti = Optimization()\n",
      "# optional here, replace optimizer: COBYLAdriver, CONMINdriver, NEWSUMTdriver, SLSQPdriver, Genetic\n",
      "# opti.replace('driver', COBYLAdriver())\n",
      "opti.run()"
     ],
     "language": "python",
     "metadata": {
      "slideshow": {
       "slide_type": "-"
      }
     },
     "outputs": [
      {
       "output_type": "stream",
       "stream": "stdout",
       "text": [
        "1 loops, best of 3: 2 s per loop\n"
       ]
      }
     ],
     "prompt_number": 53
    },
    {
     "cell_type": "code",
     "collapsed": false,
     "input": [
      "contour_plot(Rosenbrock)\n",
      "\n",
      "## Transform the openmdao recorder into a pandas dataframe\n",
      "df = rec2df(opti.driver.recorders[0])\n",
      "\n",
      "df.plot(x='rosenbrock.x1', y='rosenbrock.x2', marker='x', color='w')\n",
      "df[df['rosenbrock.f']==df['rosenbrock.f'].min()].plot(x='rosenbrock.x1', y='rosenbrock.x2', marker='o', color='r')\n",
      "xlabel('x1'); ylabel('x2')\n",
      "\n",
      "savefig('rosenbrock_optimization.pdf')\n"
     ],
     "language": "python",
     "metadata": {
      "slideshow": {
       "slide_type": "subslide"
      }
     },
     "outputs": [
      {
       "metadata": {},
       "output_type": "display_data",
       "png": "[encoded data removed]",
       "text": [
        "<matplotlib.figure.Figure at 0x10b211550>"
       ]
      }
     ],
     "prompt_number": 54
    },
    {
     "cell_type": "code",
     "collapsed": false,
     "input": [
      "df.describe()"
     ],
     "language": "python",
     "metadata": {
      "slideshow": {
       "slide_type": "slide"
      }
     },
     "outputs": [
      {
       "html": [
        "<div style=\"max-height:1000px;max-width:1500px;overflow:auto;\">\n",
        "<table border=\"1\" class=\"dataframe\">\n",
        "  <thead>\n",
        "    <tr style=\"text-align: right;\">\n",
        "      <th></th>\n",
        "      <th>rosenbrock.x1</th>\n",
        "      <th>rosenbrock.x2</th>\n",
        "      <th>Objective</th>\n",
        "      <th>rosenbrock.f</th>\n",
        "    </tr>\n",
        "  </thead>\n",
        "  <tbody>\n",
        "    <tr>\n",
        "      <th>count</th>\n",
        "      <td> 87.000000</td>\n",
        "      <td> 87.000000</td>\n",
        "      <td>  87.000000</td>\n",
        "      <td>  87.000000</td>\n",
        "    </tr>\n",
        "    <tr>\n",
        "      <th>mean</th>\n",
        "      <td>  0.430390</td>\n",
        "      <td>  0.184903</td>\n",
        "      <td>   6.316422</td>\n",
        "      <td>   6.316422</td>\n",
        "    </tr>\n",
        "    <tr>\n",
        "      <th>std</th>\n",
        "      <td>  0.201764</td>\n",
        "      <td>  0.260158</td>\n",
        "      <td>  44.743707</td>\n",
        "      <td>  44.743707</td>\n",
        "    </tr>\n",
        "    <tr>\n",
        "      <th>min</th>\n",
        "      <td> -0.450469</td>\n",
        "      <td> -1.525872</td>\n",
        "      <td>   0.103758</td>\n",
        "      <td>   0.103758</td>\n",
        "    </tr>\n",
        "    <tr>\n",
        "      <th>25%</th>\n",
        "      <td>  0.333193</td>\n",
        "      <td>  0.098585</td>\n",
        "      <td>   0.173356</td>\n",
        "      <td>   0.173356</td>\n",
        "    </tr>\n",
        "    <tr>\n",
        "      <th>50%</th>\n",
        "      <td>  0.451861</td>\n",
        "      <td>  0.195807</td>\n",
        "      <td>   0.309582</td>\n",
        "      <td>   0.309582</td>\n",
        "    </tr>\n",
        "    <tr>\n",
        "      <th>75%</th>\n",
        "      <td>  0.593876</td>\n",
        "      <td>  0.340988</td>\n",
        "      <td>   0.463755</td>\n",
        "      <td>   0.463755</td>\n",
        "    </tr>\n",
        "    <tr>\n",
        "      <th>max</th>\n",
        "      <td>  0.692676</td>\n",
        "      <td>  0.458849</td>\n",
        "      <td> 402.366477</td>\n",
        "      <td> 402.366477</td>\n",
        "    </tr>\n",
        "  </tbody>\n",
        "</table>\n",
        "<p>8 rows \u00d7 4 columns</p>\n",
        "</div>"
       ],
       "metadata": {},
       "output_type": "pyout",
       "prompt_number": 55,
       "text": [
        "       rosenbrock.x1  rosenbrock.x2   Objective  rosenbrock.f\n",
        "count      87.000000      87.000000   87.000000     87.000000\n",
        "mean        0.430390       0.184903    6.316422      6.316422\n",
        "std         0.201764       0.260158   44.743707     44.743707\n",
        "min        -0.450469      -1.525872    0.103758      0.103758\n",
        "25%         0.333193       0.098585    0.173356      0.173356\n",
        "50%         0.451861       0.195807    0.309582      0.309582\n",
        "75%         0.593876       0.340988    0.463755      0.463755\n",
        "max         0.692676       0.458849  402.366477    402.366477\n",
        "\n",
        "[8 rows x 4 columns]"
       ]
      }
     ],
     "prompt_number": 55
    },
    {
     "cell_type": "markdown",
     "metadata": {
      "slideshow": {
       "slide_type": "slide"
      }
     },
     "source": [
      "Recreating Rosenbrock as an Assembly of two Components:\n",
      "\n",
      "* $x3 = a(x_1, x_2) = 100(x_2-x_1^2)^2$\n",
      "* $f = b(x_1, x_3) = x_3 + (1 - x_1)^2 = b(x_1, a(x_1, x_2))$\n",
      "\n",
      "![](imgs/rosenbrock_2.pnb)"
     ]
    },
    {
     "cell_type": "code",
     "collapsed": false,
     "input": [
      "class A(Component):\n",
      "    x1 = Float(iotype='in')\n",
      "    x2 = Float(iotype='in')\n",
      "    \n",
      "    x3 = Float(iotype='out')\n",
      "    \n",
      "    def execute(self):\n",
      "        self.x3 = 100 * (self.x2 - self.x1**2)**2 \n",
      "        \n",
      "class B(Component):\n",
      "    x1 = Float(iotype='in')\n",
      "    x3 = Float(iotype='in')\n",
      "    \n",
      "    f = Float(iotype='out')\n",
      "    \n",
      "    def execute(self):\n",
      "        self.f = self.x3 + (1 - self.x1)**2\n",
      "    \n",
      "class C(Assembly):\n",
      "    x1 = Float(iotype='in')\n",
      "    x2 = Float(iotype='in')\n",
      "    f = Float(iotype='out')\n",
      "    \n",
      "    def configure(self):\n",
      "        self.add('a', A())\n",
      "        self.add('b', B())\n",
      "        self.add('driver', Driver())\n",
      "        \n",
      "        ## The workflow is sequential: first `a` then `b`\n",
      "        self.driver.workflow.add(['a', 'b'])\n",
      "\n",
      "        ## Connecting the variables between the components and the assembly\n",
      "        self.connect('a.x3', 'b.x3')\n",
      "        self.connect('x1',['a.x1', 'b.x1'])\n",
      "        self.connect('x2','a.x2')\n",
      "        self.connect('b.f','f')        \n",
      "\n",
      "\n",
      "contour_plot(C())"
     ],
     "language": "python",
     "metadata": {
      "slideshow": {
       "slide_type": "slide"
      }
     },
     "outputs": [
      {
       "metadata": {},
       "output_type": "display_data",
       "png": "[encoded data removed]",
       "text": [
        "<matplotlib.figure.Figure at 0x10b330a50>"
       ]
      }
     ],
     "prompt_number": 72
    },
    {
     "cell_type": "markdown",
     "metadata": {},
     "source": [
      "Now that we have recreated Rosenbrock, we can use it in our previous optimization assembly"
     ]
    },
    {
     "cell_type": "code",
     "collapsed": false,
     "input": [
      "opti = Optimization()\n",
      "opti.configure()\n",
      "## We replace the Rosenbrock instance by a C instance\n",
      "opti.replace('rosenbrock', C())\n",
      "opti.replace('driver', COBYLAdriver())\n",
      "opti.execute()\n"
     ],
     "language": "python",
     "metadata": {
      "slideshow": {
       "slide_type": "slide"
      }
     },
     "outputs": [
      {
       "output_type": "stream",
       "stream": "stderr",
       "text": [
        "W:driver:Max. number of function evaluations reached\n"
       ]
      }
     ],
     "prompt_number": 73
    },
    {
     "cell_type": "code",
     "collapsed": false,
     "input": [
      "contour_plot(Rosenbrock)\n",
      "\n",
      "## Transform the openmdao recorder into a pandas dataframe\n",
      "df = rec2df(opti.driver.recorders[0])\n",
      "\n",
      "df.plot(x='rosenbrock.x1', y='rosenbrock.x2', marker='x', color='w')\n",
      "df[df['rosenbrock.f']==df['rosenbrock.f'].min()].plot(x='rosenbrock.x1', y='rosenbrock.x2', marker='o', color='r')\n",
      "xlabel('x1'); ylabel('x2')\n",
      "\n",
      "savefig('rosenbrock_optimization.pdf')"
     ],
     "language": "python",
     "metadata": {
      "slideshow": {
       "slide_type": "slide"
      }
     },
     "outputs": [
      {
       "ename": "NameError",
       "evalue": "name 'contour_plot' is not defined",
       "output_type": "pyerr",
       "traceback": [
        "\u001b[0;31m---------------------------------------------------------------------------\u001b[0m\n\u001b[0;31mNameError\u001b[0m                                 Traceback (most recent call last)",
        "\u001b[0;32m<ipython-input-3-395e150913b9>\u001b[0m in \u001b[0;36m<module>\u001b[0;34m()\u001b[0m\n\u001b[0;32m----> 1\u001b[0;31m \u001b[0mcontour_plot\u001b[0m\u001b[0;34m(\u001b[0m\u001b[0mRosenbrock\u001b[0m\u001b[0;34m)\u001b[0m\u001b[0;34m\u001b[0m\u001b[0m\n\u001b[0m\u001b[1;32m      2\u001b[0m \u001b[0;34m\u001b[0m\u001b[0m\n\u001b[1;32m      3\u001b[0m \u001b[0;31m## Transform the openmdao recorder into a pandas dataframe\u001b[0m\u001b[0;34m\u001b[0m\u001b[0;34m\u001b[0m\u001b[0m\n\u001b[1;32m      4\u001b[0m \u001b[0mdf\u001b[0m \u001b[0;34m=\u001b[0m \u001b[0mrec2df\u001b[0m\u001b[0;34m(\u001b[0m\u001b[0mopti\u001b[0m\u001b[0;34m.\u001b[0m\u001b[0mdriver\u001b[0m\u001b[0;34m.\u001b[0m\u001b[0mrecorders\u001b[0m\u001b[0;34m[\u001b[0m\u001b[0;36m0\u001b[0m\u001b[0;34m]\u001b[0m\u001b[0;34m)\u001b[0m\u001b[0;34m\u001b[0m\u001b[0m\n\u001b[1;32m      5\u001b[0m \u001b[0;34m\u001b[0m\u001b[0m\n",
        "\u001b[0;31mNameError\u001b[0m: name 'contour_plot' is not defined"
       ]
      }
     ],
     "prompt_number": 3
    },
    {
     "cell_type": "code",
     "collapsed": false,
     "input": [],
     "language": "python",
     "metadata": {},
     "outputs": []
    }
   ],
   "metadata": {}
  }
 ]
}