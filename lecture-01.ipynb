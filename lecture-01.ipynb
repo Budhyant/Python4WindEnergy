{
 "metadata": {
  "name": ""
 },
 "nbformat": 3,
 "nbformat_minor": 0,
 "worksheets": [
  {
   "cells": [
    {
     "cell_type": "heading",
     "level": 2,
     "metadata": {
      "slideshow": {
       "slide_type": "slide"
      }
     },
     "source": [
      "Why Python?"
     ]
    },
    {
     "cell_type": "markdown",
     "metadata": {
      "slideshow": {
       "slide_type": "fragment"
      }
     },
     "source": [
      "* Python is a modern, general-purpose, object-oriented, high-level programming language.\n",
      "* **Clean and simple language:** Easy-to-read and intuitive code, easy-to-learn minimalistic syntax, maintainability scales well with size of projects.\n",
      "* **Expressive language:** Fewer lines of code, fewer bugs, easier to maintain.\n",
      "\n",
      "Technical details:\n",
      "\n",
      "* **Dynamically typed:** No need to define the type of variables, function arguments or return types.\n",
      "* **Garbage collection:** No need to explicitly allocate and deallocate memory for variables and data arrays.\n",
      "* **Interpreted:** No need to compile the code. The Python interpreter reads and executes the python code directly.\n",
      "* **Cross platform**\n",
      "\n"
     ]
    },
    {
     "cell_type": "heading",
     "level": 2,
     "metadata": {
      "slideshow": {
       "slide_type": "slide"
      }
     },
     "source": [
      "Python pro's and con's"
     ]
    },
    {
     "cell_type": "markdown",
     "metadata": {
      "slideshow": {
       "slide_type": "-"
      }
     },
     "source": [
      "Advantages:\n",
      "\n",
      "* The main advantage is **ease of programming**, minimizing the time required to develop, debug and maintain the code.\n",
      "* **Well designed language** that encourages many good programming practices:\n",
      "    * **Modular and object-oriented** programming, good system for packaging and re-use of code.\n",
      "    * Documentation tightly integrated with the code.\n",
      "* A **large standard library**, and a large collection of add-on packages.\n",
      "* Interface to many other languages and libraries (no lock-in)\n",
      "\n",
      "Disadvantages:\n",
      "\n",
      "* Since Python is an interpreted and dynamically typed programming language, the execution of python code can be slow compared to compiled statically typed programming languages, such as C and Fortran.\n",
      "* Somewhat decentralized, with different environment, packages and documentation spread out at different places. Can make it harder to get started.\n",
      "* So far there is no equivalent to the Matlab/Simulink combo\n"
     ]
    },
    {
     "cell_type": "markdown",
     "metadata": {
      "slideshow": {
       "slide_type": "slide"
      }
     },
     "source": [
      "What makes python suitable for scientific computing?\n",
      "----------------------------------------------------\n",
      "\n",
      "* Python has a strong position in scientific computing: \n",
      "    * Large community of users, easy to find help and documentation.\n",
      "    * Specialized commercial support available.\n",
      "\n",
      "* Extensive ecosystem of scientific libraries and environments\n",
      "\n",
      "* Great performance due to close integration with time-tested and highly optimized codes written in C and Fortran:\n",
      "    * blas, altas blas, lapack, arpack, Intel MKL, ...\n",
      "\n",
      "* Good support for \n",
      "    * Parallel processing with processes and threads\n",
      "    * Interprocess communication (MPI)\n",
      "    * GPU computing (OpenCL and CUDA)\n",
      "\n",
      "* Readily available and suitable for use on high-performance computing clusters. \n",
      "\n",
      "* Open source:\n",
      "    * no license costs and license server issues.\n",
      "    * open means work can be shared more easily (reproducable science and all that)"
     ]
    },
    {
     "cell_type": "markdown",
     "metadata": {
      "slideshow": {
       "slide_type": "slide"
      }
     },
     "source": [
      "Course Format\n",
      "-------------\n",
      "\n",
      "* Guided self learning\n",
      "* Once every month (this course is a small project with limited resources)\n",
      "* Use the wiki (reading and updating), share experience on the [forum](https://www.campusnet.dtu.dk/conference/index.asp?ElementID=407791) on Campusnet\n",
      "\n",
      "\n",
      "* Establishing a DTU Wind Energy user comminity\n",
      "* Feedback is welcom, are there any special requirements?"
     ]
    },
    {
     "cell_type": "markdown",
     "metadata": {
      "slideshow": {
       "slide_type": "slide"
      }
     },
     "source": [
      "Proposed Future Classes\n",
      "-----------------------\n",
      "\n",
      "* General Python\n",
      "* Core Python modules for scientific use\n",
      "* Developing best practices and tools: documentation generation, code comments, unit testing\n",
      "* Debugging, profiling code\n",
      "* Optimizing code, wrapping C/Fortran\n",
      "* Parallel and concurrency methods in python\n",
      "* Multi-platform GUI programming in python\n",
      "* Virtual environments\n",
      "* Data storage and interfaces: from pickle to database"
     ]
    },
    {
     "cell_type": "markdown",
     "metadata": {
      "slideshow": {
       "slide_type": "slide"
      }
     },
     "source": [
      "Agenda for this class\n",
      "---------------------\n",
      "\n",
      "* General introduction: the scientific Python ecosystem\n",
      "* What about Python 2 and 3?\n",
      "* Three hands on examples on how we use Python\n",
      "* Questions Code Academy exercises\n",
      "* More Code Academy Exercises"
     ]
    },
    {
     "cell_type": "markdown",
     "metadata": {
      "slideshow": {
       "slide_type": "slide"
      }
     },
     "source": [
      "The Python Scientific Ecosystem\n",
      "-------------------------------\n",
      "\n",
      "* Python is managed by the independent Python Software Foundation ([PSF](http://www.python.org/psf/))\n",
      "* The scientific comunity is represented by the [NumFOCUS](http://numfocus.org/) foundation\n",
      "* Conferences:\n",
      "    * [EuroScipy](https://www.euroscipy.org/) 2013: 5 days (tutorials, presentations/posters, sprints), 100 participants\n",
      "    * [Scipy](http://conference.scipy.org/scipy2013/) 2013 (in the US/Canada): 5 days (tutorials, presentations/posters, sprints), 340 participants\n",
      "    * [pyvideo](http://pyvideo.org/): video database of Python talks\n",
      "    * [PyCon](http://pycon.org/): Overview of general Python related conferences\n",
      "* Commerical support and training with a strong focus on the scientific context:\n",
      "    * [Enthought](http://www.enthought.com/)\n",
      "    * [Continuum Analytics](http://continuum.io/)\n",
      "    * [Python Academy](http://www.python-academy.com/)\n",
      "* Used and supported by many major IT companies globaly\n",
      "* Scripting bindings for engineering packages such as Abaqus, Salome-Meca/Code_Aster, OpenFOAM\n",
      "* [SciPy Central](http://scipy-central.org/): aims to be an equivalent to the MATLAB Central repository\n",
      "* [Planet SciPy](http://planet.scipy.org/): aggregator of relevant blogs by developers and companies"
     ]
    },
    {
     "cell_type": "markdown",
     "metadata": {
      "slideshow": {
       "slide_type": "slide"
      }
     },
     "source": [
      "The SciPy Stack: Core Packages\n",
      "----------------------------------------------\n",
      "  \n",
      "  <div>\n",
      "  <ul class=\"thumbnails packageicons\">\n",
      "\n",
      "  <li class=\"span4\">\n",
      "  <div class=\"thumbnail\">\n",
      "  <div class=\"pull-left img\">\n",
      "    <a href=\"http://numpy.scipy.org\">\n",
      "    <img alt=\"numpy\" src=\"files/images/numpylogo_med.png\" width=\"64\">\n",
      "    </a>\n",
      "  </div>\n",
      "  <div class=\"img-label\">\n",
      "    <h4 class=\"media-heading\"><a href=\"http://numpy.scipy.org\">NumPy</a></h4>\n",
      "    Base N-dimensional array package\n",
      "  </div>\n",
      "  </div>\n",
      "  </li>\n",
      "\n",
      "  <li class=\"span4\">\n",
      "  <div class=\"thumbnail\">\n",
      "  <div class=\"pull-left img\">\n",
      "    <a href=\"http://www.scipy.org/scipylib//index.html\">\n",
      "    <img alt=\"scipy\" src=\"files/images/scipy_med.png\" width=\"64\">\n",
      "    </a>\n",
      "  </div>\n",
      "  <div class=\"img-label\">\n",
      "    <h4 class=\"media-heading\"><a href=\"http://www.scipy.org/scipylib/index.html\">SciPy library</a></h4>\n",
      "    Fundamental library for scientific computing\n",
      "  </div>\n",
      "  </div>\n",
      "  </li>\n",
      "\n",
      "  <li class=\"span4\">\n",
      "  <div class=\"thumbnail\">\n",
      "  <div class=\"pull-left img\">\n",
      "    <a href=\"http://matplotlib.org/\">\n",
      "    <img alt=\"matplotlib\" src=\"files/images/matplotlib_med.png\" width=\"64\">\n",
      "    </a>\n",
      "  </div>\n",
      "  <div class=\"img-label\">\n",
      "    <h4 class=\"media-heading\"><a href=\"http://matplotlib.org/\">Matplotlib</a></h4>\n",
      "    Comprehensive 2D Plotting\n",
      "  </div>\n",
      "  </div>\n",
      "  </li>\n",
      "\n",
      "  <li class=\"span4\">\n",
      "  <div class=\"thumbnail\">\n",
      "  <div class=\"pull-left img\">\n",
      "    <a href=\"http://ipython.org\">\n",
      "    <img alt=\"ipython\" src=\"files/images/ipython.png\" width=\"64\">\n",
      "    </a>\n",
      "  </div>\n",
      "  <div class=\"img-label\">\n",
      "    <h4 class=\"media-heading\"><a href=\"http://ipython.org\">IPython</a></h4>\n",
      "    Enhanced Interactive Console\n",
      "  </div>\n",
      "  </div>\n",
      "  </li>\n",
      "\n",
      "  <li class=\"span4\">\n",
      "  <div class=\"thumbnail\">\n",
      "  <div class=\"pull-left img\">\n",
      "    <a href=\"http://sympy.org/\">\n",
      "    <img alt=\"sympy\" src=\"files/images/sympy_logo.png\" width=\"64\">\n",
      "    </a>\n",
      "  </div>\n",
      "  <div class=\"img-label\">\n",
      "    <h4 class=\"media-heading\"><a href=\"http://sympy.org/\">Sympy</a></h4>\n",
      "    Symbolic mathematics\n",
      "  </div>\n",
      "  </div>\n",
      "  </li>\n",
      "\n",
      "  <li class=\"span4\">\n",
      "  <div class=\"thumbnail\">\n",
      "  <div class=\"pull-left img\">\n",
      "    <a href=\"http://pandas.pydata.org/\">\n",
      "    <img alt=\"pandas badge\" src=\"files/images/pandas_badge2.jpg\" width=\"64\">\n",
      "    </a>\n",
      "  </div>\n",
      "  <div class=\"img-label\">\n",
      "    <h4 class=\"media-heading\"><a href=\"http://pandas.pydata.org/\">pandas</a></h4>\n",
      "    Data structures &amp; analysis\n",
      "  </div>\n",
      "  </div>\n",
      "  </li>\n",
      "\n",
      "  </ul>\n",
      "  </div>"
     ]
    },
    {
     "cell_type": "markdown",
     "metadata": {
      "slideshow": {
       "slide_type": "notes"
      }
     },
     "source": [
      "\n",
      "\n",
      "* The SciPy-core-stack\n",
      "    * NumPy: fast multi-dimensional array object. Basis for almost all scientific modules\n",
      "    * SciPy: fundamental library for scientific computing\n",
      "    * Matplolib: publication quality plotting library\n",
      "    * pandas: data structures and data analysis tools, think time series, inspired by R\n",
      "    * IPython: interactive Python shell, notebook\n",
      "    * SymPy: symbolic mathematics, computer algebra system (CAS), think Maple, Mathematica\n",
      "\n"
     ]
    },
    {
     "cell_type": "markdown",
     "metadata": {
      "slideshow": {
       "slide_type": "slide"
      }
     },
     "source": [
      "Other Important Scientific Packages\n",
      "-----------------------------------\n",
      "\n",
      "* cython, numba, scikit-learn, scikit-image, h5py, pytables, Numexpr, mayavi, sphinx\n",
      "\n",
      "Development Tools\n",
      "-----------------\n",
      "\n",
      "* spyder, Eclipse+PyDev, sphinx, pyqt, chaco, traits, VTK, pyopengl, vispy, pygame"
     ]
    },
    {
     "cell_type": "markdown",
     "metadata": {
      "slideshow": {
       "slide_type": "slide"
      }
     },
     "source": [
      "Even More Scientific Packages\n",
      "-----------------------------\n",
      "\n",
      "* Extensive list (but not complete) at: http://www.scipy.org/topical-software.html\n",
      "    * Native Python packages\n",
      "    * Python bindings for libraries written in C, Fortran, C++, Go, Java, MATLAB"
     ]
    },
    {
     "cell_type": "markdown",
     "metadata": {
      "slideshow": {
       "slide_type": "slide"
      }
     },
     "source": [
      "Installing Python\n",
      "-----------------\n",
      "\n",
      "* Distributions (recommended):\n",
      "    * Windows: [WinPython](https://code.google.com/p/winpython/)\n",
      "    * Mac/Linux: [Anaconda](https://store.continuum.io/cshop/anaconda/)\n",
      "* Running a remote IPython notebook in the browser:\n",
      "    * [Wakari](https://wakari.io/)\n",
      "    * [Sage Notebook](http://www.sagenb.org/)\n",
      "    * [SymPy Live](http://live.sympy.org/)\n",
      "* Maintain your own Python installation\n",
      "    * System's package manager, Linux: apt, yum, pacman, Mac: macports\n",
      "    * Python package manager [pip](https://pypi.python.org/pypi/pip/), [easy_install](http://pythonhosted.org/distribute/easy_install.html), relying on the [PyPI](https://pypi.python.org/pypi): the Python Package Index\n",
      "    * Package manager of the Anaconda distribution [conda](https://pypi.python.org/pypi/conda/) relying on the [binstar](https://binstar.org/) repository\n",
      "    * Multiple independent virtual environments"
     ]
    },
    {
     "cell_type": "markdown",
     "metadata": {
      "slideshow": {
       "slide_type": "slide"
      }
     },
     "source": [
      "Python 2 or 3?\n",
      "--------------\n",
      "\n",
      "* Python 3 introduced in December 2008\n",
      "* Python 2 and Python 3 are not compatible\n",
      "* Many scientific packages support Python 3 today, but not all of them yet\n",
      "* If you still dependent on Python 2 packeges, do not use Python 3...yet\n",
      "* New Python development only for 3, it is the future!\n",
      "\n",
      "\n",
      "* Some important differences:\n",
      "    * integer division in Python 2: 11/2 = 5\n",
      "    * integer division in Python 3: 11/2 = 5.5\n",
      "    * strings are ascii in Python 2\n",
      "    * strings are unicode in Python 3\n",
      "    * print statements: \n",
      "```python\n",
      "print \"heho\"\n",
      "print(\"heho\")\n",
      "```\n",
      "\n",
      "* Focus on Python versions 2.7+ and/or 3.3+"
     ]
    },
    {
     "cell_type": "markdown",
     "metadata": {
      "slideshow": {
       "slide_type": "slide"
      }
     },
     "source": [
      "Make Python 2 Scripts Python 3 Compatible\n",
      "-----------------------------------------\n",
      "\n",
      "\n",
      "```python\n",
      "from __future__ import division, print_function, absolute_import, unicode_literals\n",
      "try:\n",
      "    range = xrange\n",
      "    xrange = None\n",
      "except NameError: \n",
      "    pass\n",
      "```\n",
      "\n",
      "Further reading:\n",
      "\n",
      "* [2to3](http://docs.python.org/2/library/2to3.html): automated Python 2 to 3 code translation\n",
      "* [How to Support both Python 2 and 3](http://ondrejcertik.blogspot.dk/2013/08/how-to-support-both-python-2-and-3.html)\n",
      "* [Porting to Python 3: Redux](http://lucumr.pocoo.org/2013/5/21/porting-to-python-3-redux/), which tiggered an insightfull discussion on [Hacker News](https://news.ycombinator.com/item?id=5742482)\n",
      "* example: compatibility layer to support Python 2 and 3 with [Spyder](http://code.google.com/p/spyderlib/source/browse/spyderlib/py3compat.py)"
     ]
    },
    {
     "cell_type": "code",
     "collapsed": false,
     "input": [
      "print len('\u00f8\u00f8')\n",
      "print 4/5"
     ],
     "language": "python",
     "metadata": {},
     "outputs": [
      {
       "output_type": "stream",
       "stream": "stdout",
       "text": [
        "4\n",
        "0\n"
       ]
      }
     ],
     "prompt_number": 1
    },
    {
     "cell_type": "code",
     "collapsed": false,
     "input": [
      "from __future__ import division, print_function, absolute_import, unicode_literals\n",
      "print(len('\u00f8\u00f8'))\n",
      "print(4/5)"
     ],
     "language": "python",
     "metadata": {},
     "outputs": [
      {
       "output_type": "stream",
       "stream": "stdout",
       "text": [
        "2\n",
        "0.8\n"
       ]
      }
     ],
     "prompt_number": 2
    },
    {
     "cell_type": "markdown",
     "metadata": {
      "slideshow": {
       "slide_type": "slide"
      }
     },
     "source": [
      "The End of the Beginning\n",
      "------------------------\n",
      "\n",
      "Some of these slides have been based on the [scientific Python lectures](https://github.com/jrjohansson/scientific-python-lectures) made by J.R. Johansson (robert@riken.jp) http://dml.riken.jp/~rob/"
     ]
    }
   ],
   "metadata": {}
  }
 ]
}