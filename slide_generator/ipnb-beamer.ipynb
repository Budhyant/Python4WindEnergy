{
 "metadata": {
  "name": ""
 },
 "nbformat": 3,
 "nbformat_minor": 0,
 "worksheets": [
  {
   "cells": [
    {
     "cell_type": "code",
     "collapsed": false,
     "input": [
      "from latex_generator.slides import *"
     ],
     "language": "python",
     "metadata": {},
     "outputs": [],
     "prompt_number": 1
    },
    {
     "cell_type": "code",
     "collapsed": false,
     "input": [
      "s = slides(\n",
      "  tex_filename= 'test_slides.tex',\n",
      "  short_title = 'Uncertainty \\& Wake',\n",
      "  title = \"\"\"Evaluation of the Wind Direction Uncertainty And Its Impact on Wake Modelling at the Horns Rev Offshore Wind Farm\"\"\",\n",
      "  date = 'Windpower Monthly\\'s Wind Farm Data \\\\\\\\ Management and Analysis forum \\\\\\\\ 23-25 September',\n",
      "  author = \"Pierre-Elouan R\\\\'{e}thor\\\\'{e}*, Mathieu Gaumond, Andreas Bechmann, Kurt Hansen, Alfredo Pena, S\\\\o{}ren Ott, Gunner Larsen\",\n",
      "  short_author = \"P.-E. R\\\\'{e}thor\\\\'{e}\",\n",
      "  institute = \"Aero-elastic Section, Wind Energy Department, DTU, Ris\\\\o{}\"\n",
      ")"
     ],
     "language": "python",
     "metadata": {},
     "outputs": [],
     "prompt_number": 2
    },
    {
     "cell_type": "code",
     "collapsed": false,
     "input": [
      "s.f('This is a title', itemize(['item1', 'item2'], ['1-','2-']))\n",
      "\n",
      "s.f('This is a title', itemize(['item1', 'item2']))\n",
      "s.f('Tables', centered(table(zeros([5,3]), xlabel=['a','b','c'], ylabel=['l0','l1','l2','l3','l4'])))\n",
      "\n"
     ],
     "language": "python",
     "metadata": {},
     "outputs": [],
     "prompt_number": 3
    },
    {
     "cell_type": "code",
     "collapsed": false,
     "input": [
      "s.compile()"
     ],
     "language": "python",
     "metadata": {},
     "outputs": [],
     "prompt_number": 4
    },
    {
     "cell_type": "code",
     "collapsed": false,
     "input": [
      "%debug"
     ],
     "language": "python",
     "metadata": {},
     "outputs": [
      {
       "output_type": "stream",
       "stream": "stdout",
       "text": [
        "> \u001b[0;32m/Users/pire/git/Python4WindEnergy/slide_generator/latex_generator/report.py\u001b[0m(256)\u001b[0;36menv_latex\u001b[0;34m()\u001b[0m\n",
        "\u001b[0;32m    255 \u001b[0;31m    \"\"\"\n",
        "\u001b[0m\u001b[0;32m--> 256 \u001b[0;31m    \u001b[0;32mreturn\u001b[0m \u001b[0;34m'\\\\begin{'\u001b[0m \u001b[0;34m+\u001b[0m \u001b[0menv\u001b[0m \u001b[0;34m+\u001b[0m \u001b[0;34m'}'\u001b[0m \u001b[0;34m+\u001b[0m \u001b[0;34m'\\n'\u001b[0m \u001b[0;34m+\u001b[0m \u001b[0mtostr\u001b[0m\u001b[0;34m(\u001b[0m\u001b[0mstring\u001b[0m\u001b[0;34m)\u001b[0m \u001b[0;34m+\u001b[0m \u001b[0;34m'\\n'\u001b[0m \u001b[0;34m+\u001b[0m \u001b[0;34m'\\\\end{'\u001b[0m \u001b[0;34m+\u001b[0m \u001b[0menv\u001b[0m \u001b[0;34m+\u001b[0m \u001b[0;34m'}'\u001b[0m \u001b[0;34m+\u001b[0m \u001b[0;34m'\\n'\u001b[0m\u001b[0;34m\u001b[0m\u001b[0m\n",
        "\u001b[0m\u001b[0;32m    257 \u001b[0;31m\u001b[0;34m\u001b[0m\u001b[0m\n",
        "\u001b[0m\n"
       ]
      },
      {
       "name": "stdout",
       "output_type": "stream",
       "stream": "stdout",
       "text": [
        "ipdb> string\n"
       ]
      },
      {
       "output_type": "stream",
       "stream": "stdout",
       "text": [
        "[u'\\\\item<1-> None', u'\\\\item<2-> None']\n"
       ]
      },
      {
       "name": "stdout",
       "output_type": "stream",
       "stream": "stdout",
       "text": [
        "ipdb> tostr(string)\n"
       ]
      },
      {
       "name": "stdout",
       "output_type": "stream",
       "stream": "stdout",
       "text": [
        "ipdb> exit\n"
       ]
      }
     ]
    },
    {
     "cell_type": "code",
     "collapsed": false,
     "input": [
      "\n"
     ],
     "language": "python",
     "metadata": {},
     "outputs": [
      {
       "ename": "TypeError",
       "evalue": "table() takes exactly 0 arguments (3 given)",
       "output_type": "pyerr",
       "traceback": [
        "\u001b[0;31m---------------------------------------------------------------------------\u001b[0m\n\u001b[0;31mTypeError\u001b[0m                                 Traceback (most recent call last)",
        "\u001b[0;32m<ipython-input-2-e073ca739269>\u001b[0m in \u001b[0;36m<module>\u001b[0;34m()\u001b[0m\n\u001b[1;32m      1\u001b[0m \u001b[0ma\u001b[0m \u001b[0;34m=\u001b[0m \u001b[0mzeros\u001b[0m\u001b[0;34m(\u001b[0m\u001b[0;34m[\u001b[0m\u001b[0;36m5\u001b[0m\u001b[0;34m,\u001b[0m\u001b[0;36m3\u001b[0m\u001b[0;34m]\u001b[0m\u001b[0;34m)\u001b[0m\u001b[0;34m\u001b[0m\u001b[0m\n\u001b[1;32m      2\u001b[0m \u001b[0;32mprint\u001b[0m \u001b[0ma\u001b[0m\u001b[0;34m\u001b[0m\u001b[0m\n\u001b[0;32m----> 3\u001b[0;31m \u001b[0;32mprint\u001b[0m \u001b[0mtable\u001b[0m\u001b[0;34m(\u001b[0m\u001b[0ma\u001b[0m\u001b[0;34m,\u001b[0m \u001b[0mxlabel\u001b[0m\u001b[0;34m=\u001b[0m\u001b[0;34m[\u001b[0m\u001b[0;34m'a'\u001b[0m\u001b[0;34m,\u001b[0m\u001b[0;34m'b'\u001b[0m\u001b[0;34m,\u001b[0m\u001b[0;34m'c'\u001b[0m\u001b[0;34m]\u001b[0m\u001b[0;34m,\u001b[0m \u001b[0mylabel\u001b[0m\u001b[0;34m=\u001b[0m\u001b[0;34m[\u001b[0m\u001b[0;34m'l0'\u001b[0m\u001b[0;34m,\u001b[0m\u001b[0;34m'l1'\u001b[0m\u001b[0;34m,\u001b[0m\u001b[0;34m'l2'\u001b[0m\u001b[0;34m,\u001b[0m\u001b[0;34m'l3'\u001b[0m\u001b[0;34m,\u001b[0m\u001b[0;34m'l4'\u001b[0m\u001b[0;34m]\u001b[0m\u001b[0;34m)\u001b[0m\u001b[0;34m\u001b[0m\u001b[0m\n\u001b[0m",
        "\u001b[0;31mTypeError\u001b[0m: table() takes exactly 0 arguments (3 given)"
       ]
      },
      {
       "output_type": "stream",
       "stream": "stdout",
       "text": [
        "[[ 0.  0.  0.]\n",
        " [ 0.  0.  0.]\n",
        " [ 0.  0.  0.]\n",
        " [ 0.  0.  0.]\n",
        " [ 0.  0.  0.]]\n"
       ]
      }
     ],
     "prompt_number": 2
    },
    {
     "cell_type": "code",
     "collapsed": false,
     "input": [],
     "language": "python",
     "metadata": {},
     "outputs": [],
     "prompt_number": 14
    },
    {
     "cell_type": "code",
     "collapsed": false,
     "input": [
      "print table(a, xlabel=['a','b','c'], ylabel=['l0','l1','l2','l3','l4'])"
     ],
     "language": "python",
     "metadata": {},
     "outputs": [
      {
       "output_type": "stream",
       "stream": "stdout",
       "text": [
        "\n",
        "\\begin{tabular}{| c | c | c | c |}\n",
        "\\hline\n",
        " & a & b & c\\hline \\\\\n",
        "l0 & 0.0 & 0.0 & 0.0\\hline \\\\\n",
        "l1 & 0.0 & 0.0 & 0.0\\hline \\\\\n",
        "l2 & 0.0 & 0.0 & 0.0\\hline \\\\\n",
        "l3 & 0.0 & 0.0 & 0.0\\hline \\\\\n",
        "l4 & 0.0 & 0.0 & 0.0\\hline \\\\\n",
        "\n",
        "\\hline\n",
        "\\end{tabular}\n",
        "\n"
       ]
      }
     ],
     "prompt_number": 11
    },
    {
     "cell_type": "code",
     "collapsed": false,
     "input": [
      "%debug"
     ],
     "language": "python",
     "metadata": {},
     "outputs": [
      {
       "output_type": "stream",
       "stream": "stdout",
       "text": [
        "\n",
        "KeyboardInterrupt\n",
        "> \u001b[0;32m<ipython-input-14-d21e28431670>\u001b[0m(13)\u001b[0;36m__init__\u001b[0;34m()\u001b[0m\n",
        "\u001b[0;32m     12 \u001b[0;31m        \u001b[0;32mfor\u001b[0m \u001b[0mr\u001b[0m \u001b[0;32min\u001b[0m \u001b[0mrange\u001b[0m\u001b[0;34m(\u001b[0m\u001b[0mmatrix\u001b[0m\u001b[0;34m.\u001b[0m\u001b[0mshape\u001b[0m\u001b[0;34m[\u001b[0m\u001b[0;36m0\u001b[0m\u001b[0;34m]\u001b[0m\u001b[0;34m)\u001b[0m\u001b[0;34m:\u001b[0m\u001b[0;34m\u001b[0m\u001b[0m\n",
        "\u001b[0m\u001b[0;32m---> 13 \u001b[0;31m            \u001b[0mself\u001b[0m\u001b[0;34m.\u001b[0m\u001b[0madd\u001b[0m\u001b[0;34m(\u001b[0m\u001b[0;34m' & '\u001b[0m\u001b[0;34m.\u001b[0m\u001b[0mjoin\u001b[0m\u001b[0;34m(\u001b[0m\u001b[0mmatrix\u001b[0m\u001b[0;34m[\u001b[0m\u001b[0mr\u001b[0m\u001b[0;34m,\u001b[0m\u001b[0;34m:\u001b[0m\u001b[0;34m]\u001b[0m\u001b[0;34m.\u001b[0m\u001b[0mtolist\u001b[0m\u001b[0;34m(\u001b[0m\u001b[0;34m)\u001b[0m\u001b[0;34m)\u001b[0m\u001b[0;34m)\u001b[0m\u001b[0;34m\u001b[0m\u001b[0m\n",
        "\u001b[0m\u001b[0;32m     14 \u001b[0;31m            \u001b[0mself\u001b[0m\u001b[0;34m.\u001b[0m\u001b[0madd\u001b[0m\u001b[0;34m(\u001b[0m\u001b[0;34m'\\\\hline \\\\\\\\'\u001b[0m\u001b[0;34m)\u001b[0m\u001b[0;34m\u001b[0m\u001b[0m\n",
        "\u001b[0m\n"
       ]
      },
      {
       "name": "stdout",
       "output_type": "stream",
       "stream": "stdout",
       "text": [
        "ipdb> exit\n"
       ]
      },
      {
       "output_type": "stream",
       "stream": "stdout",
       "text": [
        "> \u001b[0;32m<ipython-input-14-d21e28431670>\u001b[0m(13)\u001b[0;36m__init__\u001b[0;34m()\u001b[0m\n",
        "\u001b[0;32m     12 \u001b[0;31m        \u001b[0;32mfor\u001b[0m \u001b[0mr\u001b[0m \u001b[0;32min\u001b[0m \u001b[0mrange\u001b[0m\u001b[0;34m(\u001b[0m\u001b[0mmatrix\u001b[0m\u001b[0;34m.\u001b[0m\u001b[0mshape\u001b[0m\u001b[0;34m[\u001b[0m\u001b[0;36m0\u001b[0m\u001b[0;34m]\u001b[0m\u001b[0;34m)\u001b[0m\u001b[0;34m:\u001b[0m\u001b[0;34m\u001b[0m\u001b[0m\n",
        "\u001b[0m\u001b[0;32m---> 13 \u001b[0;31m            \u001b[0mself\u001b[0m\u001b[0;34m.\u001b[0m\u001b[0madd\u001b[0m\u001b[0;34m(\u001b[0m\u001b[0;34m' & '\u001b[0m\u001b[0;34m.\u001b[0m\u001b[0mjoin\u001b[0m\u001b[0;34m(\u001b[0m\u001b[0mmatrix\u001b[0m\u001b[0;34m[\u001b[0m\u001b[0mr\u001b[0m\u001b[0;34m,\u001b[0m\u001b[0;34m:\u001b[0m\u001b[0;34m]\u001b[0m\u001b[0;34m.\u001b[0m\u001b[0mtolist\u001b[0m\u001b[0;34m(\u001b[0m\u001b[0;34m)\u001b[0m\u001b[0;34m)\u001b[0m\u001b[0;34m)\u001b[0m\u001b[0;34m\u001b[0m\u001b[0m\n",
        "\u001b[0m\u001b[0;32m     14 \u001b[0;31m            \u001b[0mself\u001b[0m\u001b[0;34m.\u001b[0m\u001b[0madd\u001b[0m\u001b[0;34m(\u001b[0m\u001b[0;34m'\\\\hline \\\\\\\\'\u001b[0m\u001b[0;34m)\u001b[0m\u001b[0;34m\u001b[0m\u001b[0m\n",
        "\u001b[0m\n"
       ]
      },
      {
       "name": "stdout",
       "output_type": "stream",
       "stream": "stdout",
       "text": [
        "ipdb> exit\n"
       ]
      }
     ],
     "prompt_number": 19
    },
    {
     "cell_type": "markdown",
     "metadata": {},
     "source": [
      "Slide example"
     ]
    },
    {
     "cell_type": "code",
     "collapsed": false,
     "input": [],
     "language": "python",
     "metadata": {},
     "outputs": []
    },
    {
     "cell_type": "code",
     "collapsed": false,
     "input": [
      "%run wind_power_monthly.py"
     ],
     "language": "python",
     "metadata": {},
     "outputs": [],
     "prompt_number": 5
    },
    {
     "cell_type": "code",
     "collapsed": false,
     "input": [
      "!open report.pdf"
     ],
     "language": "python",
     "metadata": {},
     "outputs": [],
     "prompt_number": 6
    },
    {
     "cell_type": "markdown",
     "metadata": {},
     "source": [
      "Some plots regarging the presentation"
     ]
    },
    {
     "cell_type": "code",
     "collapsed": false,
     "input": [
      "HR_Coordinates = array([[423974,  6151447], [424033,  6150889], [424092,  6150332], [424151,  6149774], [424210,  6149216], [424268,  6148658], [424327,  6148101], [424386,  6147543], [424534,  6151447], [424593,  6150889], [424652,  6150332], [424711,  6149774], [424770,  6149216], [424829,  6148658], [424888,  6148101], [424947,  6147543], [425094,  6151447], [425153,  6150889], [425212,  6150332], [425271,  6149774], [425330,  6149216], [425389,  6148658], [425448,  6148101], [425507,  6147543], [425654,  6151447], [425713,  6150889], [425772,  6150332], [425831,  6149774], [425890,  6149216], [425950,  6148659], [426009,  6148101], [426068,  6147543], [426214,  6151447], [426273,  6150889], [426332,  6150332], [426392,  6149774], [426451,  6149216], [426510,  6148659], [426569,  6148101], [426628,  6147543], [426774,  6151447], [426833,  6150889], [426892,  6150332], [426952,  6149774], [427011,  6149216], [427070,  6148659], [427129,  6148101], [427189,  6147543], [427334,  6151447], [427393,  6150889], [427453,  6150332], [427512,  6149774], [427571,  6149216], [427631,  6148659], [427690,  6148101], [427749,  6147543], [427894,  6151447], [427953,  6150889], [428013,  6150332], [428072,  6149774], [428132,  6149216], [428191,  6148659], [428250,  6148101], [428310,  6147543], [428454,  6151447], [428513,  6150889], [428573,  6150332], [428632,  6149774], [428692,  6149216], [428751,  6148659], [428811,  6148101], [428870,  6147543], [429014,  6151447], [429074,  6150889], [429133,  6150332], [429193,  6149774], [429252,  6149216], [429312,  6148659], [429371,  6148101], [429431,  6147543]])\n",
      "M2_Coordinates = array([423412, 6153342])\n",
      "hr_rel_c = HR_Coordinates - M2_Coordinates\n",
      "dist_m2 = array([sqrt(hr_rel_c[c,0]**2.0 + hr_rel_c[c,1]**2.0) for c in range(hr_rel_c.shape[0])]).reshape([10,8])\n",
      "plot(HR_Coordinates[:,0], HR_Coordinates[:,1],'.')\n",
      "plot(M2_Coordinates[0], M2_Coordinates[1],'o');\n",
      "text(M2_Coordinates[0]+100, M2_Coordinates[1]+100,'M2', fontsize=16);\n",
      "savefig('Horns_rev_M2.pdf')"
     ],
     "language": "python",
     "metadata": {},
     "outputs": [
      {
       "metadata": {},
       "output_type": "display_data",
       "png": "[encoded data removed]",
       "text": [
        "<matplotlib.figure.Figure at 0x10fdf3710>"
       ]
      }
     ],
     "prompt_number": 52
    },
    {
     "cell_type": "code",
     "collapsed": false,
     "input": [
      "stdev = array(\n",
      "        [[2.8,2.4,3.1,3.0,3.6,3.5,3.6,3.7,3.7,3.9],\n",
      "\t\t [3.1,3.2,3.1,3.2,3.3,3.6,3.7,3.7,3.8,4.1],\n",
      "\t\t [2.9,2.9,3.3,5.5,0.0,3.7,3.7,3.9,4.1,4.2],\n",
      "\t\t [3.2,3.4,3.6,3.4,3.9,3.8,5.9,3.7,4.1,4.4],\n",
      "\t\t [3.8,3.6,3.7,3.9,3.0,3.7,4.1,4.1,4.3,4.7],\n",
      "\t\t [6.1,3.6,3.8,3.9,4.0,4.1,4.2,4.4,4.4,4.8],\n",
      "\t\t [4.2,3.9,4.3,4.0,4.8,4.4,4.3,4.4,4.6,4.7],\n",
      "\t\t [4.2,4.3,4.4,4.4,4.5,4.7,4.7,4.6,5.1,4.9]]).T\n",
      "\n",
      "x, y, z = HR_Coordinates[:,0], HR_Coordinates[:,1], stdev.flatten()\n",
      "xc = x[(z<5) & (z>1)]\n",
      "yc = y[(z<5) & (z>1)]\n",
      "zc = z[(z<5) & (z>1)]\n",
      "distc = dist_m2.flatten()[(z<5) & (z>1)]\n"
     ],
     "language": "python",
     "metadata": {},
     "outputs": [],
     "prompt_number": 41
    },
    {
     "cell_type": "code",
     "collapsed": false,
     "input": [
      "plot(dist_m2.flatten(), stdev.flatten(),'.', label='data')\n",
      "\n",
      "### Function calculating the linear regression\n",
      "def regress(dist, zo, text):\n",
      "    di = zip(dist, ones([len(dist)]))\n",
      "    w = linalg.lstsq(di, zo)[0]\n",
      "    xi = linspace(0,10000)\n",
      "    line = w[0]*xi+w[1]\n",
      "    plot(xi, line, '-', label=text+'y = %4.2e x + %4.2f'%(w[0], w[1]))\n",
      "\n",
      "regress(distc, zc, '')\n",
      "#regress(dist_m2.flatten(), stdev.flatten(), 'Filtered')    \n",
      "\n",
      "fs =16\n",
      "xlabel('Distance from M2 [m]', fontsize=fs);\n",
      "ylabel('std(M2-NPM) [$^\\circ$]', fontsize=fs);\n",
      "legend(loc=3, fontsize=fs);\n",
      "savefig('std_increase.pdf')"
     ],
     "language": "python",
     "metadata": {},
     "outputs": [
      {
       "metadata": {},
       "output_type": "display_data",
       "png": "[encoded data removed]",
       "text": [
        "<matplotlib.figure.Figure at 0x10fda2610>"
       ]
      }
     ],
     "prompt_number": 53
    },
    {
     "cell_type": "code",
     "collapsed": false,
     "input": [],
     "language": "python",
     "metadata": {},
     "outputs": []
    }
   ],
   "metadata": {}
  }
 ]
}