{
 "metadata": {
  "name": ""
 },
 "nbformat": 3,
 "nbformat_minor": 0,
 "worksheets": [
  {
   "cells": [
    {
     "cell_type": "markdown",
     "metadata": {},
     "source": [
      "Enable the inline preview of the slides. It generate a pdf with all the previous slides, and show the last one. So it can become pretty slow at some point."
     ]
    },
    {
     "cell_type": "code",
     "collapsed": false,
     "input": [
      "inline_slides = False"
     ],
     "language": "python",
     "metadata": {},
     "outputs": [],
     "prompt_number": 140
    },
    {
     "cell_type": "code",
     "collapsed": false,
     "input": [
      "import sys\n",
      "import os\n",
      "from IPython.display import Image\n",
      "#sys.path.append('/Users/pire/git/Python4WindEnergy/slide_generator/')\n",
      "from latex_generator.slides import *\n",
      "\n",
      "### Don't forget to use 2 \\\\ if you want to have 1 \\ in your .tex file!\n",
      "\n",
      "s = slides(\n",
      "  tex_filename= 'WP1_20140120_Rethore.tex',\n",
      "  short_title = 'WP1',\n",
      "  title = \"Transfer of knowledge from WP1 to WP4 \\\\& WP5\",\n",
      "  date = 'Trondheim meeting \\\\\\\\ 21 January 2014',\n",
      "  author= \"Pierre-Elouan R\\\\'{e}thor\\\\'{e}*\",\n",
      "  short_author = \"P.-E. R\\\\'{e}thor\\\\'{e}\",\n",
      "  institute = \"Aero-elastic Section, Wind Energy Department, DTU, Ris\\\\o{}\"\n",
      ")\n",
      "\n",
      "#f = lambda *args, **kwargs: s.f(*args, **kwargs)\n",
      "def f(*args, **kwargs): \n",
      "    s.f(*args, **kwargs)\n",
      "    if inline_slides:\n",
      "        return show_last(s)\n",
      "        \n",
      "def show_last(s):\n",
      "    s.compile()       \n",
      "    ## Convert the pdf into png files\n",
      "    commands.getoutput('rm single*png; /usr/local/bin/convert -density 100 ' + s.pdf_filename + ' single.png')\n",
      "    ## Get the last slide image\n",
      "    fis = filter(lambda x: x.find('png')>-1, os.listdir('.'))\n",
      "    sl = sort(map(lambda x: int(x[x.find('-')+1:x.find('.png')]), fis))\n",
      "    print 'single-%d.png'%(sl[-1])\n",
      "    ## You might not want the retina option to be true, if you have a retarded computer.\n",
      "    return Image(filename='single-%d.png'%(sl[-1]), retina=True) \n"
     ],
     "language": "python",
     "metadata": {},
     "outputs": [],
     "prompt_number": 141
    },
    {
     "cell_type": "markdown",
     "metadata": {},
     "source": [
      "Sections create a table of content slide each time you call them"
     ]
    },
    {
     "cell_type": "code",
     "collapsed": false,
     "input": [
      "s.section('Introduction')\n",
      "\n",
      "show_last(s)"
     ],
     "language": "python",
     "metadata": {},
     "outputs": [
      {
       "output_type": "stream",
       "stream": "stdout",
       "text": [
        "single-1.png\n"
       ]
      },
      {
       "metadata": {
        "png": {
         "height": 189,
         "width": 252
        }
       },
       "output_type": "pyout",
       "png": "[encoded data removed]",
       "prompt_number": 142,
       "text": [
        "<IPython.core.display.Image at 0x104f95790>"
       ]
      }
     ],
     "prompt_number": 142
    },
    {
     "cell_type": "markdown",
     "metadata": {},
     "source": [
      "Subsections appear as a main title in the frame, and the frame title is a subtitle. If you don't generate the slides in orders, the title might get fucked up because of the previous subsection defined in another cell.\n",
      "\n",
      "The body of the slide can be formated with some very simple markdown itemization"
     ]
    },
    {
     "cell_type": "code",
     "collapsed": false,
     "input": [
      "s.subsection('Background')\n",
      "f('Status',\"\"\"\n",
      "* WP1 is finished\n",
      "* We have benchmarked the different available methods to model wind farm clusters\n",
      "* We haven't formally decided which methods should be used:\n",
      "\tWe haven't focussed on the \"user friendliness\" \n",
      "\t  (e.g. does the user have to be an expert, does the model run on \n",
      "\t   a single PC, how long time does the model run)\n",
      "\n",
      "\"\"\")"
     ],
     "language": "python",
     "metadata": {},
     "outputs": [],
     "prompt_number": 143
    },
    {
     "cell_type": "markdown",
     "metadata": {},
     "source": [
      "**+** are creating boxes"
     ]
    },
    {
     "cell_type": "code",
     "collapsed": false,
     "input": [
      "f('T1.1 Wind farm scale wake models',\"\"\"\n",
      "* All the benchmarks are finished. Kurt Hansen is presenting the Lillgrund results at Deepwind conference this week.\n",
      "* The uncertainty quantification part is put on hold to follow the recommendations of WakeBench\n",
      "* DTU has hired a new PhD student working on uncertainty quantification of wind farm flow models. \n",
      "  The outcome of the PhD work will be disseminated to EERA-DTOC and WakeBench.\n",
      "\n",
      "+ WP1 -> WP4\n",
      "\t* Which microscale model to run?\n",
      "\t* How to run the microscale wake models?\n",
      "\n",
      "+ WP1 -> WP5 \n",
      "\t* The LIDAR measurements\n",
      "\t* Roedsand 2 dataset\n",
      "\t* Running the scenarios\n",
      "\"\"\")\n"
     ],
     "language": "python",
     "metadata": {},
     "outputs": [],
     "prompt_number": 144
    },
    {
     "cell_type": "code",
     "collapsed": false,
     "input": [
      "a = random.random([5,3])\n",
      "print a\n",
      "print \n",
      "\n",
      "s.section('Some results')\n",
      "s.subsection('Cluster stuff')\n",
      "f('T1.2 Cluster scale wake models',[\"\"\"\n",
      "* The benchmarks have been formally reported.\n",
      "\n",
      "* The satelite pictures have been identified and are being processed. \n",
      "  We should be able to have scenarios based on those measurements to test the models.\n",
      "\n",
      "+ WP1 -> WP4\n",
      "\t* Which mesoscale model to run (WRF-DTU or WRF-Ciemat)?\n",
      "\t* How to run the mesoscale models? Which parameters etc..\n",
      "\"\"\",\n",
      "block(centered(table(a, xlabel=['a','b','c'], ylabel=['l0','l1','l2','l3','l4'])),\n",
      "      title='Caption')\n",
      "])\n"
     ],
     "language": "python",
     "metadata": {},
     "outputs": [
      {
       "output_type": "stream",
       "stream": "stdout",
       "text": [
        "[[ 0.96789453  0.17483054  0.89258567]\n",
        " [ 0.6240565   0.79416063  0.59110962]\n",
        " [ 0.77938136  0.92496864  0.60427891]\n",
        " [ 0.0230522   0.99935151  0.70717905]\n",
        " [ 0.86030047  0.04803153  0.11276176]]\n",
        "\n"
       ]
      }
     ],
     "prompt_number": 145
    },
    {
     "cell_type": "markdown",
     "metadata": {},
     "source": [
      "Let's generate a plot to include it in the following slide"
     ]
    },
    {
     "cell_type": "code",
     "collapsed": false,
     "input": [
      "x = linspace(0, 100)\n",
      "y = sqrt(x)\n",
      "plot(x,y)\n",
      "savefig('myfig.pdf')"
     ],
     "language": "python",
     "metadata": {},
     "outputs": [
      {
       "metadata": {},
       "output_type": "display_data",
       "png": "[encoded data removed]",
       "text": [
        "<matplotlib.figure.Figure at 0x104f95c90>"
       ]
      }
     ],
     "prompt_number": 146
    },
    {
     "cell_type": "markdown",
     "metadata": {},
     "source": [
      "To add a centered figure, just use the `cfig` function inside the text.\n",
      "Note that the string in the body of the slide can also be a list of strings"
     ]
    },
    {
     "cell_type": "code",
     "collapsed": false,
     "input": [
      "f('T1.3 Coupling',[\"\"\"\n",
      "\n",
      "+ WP1 -> WP4\n",
      "\t* How to connect the wind farm scale wake models to the cluster scale wake models?\n",
      "\t\t* Which information is needed from the mircroscale models?\n",
      "\t\t\t* Thrust value of each wind turbine\n",
      "\t\t* Which information is needed from the mesoscale models?\n",
      "\t\t\t* A local wind resource estimate (e.g. wind rose) at each wind turbine position\n",
      "\n",
      "\"\"\",\n",
      "  cfig('myfig.pdf', width=u'0.5\\\\textwidth')]\n",
      "  )\n"
     ],
     "language": "python",
     "metadata": {},
     "outputs": [],
     "prompt_number": 147
    },
    {
     "cell_type": "markdown",
     "metadata": {},
     "source": [
      "Let's make a retarded animation"
     ]
    },
    {
     "cell_type": "code",
     "collapsed": false,
     "input": [
      "x = linspace(0,4*pi,100)\n",
      "for n in range(4):\n",
      "    plot(x, sin(n*x))\n",
      "    savefig('anim-%d.pdf'%(n))"
     ],
     "language": "python",
     "metadata": {},
     "outputs": [
      {
       "metadata": {},
       "output_type": "display_data",
       "png": "[encoded data removed]",
       "text": [
        "<matplotlib.figure.Figure at 0x1050355d0>"
       ]
      }
     ],
     "prompt_number": 148
    },
    {
     "cell_type": "markdown",
     "metadata": {},
     "source": [
      "You can make loops around frames, and add the images with the loop number. They won't show inline unfortunately."
     ]
    },
    {
     "cell_type": "code",
     "collapsed": false,
     "input": [
      "for n in range(4):\n",
      "    f('T1.3 Coupling',[\"\"\"\n",
      "\n",
      "+ WP1 -> WP4\n",
      "\t* How to connect the wind farm scale wake models to the cluster scale wake models?\n",
      "\t\t* Which information is needed from the mircroscale models?\n",
      "\t\t\t* Thrust value of each wind turbine\n",
      "\t\t* Which information is needed from the mesoscale models?\n",
      "\t\t\t* A local wind resource estimate (e.g. wind rose) at each wind turbine position\n",
      "\n",
      "\"\"\",\n",
      "  cfig('anim-%d.pdf'%(n), width=u'0.5\\\\textwidth')]\n",
      "  )\n"
     ],
     "language": "python",
     "metadata": {},
     "outputs": [],
     "prompt_number": 149
    },
    {
     "cell_type": "markdown",
     "metadata": {},
     "source": [
      "You can have some columns as well"
     ]
    },
    {
     "cell_type": "code",
     "collapsed": false,
     "input": [
      "f('T1.3 Coupling',[\"\"\"\n",
      "\n",
      "+ WP1 -> WP4\n",
      "\t* How to connect the wind farm scale wake models to the cluster scale wake models?\n",
      "\t\t* Which information is needed from the mircroscale models?\n",
      "\t\t\t* Thrust value of each wind turbine\n",
      "\t\t* Which information is needed from the mesoscale models?\n",
      "\t\t\t* A local wind resource estimate (e.g. wind rose) at each wind turbine position\n",
      "\"\"\", \n",
      "columns([\n",
      "\"\"\"\n",
      "+ WP1 -> WP5\n",
      "\t* Roedsand 2 dataset to validate the couple use of the tool\n",
      "\"\"\",\n",
      "cfig('myfig.pdf', width=u'\\\\textwidth')\n",
      "])\n",
      "]\n",
      ")\n"
     ],
     "language": "python",
     "metadata": {},
     "outputs": [],
     "prompt_number": 150
    },
    {
     "cell_type": "markdown",
     "metadata": {},
     "source": [
      "At the end of the document you can compile the whole tex file and open the pdf. If you have run the cells several times, everything is going to be messed up. You should therefore only run this cell by doing a `cell/run all` to regenerate all the cells. Don't forget to desactivate the `inline_slide` to save some time."
     ]
    },
    {
     "cell_type": "code",
     "collapsed": false,
     "input": [
      "s.compile()\n",
      "commands.getoutput('open '+s.pdf_filename)"
     ],
     "language": "python",
     "metadata": {},
     "outputs": [
      {
       "metadata": {},
       "output_type": "pyout",
       "prompt_number": 151,
       "text": [
        "''"
       ]
      }
     ],
     "prompt_number": 151
    },
    {
     "cell_type": "code",
     "collapsed": false,
     "input": [],
     "language": "python",
     "metadata": {},
     "outputs": [],
     "prompt_number": 151
    }
   ],
   "metadata": {}
  }
 ]
}