{
 "metadata": {
  "name": ""
 },
 "nbformat": 3,
 "nbformat_minor": 0,
 "worksheets": [
  {
   "cells": [
    {
     "cell_type": "code",
     "collapsed": false,
     "input": [
      "from report import *\n"
     ],
     "language": "python",
     "metadata": {},
     "outputs": [],
     "prompt_number": 2
    },
    {
     "cell_type": "code",
     "collapsed": false,
     "input": [
      "a = report('article.tex')\n",
      "a.template = load_str('article_template.tex')\n",
      "a.author=\"P.-E. R\\\\'e{}thor\\\\'e{}\"\n",
      "a.keywords='Wind Turbines, Actuator Disc, Wind Farm Wake'\n",
      "t = lambda x: a.addl(x)"
     ],
     "language": "python",
     "metadata": {},
     "outputs": [],
     "prompt_number": 4
    },
    {
     "cell_type": "code",
     "collapsed": false,
     "input": [
      "a.section('Introduction')\n",
      "t(\"\"\"During recent years, wind energy has moved from an emerging \n",
      "technology to become a nearly competitive technology with \n",
      "conventional energy sources.\n",
      "An increased proportion of the turbines to be installed in \n",
      "the future, are foreseen to be sited in large wind farms. \n",
      "Establishment of large wind farms requires enormous investments, \n",
      "putting steadily greater emphasis on optimal topology layout.\n",
      "Today, the design of a wind farm is typically based on an \n",
      "optimization of the power output only, whereas the load aspect\n",
      "is treated in a rudimentary manner only, in the sense that the \n",
      "wind turbines are required only to comply with the design codes.\"\"\")\n",
      "\n"
     ],
     "language": "python",
     "metadata": {},
     "outputs": [],
     "prompt_number": 5
    },
    {
     "cell_type": "code",
     "collapsed": false,
     "input": [
      "a.compile()"
     ],
     "language": "python",
     "metadata": {},
     "outputs": [],
     "prompt_number": 6
    },
    {
     "cell_type": "code",
     "collapsed": false,
     "input": [
      "!open article.pdf"
     ],
     "language": "python",
     "metadata": {},
     "outputs": [],
     "prompt_number": 4
    },
    {
     "cell_type": "code",
     "collapsed": false,
     "input": [],
     "language": "python",
     "metadata": {},
     "outputs": [
      {
       "metadata": {},
       "output_type": "pyout",
       "prompt_number": 5,
       "text": [
        "'\\n\\n\\\\documentclass[times]{weauth}\\n\\\\usepackage[english]{babel}\\n\\\\usepackage{psfrag,pstricks}\\n\\\\usepackage{graphicx} \\n\\\\usepackage[numbers,sort&compress]{natbib}\\n\\\\usepackage{mathrsfs}\\n\\\\usepackage{eurosym}\\n\\\\usepackage{nomencl}\\n\\\\usepackage{subfig}\\n\\n%%% Official wind energy parameters\\n\\\\usepackage{moreverb}\\n\\\\usepackage{color}\\n\\\\usepackage[dvips,colorlinks,bookmarksopen,bookmarksnumbered,citecolor=red,urlcolor=red]{hyperref}\\n\\\\newcommand\\\\BibTeX{{\\\\rmfamily B\\\\kern-.05em \\\\textsc{i\\\\kern-.025em b}\\\\kern-.08em\\nT\\\\kern-.1667em\\\\lower.7ex\\\\hbox{E}\\\\kern-.125emX}}\\n\\n\\\\def\\\\volumeyear{2012}\\n\\n\\n\\\\def\\\\baselinestretch{2} \\n\\n\\n\\\\renewcommand*\\\\familydefault{\\\\sfdefault}\\n\\\\usepackage{textcomp}\\n\\\\makenomenclature \\n\\\\begin{document}\\n\\\\runningheads{#running_heads1#}{#running_heads2#}\\n\\\\articletype{RESEARCH ARTICLE}\\n\\\\title{#title#}\\n%\\\\itshape{\\\\journalnamelc}\\\\footnotemark[2]}\\n\\\\author{#author#}\\n\\\\address{#address#}\\n\\\\corraddr{#coaddress#}\\n\\n\\\\begin{abstract}\\n#abstract#\\n\\\\end{abstract}\\n\\n\\\\keywords{Wind Farm Layout Optimization, Wind Farm Siting, Dynamic Wake Meandering, Foundation Cost, Optimization, Wind Farm Wake, Electrical Grid Cost}\\n\\\\maketitle\\n\\n%%%%%%%%%%%%%%%%%% Main Document %%%%%%%%%%%%%%%%%%%%%\\n#doc_main#\\n\\n\\\\end{document}'"
       ]
      }
     ],
     "prompt_number": 5
    },
    {
     "cell_type": "code",
     "collapsed": false,
     "input": [
      "'hello'.upper()"
     ],
     "language": "python",
     "metadata": {},
     "outputs": [
      {
       "metadata": {},
       "output_type": "pyout",
       "prompt_number": 4,
       "text": [
        "'HELLO'"
       ]
      }
     ],
     "prompt_number": 4
    },
    {
     "cell_type": "code",
     "collapsed": false,
     "input": [],
     "language": "python",
     "metadata": {},
     "outputs": []
    }
   ],
   "metadata": {}
  }
 ]
}