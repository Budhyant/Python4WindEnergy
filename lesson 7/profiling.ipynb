{
 "metadata": {
  "name": "",
  "signature": "sha256:bb31b9b3c821500bcdf5c3419ce464f4f67473b4ab9a5e9c740016ce3f170fbb"
 },
 "nbformat": 3,
 "nbformat_minor": 0,
 "worksheets": [
  {
   "cells": [
    {
     "cell_type": "heading",
     "level": 2,
     "metadata": {},
     "source": [
      "Profiling"
     ]
    },
    {
     "cell_type": "heading",
     "level": 3,
     "metadata": {},
     "source": [
      "Profiling with python command line"
     ]
    },
    {
     "cell_type": "code",
     "collapsed": false,
     "input": [
      "%%writefile my_code.py\n",
      "from time import sleep\n",
      "\n",
      "def stupid_func(a):\n",
      "    \"\"\"\n",
      "    Stupid function that sleep for 0.01sec and return the parameter squared\n",
      "    \n",
      "    Parameter\n",
      "    ---------\n",
      "    a      float\n",
      "           a number you want to square\n",
      "           \n",
      "    Returns\n",
      "    -------\n",
      "    b      float\n",
      "           b = a**2\n",
      "        \n",
      "    Example\n",
      "    -------\n",
      "    >>> stupid_func(2.)\n",
      "    4.0\n",
      "    \n",
      "    \"\"\"\n",
      "    sleep(0.01)\n",
      "    return a**2.\n",
      "\n",
      "def run_100_times():\n",
      "    \"\"\"Runs that stupid_func 100 times\"\"\"\n",
      "    for i in range(100):\n",
      "        stupid_func(i)\n",
      "        \n",
      "if __name__ == \"__main__\":\n",
      "    run_100_times()    \n"
     ],
     "language": "python",
     "metadata": {},
     "outputs": [
      {
       "output_type": "stream",
       "stream": "stdout",
       "text": [
        "Overwriting my_code.py\n"
       ]
      }
     ],
     "prompt_number": 15
    },
    {
     "cell_type": "code",
     "collapsed": false,
     "input": [
      "!python -m cProfile -s time my_code.py"
     ],
     "language": "python",
     "metadata": {},
     "outputs": [
      {
       "output_type": "stream",
       "stream": "stdout",
       "text": [
        "         204 function calls in 1.055 seconds\r\n",
        "\r\n",
        "   Ordered by: internal time\r\n",
        "\r\n",
        "   ncalls  tottime  percall  cumtime  percall filename:lineno(function)\r\n",
        "      100    1.051    0.011    1.051    0.011 {time.sleep}\r\n",
        "        1    0.002    0.002    1.055    1.055 my_code.py:1(<module>)\r\n",
        "      100    0.001    0.000    1.052    0.011 my_code.py:3(stupid_func)\r\n",
        "        1    0.001    0.001    1.053    1.053 my_code.py:26(run_100_times)\r\n",
        "        1    0.000    0.000    0.000    0.000 {range}\r\n",
        "        1    0.000    0.000    0.000    0.000 {method 'disable' of '_lsprof.Profiler' objects}\r\n",
        "\r\n",
        "\r\n"
       ]
      }
     ],
     "prompt_number": 2
    },
    {
     "cell_type": "markdown",
     "metadata": {},
     "source": [
      "Note that the cumulated time of the program should be 100*0.01 = 1.0 sec, because of the overhead of python (and especially the profiler) it's a bit longer.\n",
      "Note that the function `my_code.py:3(stupid_func)` is run 100 times."
     ]
    },
    {
     "cell_type": "heading",
     "level": 3,
     "metadata": {},
     "source": [
      "Profiling within a script"
     ]
    },
    {
     "cell_type": "code",
     "collapsed": false,
     "input": [
      "import cProfile, pstats, StringIO\n",
      "from my_code import run_100_times\n",
      "\n",
      "pr = cProfile.Profile()\n",
      "pr.enable()\n",
      "\n",
      "run_100_times()  \n",
      "\n",
      "pr.disable()\n",
      "s = StringIO.StringIO()\n",
      "ps = pstats.Stats(pr, stream=s).sort_stats('tottime')\n",
      "ps.print_stats()\n",
      "print s.getvalue()\n"
     ],
     "language": "python",
     "metadata": {},
     "outputs": [
      {
       "output_type": "stream",
       "stream": "stdout",
       "text": [
        "         219 function calls in 1.055 seconds\n",
        "\n",
        "   Ordered by: internal time\n",
        "\n",
        "   ncalls  tottime  percall  cumtime  percall filename:lineno(function)\n",
        "      100    1.053    0.011    1.053    0.011 {time.sleep}\n",
        "      100    0.001    0.000    1.054    0.011 my_code.py:3(stupid_func)\n",
        "        1    0.001    0.001    1.055    1.055 my_code.py:26(run_100_times)\n",
        "        2    0.000    0.000    0.000    0.000 {compile}\n",
        "        2    0.000    0.000    1.055    0.528 /Users/pire/venv/openmdao/lib/python2.7/site-packages/IPython/core/interactiveshell.py:2854(run_code)\n",
        "        2    0.000    0.000    0.000    0.000 /opt/local/Library/Frameworks/Python.framework/Versions/2.7/lib/python2.7/codeop.py:132(__call__)\n",
        "        2    0.000    0.000    0.000    0.000 /Users/pire/venv/openmdao/lib/python2.7/site-packages/IPython/core/hooks.py:127(__call__)\n",
        "        2    0.000    0.000    0.000    0.000 /Users/pire/venv/openmdao/lib/python2.7/site-packages/IPython/utils/ipstruct.py:125(__getattr__)\n",
        "        1    0.000    0.000    1.055    1.055 <ipython-input-13-39b01f33649a>:7(<module>)\n",
        "        1    0.000    0.000    0.000    0.000 <ipython-input-13-39b01f33649a>:9(<module>)\n",
        "        1    0.000    0.000    0.000    0.000 {range}\n",
        "        1    0.000    0.000    0.000    0.000 {method 'disable' of '_lsprof.Profiler' objects}\n",
        "        2    0.000    0.000    0.000    0.000 /Users/pire/venv/openmdao/lib/python2.7/site-packages/IPython/core/interactiveshell.py:1055(user_global_ns)\n",
        "        2    0.000    0.000    0.000    0.000 /Users/pire/venv/openmdao/lib/python2.7/site-packages/IPython/core/hooks.py:192(pre_run_code_hook)\n",
        "\n",
        "\n",
        "\n"
       ]
      }
     ],
     "prompt_number": 13
    },
    {
     "cell_type": "heading",
     "level": 3,
     "metadata": {},
     "source": [
      "Profiling in ipython\n"
     ]
    },
    {
     "cell_type": "markdown",
     "metadata": {},
     "source": [
      "You just need to use the magic line function `%prun` or cell function `%%prun`\n"
     ]
    },
    {
     "cell_type": "code",
     "collapsed": false,
     "input": [
      "%prun run_100_times()"
     ],
     "language": "python",
     "metadata": {},
     "outputs": [
      {
       "output_type": "stream",
       "stream": "stdout",
       "text": [
        " "
       ]
      }
     ],
     "prompt_number": 8
    },
    {
     "cell_type": "code",
     "collapsed": false,
     "input": [
      "%%prun\n",
      "for i in range(100):\n",
      "    stupid_func(i)"
     ],
     "language": "python",
     "metadata": {},
     "outputs": [
      {
       "output_type": "stream",
       "stream": "stdout",
       "text": [
        " "
       ]
      }
     ],
     "prompt_number": 9
    },
    {
     "cell_type": "code",
     "collapsed": false,
     "input": [
      "%prun %run my_code.py"
     ],
     "language": "python",
     "metadata": {},
     "outputs": [
      {
       "output_type": "stream",
       "stream": "stdout",
       "text": [
        " "
       ]
      }
     ],
     "prompt_number": 10
    },
    {
     "cell_type": "heading",
     "level": 2,
     "metadata": {},
     "source": [
      "Reference material:"
     ]
    },
    {
     "cell_type": "markdown",
     "metadata": {},
     "source": [
      "* High Performance Computing Tutorial: (Speeding up Python, Cython, Numba, MPI4py, Ipython parallelization)\n",
      "    * Github: https://github.com/pyhpc/pyhpc-tutorial\n",
      "    * Notebooks: http://nbviewer.ipython.org/github/pyHPC/pyhpc-tutorial/tree/master/notebooks/\n",
      "* F2PY (wrapping fortran code into python modules):\n",
      "    * Software carpentry bootcamp: https://github.com/pyHPC/boot-camps/tree/master/python/f2py\n",
      "* Unit testing:\n",
      "    * Software carpentry defensive programming ipython notebook: http://nbviewer.ipython.org/urls/raw2.github.com/geocarpentry/2014-01-30-mit/gh-pages/python/intermediate/05-qa.ipynb\n",
      "    * Documentation and Testing notebook from Jake Vanderplas : http://nbviewer.ipython.org/github/jakevdp/2013_fall_ASTR599/blob/master/notebooks/20_DocsAndTesting.ipynb"
     ]
    },
    {
     "cell_type": "code",
     "collapsed": false,
     "input": [],
     "language": "python",
     "metadata": {},
     "outputs": []
    }
   ],
   "metadata": {}
  }
 ]
}