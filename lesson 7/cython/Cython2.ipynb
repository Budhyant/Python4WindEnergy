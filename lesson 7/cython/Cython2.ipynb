{
 "metadata": {
  "name": ""
 },
 "nbformat": 3,
 "nbformat_minor": 0,
 "worksheets": [
  {
   "cells": [
    {
     "cell_type": "markdown",
     "metadata": {},
     "source": [
      "#Cython 2\n",
      "Since the Cython notebook was created, the module, `cython_import` has been updated, extended and renamed to `cython_compile`\n",
      "\n",
      "It can be used similar to `cython_import` but in addition it can be invoked via a pythonic decorator syntax.\n",
      "\n",
      "Futhermore an experimental autodeclaration wrapper has been added"
     ]
    },
    {
     "cell_type": "markdown",
     "metadata": {},
     "source": [
      "###Python implementation"
     ]
    },
    {
     "cell_type": "code",
     "collapsed": false,
     "input": [
      "p = 32416190071 # large prime"
     ],
     "language": "python",
     "metadata": {},
     "outputs": [],
     "prompt_number": 5
    },
    {
     "cell_type": "code",
     "collapsed": false,
     "input": [
      "import math\n",
      "def pycheck(p):\n",
      "    for y in xrange(2, int(math.sqrt(p)) + 1):\n",
      "        if p % y == 0:\n",
      "            return False\n",
      "    return True\n",
      "%timeit pycheck(p)\n"
     ],
     "language": "python",
     "metadata": {},
     "outputs": [
      {
       "output_type": "stream",
       "stream": "stdout",
       "text": [
        "10 loops, best of 3: 44 ms per loop\n"
       ]
      }
     ],
     "prompt_number": 6
    },
    {
     "cell_type": "markdown",
     "metadata": {},
     "source": [
      "### Cython implementation in external module"
     ]
    },
    {
     "cell_type": "markdown",
     "metadata": {},
     "source": [
      "Check the module cycheck.py\n",
      "\n",
      "It contains three functions\n",
      "- cycheck: similar to pycheck above\n",
      "- cycheck_pure: similar to cycheck, but with `pure` variable declarations\n",
      "- cycheck_cdef: similar to cycheck, but with `cdef` variable delcarations\n",
      "\n",
      "Run the script below and notice the difference"
     ]
    },
    {
     "cell_type": "code",
     "collapsed": false,
     "input": [
      "from cython_compile import cython_import\n",
      "cython_import('cycheck')\n",
      "import cycheck\n",
      "\n",
      "%timeit pycheck(p)\n",
      "%timeit cycheck.cycheck(p)\n",
      "%timeit cycheck.cycheck_pure(p)\n",
      "%timeit cycheck.cycheck_cdef(p)"
     ],
     "language": "python",
     "metadata": {},
     "outputs": [
      {
       "output_type": "stream",
       "stream": "stdout",
       "text": [
        "10 loops, best of 3: 43.8 ms per loop\n",
        "10 loops, best of 3: 37.8 ms per loop"
       ]
      },
      {
       "output_type": "stream",
       "stream": "stdout",
       "text": [
        "\n",
        "1000 loops, best of 3: 1.31 ms per loop"
       ]
      },
      {
       "output_type": "stream",
       "stream": "stdout",
       "text": [
        "\n",
        "1000 loops, best of 3: 1.31 ms per loop"
       ]
      },
      {
       "output_type": "stream",
       "stream": "stdout",
       "text": [
        "\n"
       ]
      }
     ],
     "prompt_number": 7
    },
    {
     "cell_type": "markdown",
     "metadata": {},
     "source": [
      "So far the module is similar to the previous `cython_import` module, but in the next section the difference will become clear"
     ]
    },
    {
     "cell_type": "markdown",
     "metadata": {},
     "source": [
      "##Python function with decorator"
     ]
    },
    {
     "cell_type": "markdown",
     "metadata": {},
     "source": [
      "###No declarations"
     ]
    },
    {
     "cell_type": "code",
     "collapsed": false,
     "input": [
      "from cython_compile import cython_compile\n",
      "\n",
      "@cython_compile\n",
      "def pycheck(p):\n",
      "    import math\n",
      "    for y in xrange(2, int(math.sqrt(p)) + 1):\n",
      "        if p % y == 0:\n",
      "            return False\n",
      "    return True\n",
      "%timeit pycheck(p)"
     ],
     "language": "python",
     "metadata": {},
     "outputs": [
      {
       "output_type": "stream",
       "stream": "stdout",
       "text": [
        "compiling ipythoninput8b8c820fa671b_pycheck: python.exe setup.py build_ext --inplace --compiler=mingw32\n",
        "Compiling succeeded"
       ]
      },
      {
       "output_type": "stream",
       "stream": "stdout",
       "text": [
        "\n",
        "1 loops, best of 3: 38.2 ms per loop"
       ]
      },
      {
       "output_type": "stream",
       "stream": "stdout",
       "text": [
        "\n"
       ]
      }
     ],
     "prompt_number": 8
    },
    {
     "cell_type": "markdown",
     "metadata": {},
     "source": [
      "###Pure declarations"
     ]
    },
    {
     "cell_type": "code",
     "collapsed": false,
     "input": [
      "import cython\n",
      "from cython_compile import cython_compile\n",
      "\n",
      "@cython_compile\n",
      "@cython.ccall\n",
      "@cython.locals(y=cython.int, p=cython.ulonglong)\n",
      "def pycheck_pure(p):\n",
      "    import math\n",
      "    for y in xrange(2, int(math.sqrt(p)) + 1):\n",
      "        if p % y == 0:\n",
      "            return False\n",
      "    return True\n",
      "%timeit pycheck_pure(p)"
     ],
     "language": "python",
     "metadata": {},
     "outputs": [
      {
       "output_type": "stream",
       "stream": "stdout",
       "text": [
        "compiling ipythoninput9572b104157e1_pycheck_pure: python.exe setup.py build_ext --inplace --compiler=mingw32\n",
        "Compiling succeeded"
       ]
      },
      {
       "output_type": "stream",
       "stream": "stdout",
       "text": [
        "\n",
        "1 loops, best of 3: 1.36 ms per loop\n"
       ]
      }
     ],
     "prompt_number": 9
    },
    {
     "cell_type": "markdown",
     "metadata": {},
     "source": [
      "###cdef declarations"
     ]
    },
    {
     "cell_type": "code",
     "collapsed": false,
     "input": [
      "from cython_compile import cython_compile\n",
      "\n",
      "@cython_compile\n",
      "def pycheck_cdef(p):  #cpdef pycheck_cdef(unsigned long long p):\n",
      "    import math\n",
      "    #cdef int y\n",
      "    for y in xrange(2, int(math.sqrt(p)) + 1):\n",
      "        if p % y == 0:\n",
      "            return False\n",
      "    return True\n",
      "%timeit pycheck_cdef(p)"
     ],
     "language": "python",
     "metadata": {},
     "outputs": [
      {
       "output_type": "stream",
       "stream": "stdout",
       "text": [
        "compiling ipythoninput10a0fe4c6a4ab1_pycheck_cdef: python.exe setup.py build_ext --inplace --compiler=mingw32\n",
        "Compiling succeeded"
       ]
      },
      {
       "output_type": "stream",
       "stream": "stdout",
       "text": [
        "\n",
        "1 loops, best of 3: 1.35 ms per loop\n"
       ]
      }
     ],
     "prompt_number": 10
    },
    {
     "cell_type": "markdown",
     "metadata": {},
     "source": [
      "###Auto declarations\n",
      "A bit slower because p is declared as `long long` instead of `unsigned long long`"
     ]
    },
    {
     "cell_type": "code",
     "collapsed": false,
     "input": [
      "from cython_compile import cython_compile_autodeclare\n",
      "@cython_compile_autodeclare\n",
      "def pycheck(p):\n",
      "    import math\n",
      "    for y in xrange(2, int(math.sqrt(p)) + 1):\n",
      "        if p % y == 0:\n",
      "            return False\n",
      "    return True\n",
      "%timeit pycheck(17)\n"
     ],
     "language": "python",
     "metadata": {},
     "outputs": [
      {
       "output_type": "stream",
       "stream": "stdout",
       "text": [
        "compiling ipythoninput11e49677a00e7c_pycheck: python.exe setup.py build_ext --inplace --compiler=mingw32\n",
        "Compiling succeeded"
       ]
      },
      {
       "output_type": "stream",
       "stream": "stdout",
       "text": [
        "\n",
        "1 loops, best of 3: 108 \u00b5s per loop\n"
       ]
      }
     ],
     "prompt_number": 11
    },
    {
     "cell_type": "code",
     "collapsed": false,
     "input": [],
     "language": "python",
     "metadata": {},
     "outputs": []
    }
   ],
   "metadata": {}
  }
 ]
}