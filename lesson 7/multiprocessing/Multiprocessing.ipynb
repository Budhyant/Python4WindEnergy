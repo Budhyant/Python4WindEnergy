{
 "metadata": {
  "name": ""
 },
 "nbformat": 3,
 "nbformat_minor": 0,
 "worksheets": [
  {
   "cells": [
    {
     "cell_type": "code",
     "collapsed": false,
     "input": [
      "import math\n",
      "\n",
      "def pycheck_opt(p):\n",
      "    for y in range(2,int(math.sqrt(p))+1):\n",
      "        if p%y==0:\n",
      "            return None\n",
      "    return p\n",
      "\n",
      "def primes(n):\n",
      "    lst = [pycheck_opt(x) for x in range(2, n)]\n",
      "    return  len([v for v in lst if v])\n"
     ],
     "language": "python",
     "metadata": {},
     "outputs": []
    },
    {
     "cell_type": "code",
     "collapsed": false,
     "input": [
      "%%file mp.py\n",
      "import multiprocessing\n",
      "import os\n",
      "import math\n",
      "import sys\n",
      "\n",
      "def pycheck_opt(p):\n",
      "    for y in range(2,int(math.sqrt(p))+1):\n",
      "        if p%y==0:\n",
      "            return None\n",
      "    return p\n",
      "\n",
      "\n",
      "if __name__ == \"__main__\":\n",
      "    pool = multiprocessing.Pool(processes=4)\n",
      "    lst = pool.map(pycheck_opt, range(2,int(sys.argv[1]))).get()\n",
      "    print len([v for v in lst if v])"
     ],
     "language": "python",
     "metadata": {},
     "outputs": []
    },
    {
     "cell_type": "code",
     "collapsed": false,
     "input": [
      "import subprocess\n",
      "def run(script_file):\n",
      "    print subprocess.Popen('python %s' % script_file, stdout=subprocess.PIPE).communicate()[0]"
     ],
     "language": "python",
     "metadata": {},
     "outputs": []
    },
    {
     "cell_type": "code",
     "collapsed": false,
     "input": [
      "n = 1000\n",
      "print primes(n)\n",
      "run('mp.py %s'%n)"
     ],
     "language": "python",
     "metadata": {},
     "outputs": []
    },
    {
     "cell_type": "code",
     "collapsed": false,
     "input": [
      "n = 10000\n",
      "%timeit primes(n)\n",
      "%timeit run('mp.py %s'%n)"
     ],
     "language": "python",
     "metadata": {},
     "outputs": []
    },
    {
     "cell_type": "code",
     "collapsed": false,
     "input": [
      "n = 1000000\n",
      "%timeit primes(n)\n",
      "%timeit run('mp.py %s'%n)"
     ],
     "language": "python",
     "metadata": {},
     "outputs": []
    },
    {
     "cell_type": "code",
     "collapsed": false,
     "input": [],
     "language": "python",
     "metadata": {},
     "outputs": []
    }
   ],
   "metadata": {}
  }
 ]
}