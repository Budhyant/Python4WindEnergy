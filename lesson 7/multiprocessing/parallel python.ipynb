{
 "metadata": {
  "name": ""
 },
 "nbformat": 3,
 "nbformat_minor": 0,
 "worksheets": [
  {
   "cells": [
    {
     "cell_type": "markdown",
     "metadata": {},
     "source": [
      "This notebook is almost copy/paste from the first part of: http://nbviewer.ipython.org/github/vals/scilife-python-course/blob/master/parallel%20python.ipynb"
     ]
    },
    {
     "cell_type": "markdown",
     "metadata": {},
     "source": [
      "# Parallel computing with Python\n",
      "\n",
      "## `multiprocessing`\n",
      "\n",
      "The built in module `multiprocessing` provides functionality to create _processes_ which runs given tasks.\n",
      "\n",
      "http://docs.python.org/2/library/multiprocessing.html\n",
      "\n",
      "All strategies for paralleliztion has a rathe large overhead compared to lower level languages such as C or FORTRAN.\n",
      "\n",
      "The way `multiprocessing` runs code in parallel is by launching subprocesses with a seperate interpretor for for each process. This means that in order to gain speed the computation we want to perform should be relatively substantial.\n",
      "\n",
      "(In case you are familiar with threads: It should be noted that Python has a `threading` module for working with threads, however, all threads will be run on a single CPU.)\n",
      "\n",
      "Byt using multiprocessing we can utilize the machines we are running code on more efficiently"
     ]
    },
    {
     "cell_type": "code",
     "collapsed": false,
     "input": [
      "import multiprocessing"
     ],
     "language": "python",
     "metadata": {},
     "outputs": [],
     "prompt_number": 1
    },
    {
     "cell_type": "code",
     "collapsed": false,
     "input": [
      "multiprocessing.cpu_count()"
     ],
     "language": "python",
     "metadata": {},
     "outputs": [
      {
       "metadata": {},
       "output_type": "pyout",
       "prompt_number": 2,
       "text": [
        "8"
       ]
      }
     ],
     "prompt_number": 2
    },
    {
     "cell_type": "markdown",
     "metadata": {},
     "source": [
      "Before talking about some more advanced featuers, let's describe the most typical use pattern of `multiprocessing`.\n",
      "\n",
      "Note: `multiprocessing` _can_ be used in the IPython Notebook, but there are sometimes issues with printing from subprocesses. To make things clearer and avoid complications we shall run external scripts in stead."
     ]
    },
    {
     "cell_type": "markdown",
     "metadata": {},
     "source": [
      "### `Process`\n",
      "Processes share nothing\n",
      "\n",
      "To spawn a process, initiate it with a target function and call the `.start()` method.\n",
      "\n",
      "This method will arrange things so that given code will be run in a seperate process from the parent process. To get the parent process to wait until a process has finished before moving on one need to call the `.join()` method."
     ]
    },
    {
     "cell_type": "code",
     "collapsed": false,
     "input": [
      "import os\n",
      "os.getpid()"
     ],
     "language": "python",
     "metadata": {},
     "outputs": [
      {
       "metadata": {},
       "output_type": "pyout",
       "prompt_number": 3,
       "text": [
        "4608"
       ]
      }
     ],
     "prompt_number": 3
    },
    {
     "cell_type": "code",
     "collapsed": false,
     "input": [
      "%%file mp.py\n",
      "from multiprocessing import Process\n",
      "import os\n",
      "\n",
      "def worker():\n",
      "    print(\"Worker process {}\".format(os.getpid()))\n",
      "\n",
      "if __name__ == \"__main__\":\n",
      "    proc1 = Process(target=worker)\n",
      "    proc1.start()\n",
      "    proc2 = Process(target=worker)\n",
      "    proc2.start()"
     ],
     "language": "python",
     "metadata": {},
     "outputs": [
      {
       "output_type": "stream",
       "stream": "stdout",
       "text": [
        "Writing mp.py\n"
       ]
      }
     ],
     "prompt_number": 4
    },
    {
     "cell_type": "code",
     "collapsed": false,
     "input": [
      "import subprocess\n",
      "def run(script_file):\n",
      "    print subprocess.Popen('python %s' % script_file, stdout=subprocess.PIPE).communicate()[0]"
     ],
     "language": "python",
     "metadata": {},
     "outputs": [],
     "prompt_number": 4
    },
    {
     "cell_type": "code",
     "collapsed": false,
     "input": [
      "run('mp.py')"
     ],
     "language": "python",
     "metadata": {},
     "outputs": [
      {
       "output_type": "stream",
       "stream": "stdout",
       "text": [
        "Worker process 4364, argument was 11\r\n",
        "Worker process 6844, argument was 10\r\n",
        "\n"
       ]
      }
     ],
     "prompt_number": 5
    },
    {
     "cell_type": "markdown",
     "metadata": {},
     "source": [
      "To get the target function to actually work on some input, you need to provide the arguments in the constructur of the `Process`."
     ]
    },
    {
     "cell_type": "code",
     "collapsed": false,
     "input": [
      "%%file mp.py\n",
      "from multiprocessing import Process\n",
      "import os\n",
      "\n",
      "def worker(arg):\n",
      "    print(\"Worker process {}, argument was {}\".format(os.getpid(), arg))\n",
      "\n",
      "if __name__ == \"__main__\":\n",
      "    proc1 = Process(target=worker, args=(10,))\n",
      "    proc1.start()\n",
      "    proc2 = Process(target=worker, args=(11,))\n",
      "    proc2.start()"
     ],
     "language": "python",
     "metadata": {},
     "outputs": [
      {
       "output_type": "stream",
       "stream": "stdout",
       "text": [
        "Overwriting mp.py\n"
       ]
      }
     ],
     "prompt_number": 23
    },
    {
     "cell_type": "code",
     "collapsed": false,
     "input": [
      "run('mp.py')"
     ],
     "language": "python",
     "metadata": {},
     "outputs": [
      {
       "output_type": "stream",
       "stream": "stdout",
       "text": [
        "Worker process 7532, argument was 10\r\n",
        "Worker process 864, argument was 11\r\n",
        "\n"
       ]
      }
     ],
     "prompt_number": 24
    },
    {
     "cell_type": "markdown",
     "metadata": {},
     "source": [
      "Processes communicate over interprocess communication channel\n",
      "\n",
      "- `Queue`\n",
      "- `Pipe`"
     ]
    },
    {
     "cell_type": "markdown",
     "metadata": {},
     "source": [
      "### `Pipe`\n",
      "\n",
      "Gives a pair of connection objects which are connected by a pipe. Uses `send` and `recv` methods on objects to comminucate between processes."
     ]
    },
    {
     "cell_type": "markdown",
     "metadata": {},
     "source": [
      "### `Queue`\n",
      "\n",
      "Gives a thread and process safe queue shared between processes. Can contain any pickle-able object."
     ]
    },
    {
     "cell_type": "code",
     "collapsed": false,
     "input": [
      "%%file mp2.py\n",
      "from multiprocessing import Process, Queue\n",
      "import os\n",
      "\n",
      "def worker(tasks, results):\n",
      "    t = tasks.get()\n",
      "    result = t * 2\n",
      "    results.put([os.getpid(), t, \"->\", result])\n",
      "\n",
      "if __name__ == \"__main__\":\n",
      "    n = 20\n",
      "    my_tasks = Queue()\n",
      "    my_results = Queue()\n",
      "    \n",
      "    workers = [Process(target=worker, args=(my_tasks, my_results)) for i in range(n)]\n",
      "    \n",
      "    for proc in workers:\n",
      "        proc.start()\n",
      "    \n",
      "    for i in range(n):\n",
      "        my_tasks.put(i)\n",
      "    \n",
      "    for i in range(n):\n",
      "        result = my_results.get()\n",
      "        print(result)"
     ],
     "language": "python",
     "metadata": {},
     "outputs": [
      {
       "output_type": "stream",
       "stream": "stdout",
       "text": [
        "Writing mp2.py\n"
       ]
      }
     ],
     "prompt_number": 25
    },
    {
     "cell_type": "code",
     "collapsed": false,
     "input": [
      "run('mp2.py')"
     ],
     "language": "python",
     "metadata": {},
     "outputs": [
      {
       "output_type": "stream",
       "stream": "stdout",
       "text": [
        "[4952, 0, '->', 0]\r\n",
        "[3380, 1, '->', 2]\r\n",
        "[7960, 2, '->', 4]\r\n",
        "[7844, 3, '->', 6]\r\n",
        "[6896, 4, '->', 8]\r\n",
        "[7480, 6, '->', 12]\r\n",
        "[6696, 5, '->', 10]\r\n",
        "[1752, 7, '->', 14]\r\n",
        "[6148, 10, '->', 20]\r\n",
        "[7464, 9, '->', 18]\r\n",
        "[6128, 11, '->', 22]\r\n",
        "[8124, 8, '->', 16]\r\n",
        "[4208, 12, '->', 24]\r\n",
        "[6400, 13, '->', 26]\r\n",
        "[3472, 14, '->', 28]\r\n",
        "[6828, 15, '->', 30]\r\n",
        "[3572, 16, '->', 32]\r\n",
        "[8188, 17, '->', 34]\r\n",
        "[4200, 18, '->', 36]\r\n",
        "[6836, 19, '->', 38]\r\n",
        "\n"
       ]
      }
     ],
     "prompt_number": 26
    },
    {
     "cell_type": "markdown",
     "metadata": {},
     "source": [
      "Because the processes are executed in parallel we can never know the order of results being put in the `Queue`."
     ]
    },
    {
     "cell_type": "code",
     "collapsed": false,
     "input": [
      "from multiprocessing import Queue"
     ],
     "language": "python",
     "metadata": {},
     "outputs": [],
     "prompt_number": 27
    },
    {
     "cell_type": "code",
     "collapsed": false,
     "input": [
      "q = Queue()"
     ],
     "language": "python",
     "metadata": {},
     "outputs": [],
     "prompt_number": 28
    },
    {
     "cell_type": "code",
     "collapsed": false,
     "input": [
      "q.get?"
     ],
     "language": "python",
     "metadata": {},
     "outputs": [],
     "prompt_number": 29
    },
    {
     "cell_type": "markdown",
     "metadata": {},
     "source": [
      "### `Manager`\n",
      "\n",
      "A special `Process` which holds Python objects so that other processes can manipulate them.\n",
      "When a managed object is manipulated somewhere, the manager will make sure the change is propagated to any other processes using the managed object."
     ]
    },
    {
     "cell_type": "code",
     "collapsed": false,
     "input": [
      "%%file mp3.py\n",
      "from multiprocessing import Process, Manager\n",
      "import os\n",
      "\n",
      "def worker(l):\n",
      "    p = os.getpid()\n",
      "    #l[int(str(p)[-1:])] = p\n",
      "    print p\n",
      "    l[int(str(p)[-1:])]+=1\n",
      "    \n",
      "    \n",
      "\n",
      "\n",
      "if __name__ == \"__main__\":\n",
      "    n = 10\n",
      "    manager = Manager()\n",
      "    l = manager.list()\n",
      "    l.extend([0] * n)\n",
      "    processes = [Process(target=worker, args=(l,)) for i in range(20)]\n",
      "    \n",
      "    for proc in processes:\n",
      "        proc.start()\n",
      "    \n",
      "    for proc in processes:\n",
      "        proc.join()\n",
      "    \n",
      "    print(l)\n",
      "    print sum(l)"
     ],
     "language": "python",
     "metadata": {},
     "outputs": [
      {
       "output_type": "stream",
       "stream": "stdout",
       "text": [
        "Overwriting mp3.py\n"
       ]
      }
     ],
     "prompt_number": 42
    },
    {
     "cell_type": "code",
     "collapsed": false,
     "input": [
      "run('mp3.py')"
     ],
     "language": "python",
     "metadata": {},
     "outputs": [
      {
       "output_type": "stream",
       "stream": "stdout",
       "text": [
        "6444\r\n",
        "7176\r\n",
        "3312\r\n",
        "6776\r\n",
        "5712\r\n",
        "4452\r\n",
        "7960\r\n",
        "4952\r\n",
        "7772\r\n",
        "3640\r\n",
        "2436\r\n",
        "1924\r\n",
        "4216\r\n",
        "6872\r\n",
        "4228\r\n",
        "7468\r\n",
        "7048\r\n",
        "6276\r\n",
        "8144\r\n",
        "6820\r\n",
        "[3, 0, 6, 0, 3, 0, 5, 0, 3, 0]\r\n",
        "20\r\n",
        "\n"
       ]
      }
     ],
     "prompt_number": 43
    },
    {
     "cell_type": "markdown",
     "metadata": {},
     "source": [
      "### `Pool`\n",
      "\n",
      "The `Pool` class distributes work between workers and collects the results as a list. It is _extremely_ handy for quickly implementing some simple parallelization."
     ]
    },
    {
     "cell_type": "code",
     "collapsed": false,
     "input": [
      "%%file mp.py\n",
      "import multiprocessing\n",
      "import os\n",
      "\n",
      "\n",
      "def task(args):\n",
      "    print \"Running process\", os.getpid(), \"with args\", args\n",
      "    return os.getpid(), args\n",
      "\n",
      "\n",
      "if __name__ == \"__main__\":\n",
      "    pool = multiprocessing.Pool(processes=4)\n",
      "    result = pool.map(task, [1,2,3,4]*3)\n",
      "    print(result)"
     ],
     "language": "python",
     "metadata": {},
     "outputs": [
      {
       "output_type": "stream",
       "stream": "stdout",
       "text": [
        "Overwriting mp.py\n"
       ]
      }
     ],
     "prompt_number": 44
    },
    {
     "cell_type": "code",
     "collapsed": false,
     "input": [
      "run('mp.py')"
     ],
     "language": "python",
     "metadata": {},
     "outputs": [
      {
       "output_type": "stream",
       "stream": "stdout",
       "text": [
        "Running process 6648 with args 1\r\n",
        "Running process 6648 with args 2\r\n",
        "Running process 6648 with args 3\r\n",
        "Running process 6648 with args 4\r\n",
        "Running process 6648 with args 1\r\n",
        "Running process 6648 with args 2\r\n",
        "Running process 6648 with args 3\r\n",
        "Running process 6648 with args 4\r\n",
        "Running process 6648 with args 1\r\n",
        "Running process 6648 with args 2\r\n",
        "Running process 6648 with args 3\r\n",
        "Running process 6648 with args 4\r\n",
        "[(6648, 1), (6648, 2), (6648, 3), (6648, 4), (6648, 1), (6648, 2), (6648, 3), (6648, 4), (6648, 1), (6648, 2), (6648, 3), (6648, 4)]\r\n",
        "\n"
       ]
      }
     ],
     "prompt_number": 45
    },
    {
     "cell_type": "markdown",
     "metadata": {},
     "source": [
      "The method `.map()` works like the built in function `map()`, but will send data from the iterable to different processes. By default it will send one element at a time, but this can be changed with the `chunksize` parameter.\n",
      "\n",
      "A similar method called `.map_async()` usually performs better in parallel, but in that case one has to fetch the results using a `.get()` method of the returned value of `.map_async()` (which is an instance of the class `AsyncResult`)."
     ]
    },
    {
     "cell_type": "code",
     "collapsed": false,
     "input": [
      "%%file mp.py\n",
      "import multiprocessing\n",
      "import os\n",
      "\n",
      "def task(args):\n",
      "    print \"Running process\", os.getpid(), \"with args\", args\n",
      "    return os.getpid(), args\n",
      "\n",
      "\n",
      "if __name__ == \"__main__\":\n",
      "    pool = multiprocessing.Pool(processes=4)\n",
      "    result = pool.map_async(task, [1,2,3,4])\n",
      "    print(result.get())"
     ],
     "language": "python",
     "metadata": {},
     "outputs": [
      {
       "output_type": "stream",
       "stream": "stdout",
       "text": [
        "Overwriting mp.py\n"
       ]
      }
     ],
     "prompt_number": 50
    },
    {
     "cell_type": "code",
     "collapsed": false,
     "input": [
      "run('mp.py')"
     ],
     "language": "python",
     "metadata": {},
     "outputs": [
      {
       "output_type": "stream",
       "stream": "stdout",
       "text": [
        "Running process 6672 with args 1\r\n",
        "Running process 6672 with args 2\r\n",
        "Running process 6672 with args 3\r\n",
        "Running process 6672 with args 4\r\n",
        "[(6672, 1), (6672, 2), (6672, 3), (6672, 4)]\r\n",
        "\n"
       ]
      }
     ],
     "prompt_number": 51
    }
   ],
   "metadata": {}
  }
 ]
}