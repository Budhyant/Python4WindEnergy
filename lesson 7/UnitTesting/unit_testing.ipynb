{
 "metadata": {
  "name": "",
  "signature": "sha256:a9633e1b38be0973e667c1650b93c2137f1e7fa691c9fb53c04da604067540fd"
 },
 "nbformat": 3,
 "nbformat_minor": 0,
 "worksheets": [
  {
   "cells": [
    {
     "cell_type": "heading",
     "level": 2,
     "metadata": {},
     "source": [
      "Defensive Programming"
     ]
    },
    {
     "cell_type": "markdown",
     "metadata": {},
     "source": [
      "copied from http://nbviewer.ipython.org/urls/raw2.github.com/geocarpentry/2014-01-30-mit/gh-pages/python/intermediate/05-qa.ipynb"
     ]
    },
    {
     "cell_type": "markdown",
     "metadata": {},
     "source": [
      "The first step is to use defensive programming, i.e., to assume that mistakes will happen and to guard against them. One way to do this is to add assertions to our code so that it checks itself as it runs. An assertion is simply a statement that something must be true at a certain point in a program. When Python sees one, it checks that the assertion's condition. If it's true, Python does nothing, but if it's false, Python halts the program immediately and prints the error message provided. "
     ]
    },
    {
     "cell_type": "markdown",
     "metadata": {},
     "source": [
      "* A *precondition* is something that must be true at the start of a function in order for it to work correctly.\n",
      "* A *postcondition* is something that the function guarantees is true when it finishes.\n",
      "* An *invariant* is something that is always true at a particular point inside a piece of code.\n",
      "\n",
      "For example, suppose we are representing rectangles using a tuple of four coordinates $(x_0, y_0, x_1, y_1)$. In order to do some calculations, we need to normalize the rectangle so that it is at the origin and 1.0 units long on its longest axis. This function does that, but checks that its input is correctly formatted and that its result makes sense:"
     ]
    },
    {
     "cell_type": "code",
     "collapsed": false,
     "input": [
      "def normalize_rectangle(rect):\n",
      "    \"\"\"\n",
      "    Normalize a rectangle\n",
      "    \n",
      "    Parameter\n",
      "    ---------\n",
      "    rect        tuple or list of floats\n",
      "                coordinates of the rectangle (x0, y0, x1, y1)\n",
      "            \n",
      "    Returns\n",
      "    -------\n",
      "    norm_rect   tuple or list of floats\n",
      "                coordinates of the rectangle (0., 0., x1_n, y1_n)\n",
      "    \"\"\"\n",
      "    assert len(rect) == 4, 'Rectangles must contain 4 coordinates'\n",
      "    x0, y0, x1, y1 = rect\n",
      "    assert x0 < x1, 'Invalid X coordinates'\n",
      "    assert y0 < y1, 'Invalid Y coordinates'\n",
      "\n",
      "    dx = x1 - x0\n",
      "    dy = y1 - y0\n",
      "    if dx > dy:\n",
      "        scaled = float(dx) / dy\n",
      "        upper_x, upper_y = 1.0, scaled\n",
      "    else:\n",
      "        scaled = float(dx) / dy\n",
      "        upper_x, upper_y = scaled, 1.0\n",
      "\n",
      "    assert 0 < upper_x <= 1.0, 'Calculated upper X coordinate invalid'\n",
      "    assert 0 < upper_y <= 1.0, 'Calculated upper Y coordinate invalid'\n",
      "\n",
      "    return (0, 0, upper_x, upper_y)\n"
     ],
     "language": "python",
     "metadata": {},
     "outputs": [],
     "prompt_number": 164
    },
    {
     "cell_type": "markdown",
     "metadata": {},
     "source": [
      "The preconditions on lines 2, 4, and 5 catch invalid inputs:\n"
     ]
    },
    {
     "cell_type": "code",
     "collapsed": false,
     "input": [
      "print normalize_rectangle( (0.0, 1.0, 2.0) ) # missing the fourth coordinate\n"
     ],
     "language": "python",
     "metadata": {},
     "outputs": [
      {
       "ename": "AssertionError",
       "evalue": "Rectangles must contain 4 coordinates",
       "output_type": "pyerr",
       "traceback": [
        "\u001b[0;31m---------------------------------------------------------------------------\u001b[0m\n\u001b[0;31mAssertionError\u001b[0m                            Traceback (most recent call last)",
        "\u001b[0;32m<ipython-input-163-3a97b1dcab70>\u001b[0m in \u001b[0;36m<module>\u001b[0;34m()\u001b[0m\n\u001b[0;32m----> 1\u001b[0;31m \u001b[0;32mprint\u001b[0m \u001b[0mnormalize_rectangle\u001b[0m\u001b[0;34m(\u001b[0m \u001b[0;34m(\u001b[0m\u001b[0;36m0.0\u001b[0m\u001b[0;34m,\u001b[0m \u001b[0;36m1.0\u001b[0m\u001b[0;34m,\u001b[0m \u001b[0;36m2.0\u001b[0m\u001b[0;34m)\u001b[0m \u001b[0;34m)\u001b[0m \u001b[0;31m# missing the fourth coordinate\u001b[0m\u001b[0;34m\u001b[0m\u001b[0m\n\u001b[0m",
        "\u001b[0;32m<ipython-input-160-fdb49ef456c2>\u001b[0m in \u001b[0;36mnormalize_rectangle\u001b[0;34m(rect)\u001b[0m\n\u001b[1;32m      1\u001b[0m \u001b[0;32mdef\u001b[0m \u001b[0mnormalize_rectangle\u001b[0m\u001b[0;34m(\u001b[0m\u001b[0mrect\u001b[0m\u001b[0;34m)\u001b[0m\u001b[0;34m:\u001b[0m\u001b[0;34m\u001b[0m\u001b[0m\n\u001b[0;32m----> 2\u001b[0;31m     \u001b[0;32massert\u001b[0m \u001b[0mlen\u001b[0m\u001b[0;34m(\u001b[0m\u001b[0mrect\u001b[0m\u001b[0;34m)\u001b[0m \u001b[0;34m==\u001b[0m \u001b[0;36m4\u001b[0m\u001b[0;34m,\u001b[0m \u001b[0;34m'Rectangles must contain 4 coordinates'\u001b[0m\u001b[0;34m\u001b[0m\u001b[0m\n\u001b[0m\u001b[1;32m      3\u001b[0m     \u001b[0mx0\u001b[0m\u001b[0;34m,\u001b[0m \u001b[0my0\u001b[0m\u001b[0;34m,\u001b[0m \u001b[0mx1\u001b[0m\u001b[0;34m,\u001b[0m \u001b[0my1\u001b[0m \u001b[0;34m=\u001b[0m \u001b[0mrect\u001b[0m\u001b[0;34m\u001b[0m\u001b[0m\n\u001b[1;32m      4\u001b[0m     \u001b[0;32massert\u001b[0m \u001b[0mx0\u001b[0m \u001b[0;34m<\u001b[0m \u001b[0mx1\u001b[0m\u001b[0;34m,\u001b[0m \u001b[0;34m'Invalid X coordinates'\u001b[0m\u001b[0;34m\u001b[0m\u001b[0m\n\u001b[1;32m      5\u001b[0m     \u001b[0;32massert\u001b[0m \u001b[0my0\u001b[0m \u001b[0;34m<\u001b[0m \u001b[0my1\u001b[0m\u001b[0;34m,\u001b[0m \u001b[0;34m'Invalid Y coordinates'\u001b[0m\u001b[0;34m\u001b[0m\u001b[0m\n",
        "\u001b[0;31mAssertionError\u001b[0m: Rectangles must contain 4 coordinates"
       ]
      }
     ],
     "prompt_number": 163
    },
    {
     "cell_type": "code",
     "collapsed": false,
     "input": [
      "print normalize_rectangle( (0.0, 0.0, 5.0, 1.0) )"
     ],
     "language": "python",
     "metadata": {},
     "outputs": [
      {
       "ename": "AssertionError",
       "evalue": "Calculated upper Y coordinate invalid",
       "output_type": "pyerr",
       "traceback": [
        "\u001b[0;31m---------------------------------------------------------------------------\u001b[0m\n\u001b[0;31mAssertionError\u001b[0m                            Traceback (most recent call last)",
        "\u001b[0;32m<ipython-input-161-5f0ef7954aeb>\u001b[0m in \u001b[0;36m<module>\u001b[0;34m()\u001b[0m\n\u001b[0;32m----> 1\u001b[0;31m \u001b[0;32mprint\u001b[0m \u001b[0mnormalize_rectangle\u001b[0m\u001b[0;34m(\u001b[0m \u001b[0;34m(\u001b[0m\u001b[0;36m0.0\u001b[0m\u001b[0;34m,\u001b[0m \u001b[0;36m0.0\u001b[0m\u001b[0;34m,\u001b[0m \u001b[0;36m5.0\u001b[0m\u001b[0;34m,\u001b[0m \u001b[0;36m1.0\u001b[0m\u001b[0;34m)\u001b[0m \u001b[0;34m)\u001b[0m\u001b[0;34m\u001b[0m\u001b[0m\n\u001b[0m",
        "\u001b[0;32m<ipython-input-160-fdb49ef456c2>\u001b[0m in \u001b[0;36mnormalize_rectangle\u001b[0;34m(rect)\u001b[0m\n\u001b[1;32m     15\u001b[0m \u001b[0;34m\u001b[0m\u001b[0m\n\u001b[1;32m     16\u001b[0m     \u001b[0;32massert\u001b[0m \u001b[0;36m0\u001b[0m \u001b[0;34m<\u001b[0m \u001b[0mupper_x\u001b[0m \u001b[0;34m<=\u001b[0m \u001b[0;36m1.0\u001b[0m\u001b[0;34m,\u001b[0m \u001b[0;34m'Calculated upper X coordinate invalid'\u001b[0m\u001b[0;34m\u001b[0m\u001b[0m\n\u001b[0;32m---> 17\u001b[0;31m     \u001b[0;32massert\u001b[0m \u001b[0;36m0\u001b[0m \u001b[0;34m<\u001b[0m \u001b[0mupper_y\u001b[0m \u001b[0;34m<=\u001b[0m \u001b[0;36m1.0\u001b[0m\u001b[0;34m,\u001b[0m \u001b[0;34m'Calculated upper Y coordinate invalid'\u001b[0m\u001b[0;34m\u001b[0m\u001b[0m\n\u001b[0m\u001b[1;32m     18\u001b[0m \u001b[0;34m\u001b[0m\u001b[0m\n\u001b[1;32m     19\u001b[0m     \u001b[0;32mreturn\u001b[0m \u001b[0;34m(\u001b[0m\u001b[0;36m0\u001b[0m\u001b[0;34m,\u001b[0m \u001b[0;36m0\u001b[0m\u001b[0;34m,\u001b[0m \u001b[0mupper_x\u001b[0m\u001b[0;34m,\u001b[0m \u001b[0mupper_y\u001b[0m\u001b[0;34m)\u001b[0m\u001b[0;34m\u001b[0m\u001b[0m\n",
        "\u001b[0;31mAssertionError\u001b[0m: Calculated upper Y coordinate invalid"
       ]
      }
     ],
     "prompt_number": 161
    },
    {
     "cell_type": "heading",
     "level": 2,
     "metadata": {},
     "source": [
      "Test Driven Development"
     ]
    },
    {
     "cell_type": "markdown",
     "metadata": {},
     "source": [
      "* write some unit tests for a function that doesn't exist yet,\n",
      "* write that function,\n",
      "* modify it until it passes all of the tests, then\n",
      "* clean up the function, i.e., make it more readable or more efficient without breaking any of the tests."
     ]
    },
    {
     "cell_type": "markdown",
     "metadata": {},
     "source": [
      "####Example make a function that adds two numbers: \n",
      "    f(a,b)=a+b"
     ]
    },
    {
     "cell_type": "code",
     "collapsed": false,
     "input": [
      "#first making a test function\n",
      "def test_adder(fad):\n",
      "    \"\"\"\n",
      "    Function that tests a adder function\n",
      "    \n",
      "    Parameter\n",
      "    ---------\n",
      "    fad       func(float,float)\n",
      "              function that takes two floats as input\n",
      "              \n",
      "    Returns\n",
      "    -------\n",
      "    None\n",
      "    \n",
      "    Raises\n",
      "    ------\n",
      "    AssertionError   The function passed as parameter failed the test\n",
      "    \n",
      "    \"\"\"\n",
      "    assert fad(1,1) == 2, '1+1=2'\n",
      "    assert fad(2,2) == 4, '2+2=4'    "
     ],
     "language": "python",
     "metadata": {},
     "outputs": [],
     "prompt_number": 153
    },
    {
     "cell_type": "code",
     "collapsed": false,
     "input": [
      "def adder(a,b):\n",
      "    return a * b"
     ],
     "language": "python",
     "metadata": {},
     "outputs": [],
     "prompt_number": 154
    },
    {
     "cell_type": "code",
     "collapsed": false,
     "input": [
      "test_adder(adder)"
     ],
     "language": "python",
     "metadata": {},
     "outputs": [
      {
       "ename": "AssertionError",
       "evalue": "1+1=2",
       "output_type": "pyerr",
       "traceback": [
        "\u001b[0;31m---------------------------------------------------------------------------\u001b[0m\n\u001b[0;31mAssertionError\u001b[0m                            Traceback (most recent call last)",
        "\u001b[0;32m<ipython-input-155-ac503048d80d>\u001b[0m in \u001b[0;36m<module>\u001b[0;34m()\u001b[0m\n\u001b[0;32m----> 1\u001b[0;31m \u001b[0mtest_adder\u001b[0m\u001b[0;34m(\u001b[0m\u001b[0madder\u001b[0m\u001b[0;34m)\u001b[0m\u001b[0;34m\u001b[0m\u001b[0m\n\u001b[0m",
        "\u001b[0;32m<ipython-input-153-a56463eae03b>\u001b[0m in \u001b[0;36mtest_adder\u001b[0;34m(fad)\u001b[0m\n\u001b[1;32m     18\u001b[0m \u001b[0;34m\u001b[0m\u001b[0m\n\u001b[1;32m     19\u001b[0m     \"\"\"\n\u001b[0;32m---> 20\u001b[0;31m     \u001b[0;32massert\u001b[0m \u001b[0mfad\u001b[0m\u001b[0;34m(\u001b[0m\u001b[0;36m1\u001b[0m\u001b[0;34m,\u001b[0m\u001b[0;36m1\u001b[0m\u001b[0;34m)\u001b[0m \u001b[0;34m==\u001b[0m \u001b[0;36m2\u001b[0m\u001b[0;34m,\u001b[0m \u001b[0;34m'1+1=2'\u001b[0m\u001b[0;34m\u001b[0m\u001b[0m\n\u001b[0m\u001b[1;32m     21\u001b[0m     \u001b[0;32massert\u001b[0m \u001b[0mfad\u001b[0m\u001b[0;34m(\u001b[0m\u001b[0;36m2\u001b[0m\u001b[0;34m,\u001b[0m\u001b[0;36m2\u001b[0m\u001b[0;34m)\u001b[0m \u001b[0;34m==\u001b[0m \u001b[0;36m4\u001b[0m\u001b[0;34m,\u001b[0m \u001b[0;34m'2+2=4'\u001b[0m\u001b[0;34m\u001b[0m\u001b[0m\n",
        "\u001b[0;31mAssertionError\u001b[0m: 1+1=2"
       ]
      }
     ],
     "prompt_number": 155
    },
    {
     "cell_type": "markdown",
     "metadata": {},
     "source": [
      "Using the docstring as a --simplistic-- TDD."
     ]
    },
    {
     "cell_type": "code",
     "collapsed": false,
     "input": [
      "def adder2(a,b):\n",
      "    \"\"\"\n",
      "    Function that adds two numbers\n",
      "    \n",
      "    Parameters\n",
      "    ----------\n",
      "    a       float\n",
      "            \n",
      "    b       float\n",
      "    \n",
      "    Returns\n",
      "    -------\n",
      "    c       float\n",
      "            c = a + b\n",
      "            \n",
      "    Example\n",
      "    -------\n",
      "    >>> adder2(2, 2)\n",
      "    4\n",
      "\n",
      "    >>> adder2(2, 3)\n",
      "    5\n",
      "    \"\"\"\n",
      "    return a * b\n",
      "\n"
     ],
     "language": "python",
     "metadata": {},
     "outputs": [],
     "prompt_number": 113
    },
    {
     "cell_type": "code",
     "collapsed": false,
     "input": [
      "### Testing the all the docstrings loaded in memory\n",
      "import doctest\n",
      "doctest.testmod()"
     ],
     "language": "python",
     "metadata": {},
     "outputs": [
      {
       "output_type": "stream",
       "stream": "stdout",
       "text": [
        "**********************************************************************\n",
        "File \"__main__\", line 21, in __main__.adder2\n",
        "Failed example:\n",
        "    adder2(2, 3)\n",
        "Expected:\n",
        "    5\n",
        "Got:\n",
        "    6\n",
        "**********************************************************************\n",
        "1 items had failures:\n",
        "   1 of   2 in __main__.adder2\n",
        "***Test Failed*** 1 failures.\n"
       ]
      },
      {
       "metadata": {},
       "output_type": "pyout",
       "prompt_number": 124,
       "text": [
        "TestResults(failed=1, attempted=2)"
       ]
      }
     ],
     "prompt_number": 124
    },
    {
     "cell_type": "heading",
     "level": 4,
     "metadata": {},
     "source": [
      "Additional examples"
     ]
    },
    {
     "cell_type": "markdown",
     "metadata": {},
     "source": [
      "Examples copied from :\n",
      "\n",
      "* Software carpentry defensive programming ipython notebook: http://nbviewer.ipython.org/urls/raw2.github.com/geocarpentry/2014-01-30-mit/gh-pages/python/intermediate/05-qa.ipynb\n",
      "* Documentation and Testing notebook from Jake Vanderplas : http://nbviewer.ipython.org/github/jakevdp/2013_fall_ASTR599/blob/master/notebooks/20_DocsAndTesting.ipynb"
     ]
    },
    {
     "cell_type": "code",
     "collapsed": false,
     "input": [
      "%%file fibmodule.py\n",
      "\"\"\"\n",
      "Functions to compute Fibonacci sequences\n",
      "\"\"\"\n",
      "import numpy as np\n",
      "from numpy.testing import assert_allclose\n",
      "\n",
      "def fib(N):\n",
      "    \"\"\"\n",
      "    Compute the first N Fibonacci numbers\n",
      "    \n",
      "    Parameters\n",
      "    ----------\n",
      "    N : integer\n",
      "        The number of Fibonacci numbers to compute\n",
      "    \n",
      "    Returns\n",
      "    -------\n",
      "    x : np.ndarray\n",
      "        the length-N array containing the first N\n",
      "        Fibonacci numbers.\n",
      "        \n",
      "    Notes\n",
      "    -----\n",
      "    This is a pure Python implementation.  For large N,\n",
      "    consider a Cython implementation\n",
      "    \n",
      "    Examples\n",
      "    --------\n",
      "    >>> fib(5)\n",
      "    array([ 0.,  1.,  1.,  2.,  3.])\n",
      "    \"\"\"\n",
      "    x = np.zeros(N, dtype=float)\n",
      "    for i in range(N):\n",
      "        if i == 0:\n",
      "            x[i] = 0\n",
      "        elif i == 1:\n",
      "            x[i] = 1\n",
      "        else:\n",
      "            x[i] = x[i - 1] + x[i - 2]\n",
      "    return x\n",
      "\n",
      "def test_first_ten():\n",
      "    nums = fib(10)\n",
      "    assert_allclose(fib(10),\n",
      "                    [0, 1, 1, 2, 3, 5, 8, 13, 21, 34])"
     ],
     "language": "python",
     "metadata": {},
     "outputs": [
      {
       "output_type": "stream",
       "stream": "stdout",
       "text": [
        "Overwriting fibmodule.py\n"
       ]
      }
     ],
     "prompt_number": 18
    },
    {
     "cell_type": "markdown",
     "metadata": {},
     "source": [
      "Let's try to run the test to see if it fails"
     ]
    },
    {
     "cell_type": "code",
     "collapsed": false,
     "input": [
      "import fibmodule\n",
      "fibmodule.test_first_ten()"
     ],
     "language": "python",
     "metadata": {},
     "outputs": [],
     "prompt_number": 19
    },
    {
     "cell_type": "markdown",
     "metadata": {},
     "source": [
      "`nosetests` is a python suite to run tests automatically"
     ]
    },
    {
     "cell_type": "markdown",
     "metadata": {},
     "source": [
      "The neat things is that it can also test the examples you put into your docstrings"
     ]
    },
    {
     "cell_type": "heading",
     "level": 3,
     "metadata": {},
     "source": [
      "UnitTest"
     ]
    },
    {
     "cell_type": "code",
     "collapsed": false,
     "input": [
      "%%writefile test_fibomodule2.py\n",
      "import unittest\n",
      "from fibmodule import fib\n",
      "from numpy.testing import assert_allclose\n",
      "\n",
      "class test_fibo(unittest.TestCase):\n",
      "    def test_first_ten2(self):\n",
      "        nums = fib(10)\n",
      "        assert_allclose(fib(10),\n",
      "                        [0, 1, 1, 2, 3, 5, 8, 13, 21, 34])\n",
      "\n",
      "    def test_negative(self):\n",
      "        \"\"\"Testing that `fib` raises a `ValueError` with a negative number as parameter\"\"\"\n",
      "        with self.assertRaises(ValueError):\n",
      "            fib(-1)\n",
      "        \n",
      "if __name__ == '__main__':\n",
      "    unittest.main()"
     ],
     "language": "python",
     "metadata": {},
     "outputs": [
      {
       "output_type": "stream",
       "stream": "stdout",
       "text": [
        "Overwriting test_fibomodule2.py\n"
       ]
      }
     ],
     "prompt_number": 69
    },
    {
     "cell_type": "code",
     "collapsed": false,
     "input": [
      "%run test_fibomodule2.py"
     ],
     "language": "python",
     "metadata": {},
     "outputs": [
      {
       "output_type": "stream",
       "stream": "stderr",
       "text": [
        "."
       ]
      },
      {
       "output_type": "stream",
       "stream": "stderr",
       "text": [
        "."
       ]
      },
      {
       "output_type": "stream",
       "stream": "stderr",
       "text": [
        "\n",
        "----------------------------------------------------------------------\n",
        "Ran 2 tests in 0.001s\n",
        "\n",
        "OK\n"
       ]
      }
     ],
     "prompt_number": 70
    },
    {
     "cell_type": "heading",
     "level": 3,
     "metadata": {},
     "source": [
      "Nosetests"
     ]
    },
    {
     "cell_type": "markdown",
     "metadata": {},
     "source": [
      "http://nose.readthedocs.org/en/latest/testing.html"
     ]
    },
    {
     "cell_type": "code",
     "collapsed": false,
     "input": [
      "!nosetests -v fibmodule"
     ],
     "language": "python",
     "metadata": {},
     "outputs": [
      {
       "output_type": "stream",
       "stream": "stdout",
       "text": [
        "fibmodule.test_first_ten ... ok\r\n",
        "\r\n",
        "----------------------------------------------------------------------\r\n",
        "Ran 1 test in 0.002s\r\n",
        "\r\n",
        "OK\r\n"
       ]
      }
     ],
     "prompt_number": 71
    },
    {
     "cell_type": "code",
     "collapsed": false,
     "input": [
      "!nosetests -v --with-doctest fibmodule"
     ],
     "language": "python",
     "metadata": {},
     "outputs": [
      {
       "output_type": "stream",
       "stream": "stdout",
       "text": [
        "fibmodule.test_first_ten ... ok\r\n",
        "fib (fibmodule)\r\n",
        "Doctest: fibmodule.fib ... ok\r\n",
        "\r\n",
        "----------------------------------------------------------------------\r\n",
        "Ran 2 tests in 0.006s\r\n",
        "\r\n",
        "OK\r\n"
       ]
      }
     ],
     "prompt_number": 72
    },
    {
     "cell_type": "markdown",
     "metadata": {},
     "source": [
      "nosetests will run all the tests in all the files begining with \"test_\" in the dictionary"
     ]
    },
    {
     "cell_type": "code",
     "collapsed": false,
     "input": [
      "!nosetests -v"
     ],
     "language": "python",
     "metadata": {},
     "outputs": [
      {
       "output_type": "stream",
       "stream": "stdout",
       "text": [
        "test_first_ten2 (test_fibomodule2.test_fibo) ... ok\r\n",
        "test_negative (test_fibomodule2.test_fibo)\r\n",
        "Testing that `fib` raises a `ValueError` with a negative number as parameter ... ok\r\n",
        "\r\n",
        "----------------------------------------------------------------------\r\n",
        "Ran 2 tests in 0.088s\r\n",
        "\r\n",
        "OK\r\n"
       ]
      }
     ],
     "prompt_number": 76
    },
    {
     "cell_type": "code",
     "collapsed": false,
     "input": [
      "!nosetests -v --with-doctest *.py"
     ],
     "language": "python",
     "metadata": {},
     "outputs": [
      {
       "output_type": "stream",
       "stream": "stdout",
       "text": [
        "fibmodule.test_first_ten ... ok\r\n",
        "fib (fibmodule)\r\n",
        "Doctest: fibmodule.fib ... ok\r\n",
        "test_first_ten2 (test_fibomodule2.test_fibo) ... ok\r\n",
        "test_negative (test_fibomodule2.test_fibo)\r\n",
        "Testing that `fib` raises a `ValueError` with a negative number as parameter ... ok\r\n",
        "\r\n",
        "----------------------------------------------------------------------\r\n",
        "Ran 4 tests in 0.005s\r\n",
        "\r\n",
        "OK\r\n"
       ]
      }
     ],
     "prompt_number": 78
    },
    {
     "cell_type": "code",
     "collapsed": false,
     "input": [],
     "language": "python",
     "metadata": {},
     "outputs": [],
     "prompt_number": 74
    },
    {
     "cell_type": "code",
     "collapsed": false,
     "input": [],
     "language": "python",
     "metadata": {},
     "outputs": [],
     "prompt_number": 74
    },
    {
     "cell_type": "code",
     "collapsed": false,
     "input": [],
     "language": "python",
     "metadata": {},
     "outputs": []
    }
   ],
   "metadata": {}
  }
 ]
}