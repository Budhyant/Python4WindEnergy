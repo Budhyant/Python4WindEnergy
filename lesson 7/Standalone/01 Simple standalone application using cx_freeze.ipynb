{
 "metadata": {
  "name": "Standalone using cx_freeze"
 },
 "nbformat": 3,
 "nbformat_minor": 0,
 "worksheets": [
  {
   "cells": [
    {
     "cell_type": "markdown",
     "metadata": {},
     "source": [
      "#Create standalone applications using cx_Freeze\n"
     ]
    },
    {
     "cell_type": "markdown",
     "metadata": {},
     "source": [
      "Several alternative \"freezing\" modules exists, see https://wiki.python.org/moin/DistributionUtilities\n",
      "\n",
      "cx_Freeze is considered a good option as it is cross platform and supports python 2 and 3."
     ]
    },
    {
     "cell_type": "markdown",
     "metadata": {},
     "source": [
      "Creating simple standalone applications is a three step process\n",
      "\n",
      "- Make the program\n",
      "- Write a setup script\n",
      "- Build the application\n"
     ]
    },
    {
     "cell_type": "markdown",
     "metadata": {},
     "source": [
      "## 1) Make the program\n",
      "In this example, the program is a simple interactive python console.\n",
      "\n",
      "It is written to the file \"my_program.py\" via the %%file cellmagic"
     ]
    },
    {
     "cell_type": "code",
     "collapsed": false,
     "input": [
      "%%file \"my_program.py\"\n",
      "from __future__ import division, print_function, absolute_import, unicode_literals\n",
      "import time\n",
      "import sys\n",
      "import traceback\n",
      "try: range = xrange; xrange = None\n",
      "except NameError: pass\n",
      "try: str = unicode; unicode = None\n",
      "except NameError: pass\n",
      "import numpy\n",
      "\n",
      "while 1:\n",
      "    input = raw_input(\">>\")\n",
      "    if input == \"quit()\": break\n",
      "    try:\n",
      "        _return = None\n",
      "        try:\n",
      "            exec(\"_return = %s\"%input, globals(), locals())\n",
      "            print (_return)\n",
      "        except SyntaxError:\n",
      "            exec(input, globals(), locals())\n",
      "    except Exception as e:\n",
      "        print (str(e))\n",
      "        print (traceback.format_exc())\n"
     ],
     "language": "python",
     "metadata": {},
     "outputs": [
      {
       "output_type": "stream",
       "stream": "stdout",
       "text": [
        "Overwriting my_program.py\n"
       ]
      }
     ],
     "prompt_number": 9
    },
    {
     "cell_type": "markdown",
     "metadata": {},
     "source": [
      "##2) Write a setup script"
     ]
    },
    {
     "cell_type": "code",
     "collapsed": false,
     "input": [
      "%%file \"setup.py\"\n",
      "    \n",
      "from cx_Freeze import setup, Executable\n",
      "setup(\n",
      "name = \"my_program\",\n",
      "version=\"1.0.0\",\n",
      "executables = [Executable(\"my_program.py\")])"
     ],
     "language": "python",
     "metadata": {},
     "outputs": [
      {
       "output_type": "stream",
       "stream": "stdout",
       "text": [
        "Overwriting setup.py\n"
       ]
      }
     ],
     "prompt_number": 24
    },
    {
     "cell_type": "markdown",
     "metadata": {},
     "source": [
      "##3) Build the application\n",
      "\n",
      "To build the application open a console and run:\n",
      "\n",
      "    python setup.py build\n",
      "\n",
      "Alternatively, run the cell below (output not shown) and wait until it returns (hopefully with a '0')"
     ]
    },
    {
     "cell_type": "code",
     "collapsed": false,
     "input": [
      "import os\n",
      "print (os.system(\"python setup.py build\"))"
     ],
     "language": "python",
     "metadata": {},
     "outputs": [
      {
       "output_type": "stream",
       "stream": "stdout",
       "text": [
        "0\n"
       ]
      }
     ],
     "prompt_number": 22
    },
    {
     "cell_type": "markdown",
     "metadata": {},
     "source": [
      "Now the application is build. You can find it in \"./build/exe.../my_program.exe"
     ]
    },
    {
     "cell_type": "code",
     "collapsed": false,
     "input": [],
     "language": "python",
     "metadata": {},
     "outputs": []
    }
   ],
   "metadata": {}
  }
 ]
}