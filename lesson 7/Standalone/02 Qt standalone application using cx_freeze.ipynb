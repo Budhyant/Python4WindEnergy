{
 "metadata": {
  "name": "02 Qt standalone application using cx_freeze"
 },
 "nbformat": 3,
 "nbformat_minor": 0,
 "worksheets": [
  {
   "cells": [
    {
     "cell_type": "markdown",
     "metadata": {},
     "source": [
      "#Create standalone applications using cx_Freeze\n"
     ]
    },
    {
     "cell_type": "markdown",
     "metadata": {},
     "source": [
      "As we saw in the previous notebook, building standalone applications of simple programs is quite easy.\n",
      "\n",
      "cx_Freeze analyses the program for required dependencies and packs everything into a folder together with a Python interpreter and an executable.\n",
      "\n",
      "For more advanced programs however it can be a nightmare to get all required depedencies included.\n",
      "\n",
      "Here is an example with PyQt4, Matplotlib and Numpy"
     ]
    },
    {
     "cell_type": "markdown",
     "metadata": {},
     "source": [
      "## 1) Make the program\n",
      "In this example, the program is a simple interactive python console.\n",
      "\n",
      "It is written to the file \"my_program.py\" via the %%file cellmagic"
     ]
    },
    {
     "cell_type": "code",
     "collapsed": false,
     "input": [
      "%%file \"my_qt_program.py\"\n",
      "import sys\n",
      "from PyQt4 import QtGui\n",
      " \n",
      "from matplotlib.backends.backend_qt4agg import FigureCanvasQTAgg as FigureCanvas\n",
      "import matplotlib.pyplot as plt\n",
      "import numpy as np\n",
      " \n",
      "class QtWindow(QtGui.QDialog):\n",
      "    def __init__(self, parent=None):\n",
      "        QtGui.QDialog.__init__(self, parent)\n",
      "        self.setWindowIcon(QIcon('test.ico'))\n",
      "        self.figure = plt.figure()\n",
      "        self.canvas = FigureCanvas(self.figure)\n",
      "        self.button = QtGui.QPushButton('Plot')\n",
      "        self.button.clicked.connect(self.plot)\n",
      "        \n",
      "        # set the layout\n",
      "        layout = QtGui.QVBoxLayout()\n",
      "        layout.addWidget(self.canvas)\n",
      "        layout.addWidget(self.button)\n",
      "        self.setLayout(layout)\n",
      " \n",
      "    def plot(self):\n",
      "        ''' plot some random stuff '''\n",
      "        data = [np.random() for i in range(25)]\n",
      "        ax = self.figure.add_subplot(111)\n",
      "        ax.hold(False)\n",
      "        ax.plot(data, '*-')\n",
      "        self.canvas.draw()\n",
      "\n",
      "    @staticmethod\n",
      "    def run():\n",
      "        app = QtGui.QApplication(sys.argv)\n",
      "        main = QtWindow()\n",
      "        main.show() \n",
      "        sys.exit(app.exec_())\n",
      "if __name__ == '__main__':\n",
      "    QtWindow.run()"
     ],
     "language": "python",
     "metadata": {},
     "outputs": [
      {
       "output_type": "stream",
       "stream": "stdout",
       "text": [
        "Writing my_qt_program.py\n"
       ]
      }
     ],
     "prompt_number": 5
    },
    {
     "cell_type": "code",
     "collapsed": false,
     "input": [
      "from my_qt_program import QtWindow\n",
      "QtWindow.run()\n",
      "\n"
     ],
     "language": "python",
     "metadata": {},
     "outputs": [
      {
       "ename": "SystemExit",
       "evalue": "0",
       "output_type": "pyerr",
       "traceback": [
        "An exception has occurred, use %tb to see the full traceback.\n",
        "\u001b[1;31mSystemExit\u001b[0m\u001b[1;31m:\u001b[0m 0\n"
       ]
      },
      {
       "output_type": "stream",
       "stream": "stderr",
       "text": [
        "To exit: use 'exit', 'quit', or Ctrl-D."
       ]
      }
     ],
     "prompt_number": 3
    },
    {
     "cell_type": "markdown",
     "metadata": {},
     "source": [
      "##2) Write a setup script"
     ]
    },
    {
     "cell_type": "code",
     "collapsed": false,
     "input": [
      "\"\"\"\n",
      "Run this function if icons are not loaded\n",
      "\"\"\"\n",
      "from PyQt4 import QtCore\n",
      "import sys\n",
      "import os\n",
      "app = QtCore.QCoreApplication(sys.argv)\n",
      "qt_library_path = QtCore.QCoreApplication.libraryPaths()\n",
      "\n",
      "\n",
      "imageformats_path = None\n",
      "for path in qt_library_path:\n",
      "    if os.path.exists(os.path.join(str(path), 'imageformats')):\n",
      "        imageformats_path = os.path.join(str(path), 'imageformats')\n",
      "        local_imageformats_path = os.path.join(os.path.dirname(os.path.abspath(__file__)), 'imageformats')\n",
      "        local_imageformats_path = os.path.join(os.getcwd(), 'imageformats')\n",
      "        if not os.path.exists(local_imageformats_path):\n",
      "            os.mkdir(local_imageformats_path)\n",
      "        for file in glob.glob(os.path.join(imageformats_path, '*')):\n",
      "            shutil.copy(file, os.path.join(local_imageformats_path, os.path.basename(file)))"
     ],
     "language": "python",
     "metadata": {},
     "outputs": [],
     "prompt_number": 8
    },
    {
     "cell_type": "code",
     "collapsed": false,
     "input": [
      "%%file \"setup.py\"\n",
      "    \n",
      "from cx_Freeze import setup, Executable\n",
      "import matplotlib\n",
      "build_exe_options = {\n",
      "    \"includes\" : [\"sip\", \"matplotlib.backends.backend_tkagg\"],\n",
      "    \n",
      "    \"include_files\": ['imageformats/', (matplotlib.get_data_path(), \"mpl-data\")]\n",
      "}\n",
      "setup(\n",
      "name = \"my_qt_program\",\n",
      "version=\"1.0.0\",\n",
      "options = { \"build_exe\": build_exe_options},\n",
      "executables = [Executable(\"my_qt_program.py\", base='Win32GUI', icon='test.ico')])\n"
     ],
     "language": "python",
     "metadata": {},
     "outputs": [
      {
       "output_type": "stream",
       "stream": "stdout",
       "text": [
        "Overwriting setup.py\n"
       ]
      }
     ],
     "prompt_number": 6
    },
    {
     "cell_type": "markdown",
     "metadata": {},
     "source": [
      "##3) Build the application\n",
      "\n",
      "To build the application open a console and run:\n",
      "\n",
      "    python setup.py build\n",
      "\n",
      "Alternatively, run the cell below (output not shown) and wait until it returns (hopefully with a '0')"
     ]
    },
    {
     "cell_type": "code",
     "collapsed": false,
     "input": [
      "import os\n",
      "print (os.system(\"python setup.py build\"))"
     ],
     "language": "python",
     "metadata": {},
     "outputs": [
      {
       "output_type": "stream",
       "stream": "stdout",
       "text": [
        "0\n"
       ]
      }
     ],
     "prompt_number": 4
    },
    {
     "cell_type": "code",
     "collapsed": false,
     "input": [
      "import build_cx_exe\n",
      "from build_cx_exe import *\n",
      "build_cx_exe.build_exe('my_qt_program.py', \"1.0.0\", modules=[PYQT4, SCIPY, MATPLOTLIB, NUMPY])"
     ],
     "language": "python",
     "metadata": {},
     "outputs": [
      {
       "output_type": "stream",
       "stream": "stdout",
       "text": [
        "distribution created (my_qt_program_dist//)\n"
       ]
      }
     ],
     "prompt_number": 3
    },
    {
     "cell_type": "markdown",
     "metadata": {},
     "source": [
      "Now the application is build. You can find it in \"./build/exe.../my_qt_program.exe"
     ]
    },
    {
     "cell_type": "markdown",
     "metadata": {},
     "source": [
      "##MMPE's build_cx_exe\n",
      "As inspiration you can have a look at build_cx_exe.py\n",
      "\n",
      "It automates the process and is invoked by one line, \n",
      "\n",
      "    from build_cx_exe import build_exe, PYQT4, MATPLOTLIB, NUMPY\n",
      "    build_exe('my_qt_program.py', \"1.0.0\", modules=[PYQT4, MATPLOTLIB, NUMPY], icon='test.ico')\n",
      "\n",
      "but it does only work on some systems, with some modules and cannot be used from ipython notebooks"
     ]
    }
   ],
   "metadata": {}
  }
 ]
}