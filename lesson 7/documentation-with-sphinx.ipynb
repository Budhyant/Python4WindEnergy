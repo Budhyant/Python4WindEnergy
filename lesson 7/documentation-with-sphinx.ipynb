{
 "metadata": {
  "name": "",
  "signature": "sha256:4b5674e6ba455b677c9c4643a5171aae43c1b66065c0596eb0bd7546b20d0b27"
 },
 "nbformat": 3,
 "nbformat_minor": 0,
 "worksheets": [
  {
   "cells": [
    {
     "cell_type": "heading",
     "level": 1,
     "metadata": {},
     "source": [
      "Generating Documentation with Sphinx"
     ]
    },
    {
     "cell_type": "markdown",
     "metadata": {},
     "source": [
      "With Sphinx you can:\n",
      "\n",
      "* Generate nicely formatted documentation in HTML and PDF\n",
      "* Docstrings are usefull twice: when reading the code and when consulting the manual\n",
      "* re-structured text (reST)\n",
      "* Include LaTeX formula's\n",
      "* Doc-string tests\n",
      "* Used exstensively by other (scientific) Python modules"
     ]
    },
    {
     "cell_type": "markdown",
     "metadata": {},
     "source": [
      "See Sphinx in action:\n",
      "* http://sphinx-doc.org/examples.html\n",
      "\n",
      "Examples:\n",
      "* http://matplotlib.org/sampledoc/\n",
      "* http://pythonhosted.org/an_example_pypi_project/index.html\n",
      "\n",
      "Documentation:\n",
      "* http://sphinx-doc.org/contents.html\n",
      "\n",
      "First steps with Sphinx:\n",
      "* http://sphinx-doc.org/tutorial.html\n",
      "\n",
      "Python PEP-257: doc string conventions:\n",
      "* http://legacy.python.org/dev/peps/pep-0257/"
     ]
    },
    {
     "cell_type": "heading",
     "level": 2,
     "metadata": {},
     "source": [
      "ReST"
     ]
    },
    {
     "cell_type": "markdown",
     "metadata": {},
     "source": [
      "* http://docutils.sourceforge.net/docs/user/rst/quickref.html\n",
      "* http://sphinx-doc.org/rest.html"
     ]
    },
    {
     "cell_type": "heading",
     "level": 2,
     "metadata": {},
     "source": [
      "Extensions for Sphinx"
     ]
    },
    {
     "cell_type": "heading",
     "level": 3,
     "metadata": {},
     "source": [
      "NumPy doc strings: numpydoc"
     ]
    },
    {
     "cell_type": "markdown",
     "metadata": {},
     "source": [
      "* https://github.com/numpy/numpydoc\n",
      "* https://github.com/numpy/numpy/blob/master/doc/HOWTO_DOCUMENT.rst.txt"
     ]
    },
    {
     "cell_type": "markdown",
     "metadata": {},
     "source": [
      "* While a rich set of markup is available, we limit ourselves to a very basic subset, in order to provide docstrings that are easy to read on text-only terminals\n",
      "* The length of docstring lines should be kept to 75 characters to facilitate reading the docstrings in text terminals."
     ]
    },
    {
     "cell_type": "markdown",
     "metadata": {},
     "source": [
      "NumPy documentation conventions:\n",
      "\n",
      "* Parameters (optional keyword arguments), Returns, Raises, Attributes (for classes), ...\n",
      "* Including LaTeX formatted formula's\n",
      "* Including examples\n",
      "* example: https://github.com/numpy/numpy/blob/master/doc/example.py\n",
      "* example: http://sphinx-doc.org/latest/ext/example_numpy.html"
     ]
    },
    {
     "cell_type": "heading",
     "level": 3,
     "metadata": {},
     "source": [
      "HTML slides with Hieroglyph"
     ]
    },
    {
     "cell_type": "markdown",
     "metadata": {},
     "source": [
      "Hieroglyph is an extension for Sphinx which builds HTML slides from ReStructured Text documents.\n",
      "* https://github.com/nyergler/hieroglyph\n",
      "* http://docs.hieroglyph.io"
     ]
    },
    {
     "cell_type": "heading",
     "level": 3,
     "metadata": {},
     "source": [
      "Generate Sphinx documentation based on IPython notebooks"
     ]
    },
    {
     "cell_type": "markdown",
     "metadata": {},
     "source": [
      "http://sphinx-ipynb.readthedocs.org/en/latest/index.html"
     ]
    },
    {
     "cell_type": "heading",
     "level": 3,
     "metadata": {},
     "source": [
      "Sphinx for Fortran"
     ]
    },
    {
     "cell_type": "markdown",
     "metadata": {},
     "source": [
      "* https://github.com/TRACMASS/sphinx-fortran-extension\n",
      "* http://www.ifremer.fr/vacumm/user.desc.fdoc.html"
     ]
    },
    {
     "cell_type": "heading",
     "level": 1,
     "metadata": {},
     "source": [
      "Publish documentation"
     ]
    },
    {
     "cell_type": "markdown",
     "metadata": {},
     "source": [
      "You can use either [Github's pages](https://pages.github.com/) mechanism or [Read the Docs](https://readthedocs.org/)."
     ]
    },
    {
     "cell_type": "markdown",
     "metadata": {},
     "source": [
      "* Read the Docs: http://dont-be-afraid-to-commit.readthedocs.org/en/latest/documentation.html\n",
      "* Github gh-pages: http://raxcloud.blogspot.dk/2013/02/documenting-python-code-using-sphinx.html"
     ]
    },
    {
     "cell_type": "heading",
     "level": 1,
     "metadata": {},
     "source": [
      "Other documentation tools"
     ]
    },
    {
     "cell_type": "markdown",
     "metadata": {},
     "source": [
      "Doxygen, supports more languages:\n",
      "* http://www.stack.nl/~dimitri/doxygen/ https://github.com/doxygen/doxygen"
     ]
    }
   ],
   "metadata": {}
  }
 ]
}