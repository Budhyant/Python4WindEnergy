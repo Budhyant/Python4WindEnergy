{
 "metadata": {
  "css": [
   ""
  ],
  "name": "",
  "signature": "sha256:8176c4a694899c3cb3b44900f6bebde5fe1ab5dd12b62cc90a5f36dfb6d01400"
 },
 "nbformat": 3,
 "nbformat_minor": 0,
 "worksheets": [
  {
   "cells": [
    {
     "cell_type": "heading",
     "level": 1,
     "metadata": {},
     "source": [
      "Coding Guidelines and PEP-8"
     ]
    },
    {
     "cell_type": "markdown",
     "metadata": {},
     "source": [
      "Why do we care about consistent code formatting:\n",
      "\n",
      "* You read more code than you write (?), ergo \"readability counts\"\n",
      "* Whith multiple contributors one coding style makes a difference and avoids annoyance and pollutation of the git/hg/svn change logs\n",
      "* Python coding style reference: PEP-8\n",
      "    * [Style guide for Python code](http://legacy.python.org/dev/peps/pep-0008/)\n",
      "    * [PEP8 Guidelines](http://pymbook.readthedocs.org/en/latest/pep8.html)\n",
      "* Coding guidelines extend to the documentations and how to format consistent doc strings (see documenting with Sphinx)"
     ]
    },
    {
     "cell_type": "markdown",
     "metadata": {},
     "source": [
      "> A style guide is about consistency. Consistency with this style guide is important. Consistency within a project is more important. Consistency within one module or function is the most important.\n",
      "\n",
      "> But most importantly: know when to be inconsistent \u2013 sometimes the style guide just doesn\u2019t apply. When in doubt, use your best judgement. Look at other examples and decide what looks best. And don\u2019t hesitate to ask!\n",
      "\n",
      "> Two good reasons to break a particular rule:\n",
      "\n",
      ">    1) When applying the rule would make the code less readable, even for someone who is used to reading code that follows the rules.\n",
      ">    2) To be consistent with surrounding code that also breaks it (maybe for historic reasons) \u2013 although this is also an opportunity to clean up someone else\u2019s mess (in true XP style)."
     ]
    },
    {
     "cell_type": "heading",
     "level": 2,
     "metadata": {},
     "source": [
      "Indentation"
     ]
    },
    {
     "cell_type": "markdown",
     "metadata": {},
     "source": [
      "* Never mix tabs and spaces\n",
      "* Always use 4 spaces\n",
      "\n",
      "```python\n",
      "# Aligned with opening delimiter\n",
      "foo = long_function_name(var_one, var_two,\n",
      "                         var_three, var_four)\n",
      "\n",
      "# More indentation included to distinguish this from the rest.\n",
      "def long_function_name(\n",
      "        var_one, var_two, var_three,\n",
      "        var_four):\n",
      "    print(var_one)\n",
      "```"
     ]
    },
    {
     "cell_type": "heading",
     "level": 2,
     "metadata": {},
     "source": [
      "Maximum Line Length"
     ]
    },
    {
     "cell_type": "markdown",
     "metadata": {},
     "source": [
      "* Limit all lines to a maximum of 79 characters."
     ]
    },
    {
     "cell_type": "heading",
     "level": 1,
     "metadata": {},
     "source": [
      "Imports"
     ]
    },
    {
     "cell_type": "markdown",
     "metadata": {},
     "source": [
      "```import os\n",
      "import sys```"
     ]
    },
    {
     "cell_type": "markdown",
     "metadata": {},
     "source": [
      "* Do not import everything like this: ```from numpy import *``` (prevend name clashes)\n",
      "\n",
      "* In case this causes a name clash\n",
      "```\n",
      "from myclass import MyClass\n",
      "from foo.bar.yourclass import YourClass\n",
      "```\n",
      "\n",
      "    do this: \n",
      "\n",
      "    ```\n",
      "    import myclass\n",
      "    import foo.bar.yourclass\n",
      "    ```"
     ]
    },
    {
     "cell_type": "heading",
     "level": 1,
     "metadata": {},
     "source": [
      "Naming conventions"
     ]
    },
    {
     "cell_type": "markdown",
     "metadata": {},
     "source": [
      "* To prevent name clashes, append an underscore _ (do not abbriviate or otherwise)\n",
      "* class names: CapWords\n",
      "* Exceptions: CapWords, with Error suffix (if it is an error)\n",
      "* Function names: lowercase, with words separated by underscores as necessary to improve readability"
     ]
    },
    {
     "cell_type": "heading",
     "level": 1,
     "metadata": {},
     "source": [
      "More"
     ]
    },
    {
     "cell_type": "markdown",
     "metadata": {},
     "source": [
      "* Blank lines\n",
      "* Character encoding: UTF-8\n",
      "* How to import modules\n",
      "* Whitespace in Expressions and Statements\n",
      "* Code comments\n",
      "* Docstrings (see Sphinx)\n",
      "* Naming conventions"
     ]
    },
    {
     "cell_type": "code",
     "collapsed": false,
     "input": [],
     "language": "python",
     "metadata": {
      "run_control": {
       "breakpoint": false,
       "state": "n"
      }
     },
     "outputs": []
    }
   ],
   "metadata": {}
  }
 ]
}