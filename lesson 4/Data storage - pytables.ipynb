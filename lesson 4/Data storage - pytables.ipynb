{
 "metadata": {
  "name": ""
 },
 "nbformat": 3,
 "nbformat_minor": 0,
 "worksheets": [
  {
   "cells": [
    {
     "cell_type": "markdown",
     "metadata": {},
     "source": [
      "###PyTables\n",
      "\n",
      "PyTables is a package for managing hierarchical datasets and designed to efficiently and easily cope with extremely large amounts of data. PyTables is built on top of the HDF5 library, using the Python language and the NumPy package. This package is an alternative to [h5py](http://www.h5py.org/) which was discussed before.\n",
      "\n",
      "Features it has to offer:\n",
      "\n",
      "* structure youre data in hierarchical fashion (like in folders/directories) and add user specific data for each group/node\n",
      "\n",
      "* stores, tables or NumPy arrays, or a table of NumPy arrays\n",
      "\n",
      "* optimized for I/O speed\n",
      "\n",
      "* apply out of memory mathermatical operations on the data\n",
      "\n",
      "* file based\n",
      "\n",
      "* mainly ment for reading, be carefull when writing\n",
      "\n",
      "* well integrated within the Python ecosystem (NumPy, pandas, ...)\n",
      "\n",
      "* is not a replacement for a relational SQL database\n",
      "\n",
      "[Home page](http://www.pytables.org/moin)\n",
      "\n",
      "[GitHub dev pages](https://github.com/PyTables/PyTables)\n",
      "\n",
      "[Documentation](http://pytables.github.io/)\n",
      "\n",
      "A graphical interface to PyTables data sets exists at [ViTables](http://vitables.org/) (which also supports HDF5 files).\n",
      "\n",
      "Group GPS data by date and store each day as a table or something with Pytables"
     ]
    },
    {
     "cell_type": "code",
     "collapsed": false,
     "input": [
      "import tables as tbl\n",
      "import pandas as pd\n",
      "import numpy as np\n",
      "from datetime import datetime"
     ],
     "language": "python",
     "metadata": {},
     "outputs": [],
     "prompt_number": 15
    },
    {
     "cell_type": "markdown",
     "metadata": {},
     "source": [
      "Defining the structure of our pytables file"
     ]
    },
    {
     "cell_type": "code",
     "collapsed": false,
     "input": [
      "class TableDefs:\n",
      "    class data(tbl.IsDescription):    \n",
      "        Time        = tbl.Int64Col()\n",
      "        Latitude_N  = tbl.Float32Col()\n",
      "        Longitude_E = tbl.Float32Col()\n",
      "        orientation = tbl.Float16Col()\n",
      "        memo        = tbl.StringCol(16)\n",
      "    class statistics(tbl.IsDescription):\n",
      "        memo        = tbl.StringCol(16)"
     ],
     "language": "python",
     "metadata": {},
     "outputs": [],
     "prompt_number": 16
    },
    {
     "cell_type": "markdown",
     "metadata": {},
     "source": [
      "Creating, opening and closing an HDF5 PyTables file"
     ]
    },
    {
     "cell_type": "code",
     "collapsed": false,
     "input": [
      "def get_db(fpath):\n",
      "    # if the database does not exist, create one\n",
      "    try:\n",
      "        #h5f = open(src).close()\n",
      "        h5f = tbl.openFile(fpath, mode = \"r+\", title = \"gps_db\")\n",
      "        print 'h5file opened:', fpath\n",
      "    except IOError:\n",
      "        # if the file does not exists, create it with the correct columns\n",
      "        # note that the mode w will delete any existing one\n",
      "        h5f = tbl.openFile(fpath, mode = \"w\", title = \"gps_db\")\n",
      "        \n",
      "        # layout global structure\n",
      "        descr = 'GPS Data'\n",
      "        data_group = h5f.createGroup(\"/\", 'data', descr)\n",
      "        \n",
      "        # besides the data as a numpy array, we will also save it as a table\n",
      "        descr = 'GPS data imported from CSV file'\n",
      "        table = h5f.createTable(data_group, 'csv', TableDefs.data, descr)\n",
      "        table.flush()\n",
      "        \n",
      "        # subgroup: data sorted per month\n",
      "        descr = 'Months'\n",
      "        h5f.createGroup(\"/data\", 'months', descr)\n",
      "        \n",
      "        # A table that could hold statistical data per month\n",
      "        descr = 'Monthly Statistics on GPS Data'\n",
      "        table = h5f.createTable(data_group, 'statistics', TableDefs.statistics, descr)\n",
      "        table.flush()\n",
      "        \n",
      "        # If you would close the empty file now the created groups are lost.\n",
      "        \n",
      "        print 'empty h5file created:', fpath\n",
      "    return h5f"
     ],
     "language": "python",
     "metadata": {},
     "outputs": [],
     "prompt_number": 17
    },
    {
     "cell_type": "markdown",
     "metadata": {},
     "source": [
      "How to build in some concurrency"
     ]
    },
    {
     "cell_type": "code",
     "collapsed": false,
     "input": [
      "def get_node(h5f, node, descr=''):\n",
      "    \"\"\"\n",
      "    open in write mode with some concurrency build in\n",
      "    \"\"\"\n",
      "    try:\n",
      "        group_node = h5f.getNode('/'+node)\n",
      "    except tbl.exceptions.NoSuchNodeError:\n",
      "        group_node = h5f.createGroup(\"/\", node, descr)\n",
      "    except Exception as exception:\n",
      "        h5f.close()\n",
      "        raise exception\n",
      "    return group_node"
     ],
     "language": "python",
     "metadata": {},
     "outputs": [],
     "prompt_number": 18
    },
    {
     "cell_type": "code",
     "collapsed": false,
     "input": [
      "def get_table(group, table_name, descr=''):\n",
      "    try:\n",
      "        table = getattr(h5f.root.group_name, table_name)\n",
      "    except tbl.exceptions.NoSuchNodeError:\n",
      "        table = h5f.createTable(group, 'runs', TableDefs.WindTunnelTestRuns, descr)\n",
      "        tbl_wt_runs.flush()\n",
      "    except Exception as exception:\n",
      "        h5f.close()\n",
      "        raise exception"
     ],
     "language": "python",
     "metadata": {},
     "outputs": [],
     "prompt_number": 20
    },
    {
     "cell_type": "code",
     "collapsed": false,
     "input": [
      "h5f = get_db('gps_db')\n",
      "data_node = get_node(h5f, 'data')"
     ],
     "language": "python",
     "metadata": {},
     "outputs": [
      {
       "output_type": "stream",
       "stream": "stdout",
       "text": [
        "empty h5file created: gps_db\n"
       ]
      }
     ],
     "prompt_number": 21
    },
    {
     "cell_type": "markdown",
     "metadata": {},
     "source": [
      "Lets save the GPS data as found from the CSV file. Convert datetime object to unix time stamp. There are two ways to do that, and one of them is wrong:\n",
      "```\n",
      "date = '20131211 18:29:30'\n",
      "dt = datetime.strptime(date, \"%Y%m%d %H:%M:%S\")\n",
      "print dt.strftime('%s') # wrong result\n",
      "import calendar\n",
      "print calendar.timegm(dt.utctimetuple())\n",
      "```\n",
      "Use the example from the pandas tutorial with the user defined date parser, but now convert the date to a unix time stamp."
     ]
    },
    {
     "cell_type": "code",
     "collapsed": false,
     "input": [
      "def date_parser(date):\n",
      "    # create a datetime instance and assume constant formatting\n",
      "    # format: 20131211 18:29:30\n",
      "    return datetime(int(date[:4]), int(date[4:6]), int(date[6:8]), int(date[9:11]), int(date[12:14]), int(date[15:17]))\n",
      "df = pd.read_csv('gps.csv', header=0, skiprows=[1], parse_dates=[0], date_parser=date_parser)"
     ],
     "language": "python",
     "metadata": {},
     "outputs": [],
     "prompt_number": 24
    },
    {
     "cell_type": "code",
     "collapsed": false,
     "input": [
      "np.genfromtxt('gps.csv', converters={0: lambda d: float(s or 0)})"
     ],
     "language": "python",
     "metadata": {},
     "outputs": []
    },
    {
     "cell_type": "code",
     "collapsed": false,
     "input": [
      "data = df.values[:,1:]\n",
      "data = np.ones((10,1000))"
     ],
     "language": "python",
     "metadata": {},
     "outputs": [],
     "prompt_number": 50
    },
    {
     "cell_type": "code",
     "collapsed": false,
     "input": [
      "h5f.createArray(data_node, 'gpsdata', data, title='gps data')\n",
      "h5f.close()"
     ],
     "language": "python",
     "metadata": {},
     "outputs": [
      {
       "metadata": {},
       "output_type": "pyout",
       "prompt_number": 49,
       "text": [
        "/data/gpsdata (Array(10, 1000)) 'gps data'\n",
        "  atom := Float64Atom(shape=(), dflt=0.0)\n",
        "  maindim := 0\n",
        "  flavor := 'numpy'\n",
        "  byteorder := 'little'\n",
        "  chunkshape := None"
       ]
      }
     ],
     "prompt_number": 49
    },
    {
     "cell_type": "markdown",
     "metadata": {},
     "source": [
      "Add all the data in the csv table"
     ]
    },
    {
     "cell_type": "code",
     "collapsed": false,
     "input": [
      "table = h5f.root.data.csv\n",
      "for row in df:\n",
      "    row = csv_table.row\n",
      "    row['Time'] = "
     ],
     "language": "python",
     "metadata": {},
     "outputs": [
      {
       "ename": "SyntaxError",
       "evalue": "invalid syntax (<ipython-input-31-c63fcbd397c6>, line 4)",
       "output_type": "pyerr",
       "traceback": [
        "\u001b[1;36m  File \u001b[1;32m\"<ipython-input-31-c63fcbd397c6>\"\u001b[1;36m, line \u001b[1;32m4\u001b[0m\n\u001b[1;33m    row['Time'] =\u001b[0m\n\u001b[1;37m                  ^\u001b[0m\n\u001b[1;31mSyntaxError\u001b[0m\u001b[1;31m:\u001b[0m invalid syntax\n"
       ]
      }
     ],
     "prompt_number": 31
    },
    {
     "cell_type": "code",
     "collapsed": false,
     "input": [
      "row = tbl_wt_runs.row"
     ],
     "language": "python",
     "metadata": {},
     "outputs": []
    },
    {
     "cell_type": "markdown",
     "metadata": {},
     "source": [
      "Example: [store DataFrame in PyTables](http://pandas.pydata.org/pandas-docs/stable/api.html?highlight=pytables#hdfstore-pytables-hdf5)\n",
      "\n",
      "Excercise:\n",
      "\n",
      "* benchmark: how fast is storing with the hdfstore, compared to native pytables and all the other examples we have seen\n",
      "\n",
      "* "
     ]
    },
    {
     "cell_type": "code",
     "collapsed": false,
     "input": [
      "date = '20131211 18:29:30'\n",
      "dt = datetime.strptime(date, \"%Y%m%d %H:%M:%S\")\n",
      "print dt.strftime('%s')\n",
      "import calendar\n",
      "print calendar.timegm(dt.utctimetuple())"
     ],
     "language": "python",
     "metadata": {},
     "outputs": [
      {
       "output_type": "stream",
       "stream": "stdout",
       "text": [
        "2013 12 11 18 29 30\n",
        "2013-12-11 18:29:30\n",
        "1386782970\n",
        "1386786570\n"
       ]
      }
     ],
     "prompt_number": 14
    },
    {
     "cell_type": "code",
     "collapsed": false,
     "input": [
      "import pandas as pd"
     ],
     "language": "python",
     "metadata": {},
     "outputs": [],
     "prompt_number": 23
    },
    {
     "cell_type": "code",
     "collapsed": false,
     "input": [],
     "language": "python",
     "metadata": {},
     "outputs": []
    }
   ],
   "metadata": {}
  }
 ]
}