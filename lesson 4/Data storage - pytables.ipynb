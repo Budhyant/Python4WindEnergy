{
 "metadata": {
  "name": ""
 },
 "nbformat": 3,
 "nbformat_minor": 0,
 "worksheets": [
  {
   "cells": [
    {
     "cell_type": "markdown",
     "metadata": {},
     "source": [
      "###PyTables\n",
      "\n",
      "PyTables is a package for managing hierarchical datasets and designed to efficiently and easily cope with extremely large amounts of data. PyTables is built on top of the HDF5 library, using the Python language and the NumPy package. This package is an alternative to [h5py](http://www.h5py.org/) which was discussed before.\n",
      "\n",
      "Features it has to offer:\n",
      "\n",
      "* structure youre data in hierarchical fashion (like in folders/directories) and add user specific data for each group/node\n",
      "\n",
      "* stores, tables or NumPy arrays, or a table of NumPy arrays\n",
      "\n",
      "* optimized for I/O speed\n",
      "\n",
      "* apply out of memory mathermatical operations on the data\n",
      "\n",
      "* file based\n",
      "\n",
      "* mainly ment for reading, be carefull when writing\n",
      "\n",
      "* well integrated within the Python ecosystem (NumPy, pandas, ...)\n",
      "\n",
      "* is not a replacement for a relational SQL database\n",
      "\n",
      "[Home page](http://www.pytables.org/moin)\n",
      "\n",
      "[GitHub dev pages](https://github.com/PyTables/PyTables)\n",
      "\n",
      "[Documentation](http://pytables.github.io/)\n",
      "\n",
      "A graphical interface to PyTables data sets exists at [ViTables](http://vitables.org/) (which also supports HDF5 files).\n",
      "\n",
      "Group GPS data by date and store each day as a table or something with Pytables"
     ]
    },
    {
     "cell_type": "code",
     "collapsed": false,
     "input": [
      "import tables as tbl"
     ],
     "language": "python",
     "metadata": {},
     "outputs": [],
     "prompt_number": 1
    },
    {
     "cell_type": "markdown",
     "metadata": {},
     "source": [
      "Defining the structure of our pytables file"
     ]
    },
    {
     "cell_type": "code",
     "collapsed": false,
     "input": [
      "class TableDefs:\n",
      "    class data(tbl.IsDescription):    \n",
      "        Time        = tbl.Int64Col()\n",
      "        Latitude_N  = tbl.Float32Col()\n",
      "        Longitude_E = tbl.Float32Col()\n",
      "        orientation = tbl.Float16Col()\n",
      "        memo        = tbl.StringCol(16)\n",
      "    class statistics(tbl.IsDescription):\n",
      "        memo        = tbl.StringCol(16)"
     ],
     "language": "python",
     "metadata": {},
     "outputs": []
    },
    {
     "cell_type": "markdown",
     "metadata": {},
     "source": [
      "Creating, opening and closing an HDF5 PyTables file"
     ]
    },
    {
     "cell_type": "code",
     "collapsed": false,
     "input": [
      "def get_db(fpath):\n",
      "    # if the database does not exist, create one\n",
      "    try:\n",
      "        #h5f = open(src).close()\n",
      "        h5f = tbl.openFile(fpath, mode = \"r+\", title = \"gps_db\")\n",
      "        print 'h5file opened:', fpath\n",
      "    except IOError:\n",
      "        # if the file does not exists, create it with the correct columns\n",
      "        # note that the mode w will delete any existing one\n",
      "        h5f = tbl.openFile(fpath, mode = \"w\", title = \"gps_db\")\n",
      "        \n",
      "        # layout global structure\n",
      "        descr = 'GPS Data'\n",
      "        data_group = h5f.createGroup(\"/\", 'data', descr)\n",
      "        \n",
      "        # besides the data as a numpy array, we will also save it as a table\n",
      "        descr = 'GPS data imported from CSV file'\n",
      "        table = h5f.createTable(data_group, 'csv', TableDefs.data, descr)\n",
      "        table.flush()\n",
      "        \n",
      "        # subgroup: data sorted per month\n",
      "        descr = 'Months'\n",
      "        h5f.createGroup(\"/data\", 'months', descr)\n",
      "        \n",
      "        # A table that could hold statistical data per month\n",
      "        descr = 'Monthly Statistics on GPS Data'\n",
      "        table = h5f.createTable(data_group, 'statistics', TableDefs.statistics, descr)\n",
      "        table.flush()\n",
      "        \n",
      "        # If you would close the empty file now the created groups are lost.\n",
      "        \n",
      "        print 'empty h5file created:', fpath\n",
      "    return h5f"
     ],
     "language": "python",
     "metadata": {},
     "outputs": []
    },
    {
     "cell_type": "markdown",
     "metadata": {},
     "source": [
      "How to build in some concurrency"
     ]
    },
    {
     "cell_type": "code",
     "collapsed": false,
     "input": [
      "def get_node(h5f, node, descr=''):\n",
      "    \"\"\"\n",
      "    open in write mode with some concurrency build in\n",
      "    \"\"\"\n",
      "    try:\n",
      "        group_node = h5f.getNode('/'+node)\n",
      "    except tbl.exceptions.NoSuchNodeError:\n",
      "        group_node = h5f.createGroup(\"/\", node, descr)\n",
      "    except Exception as exception:\n",
      "        h5f.close()\n",
      "        raise exception\n",
      "    return group_node"
     ],
     "language": "python",
     "metadata": {},
     "outputs": []
    },
    {
     "cell_type": "code",
     "collapsed": false,
     "input": [
      "def get_table(group, table_name, descr='')\n",
      "    try:\n",
      "        table = getattr(h5f.root.group_name, table_name)\n",
      "    except tbl.exceptions.NoSuchNodeError:\n",
      "        table = h5f.createTable(group, 'runs', TableDefs.WindTunnelTestRuns, descr)\n",
      "        tbl_wt_runs.flush()\n",
      "    except Exception as exception:\n",
      "        h5f.close()\n",
      "        raise exception"
     ],
     "language": "python",
     "metadata": {},
     "outputs": []
    },
    {
     "cell_type": "markdown",
     "metadata": {},
     "source": [
      "Lets save the GPS data as found from the CSV file. Convert datetime object to UNIX time stamp"
     ]
    },
    {
     "cell_type": "code",
     "collapsed": false,
     "input": [
      "h5f.createArray(group_node, name, data, title=title)"
     ],
     "language": "python",
     "metadata": {},
     "outputs": []
    },
    {
     "cell_type": "markdown",
     "metadata": {},
     "source": [
      "Add all the data in the csv table"
     ]
    },
    {
     "cell_type": "code",
     "collapsed": false,
     "input": [
      "h5f = get_db(fpath)\n",
      "table = h5f.root.data.csv\n",
      "row = csv_table.row\n",
      "row['Time'] = "
     ],
     "language": "python",
     "metadata": {},
     "outputs": []
    },
    {
     "cell_type": "code",
     "collapsed": false,
     "input": [
      "row = tbl_wt_runs.row"
     ],
     "language": "python",
     "metadata": {},
     "outputs": []
    },
    {
     "cell_type": "markdown",
     "metadata": {},
     "source": [
      "Example: [store DataFrame in PyTables](http://pandas.pydata.org/pandas-docs/stable/api.html?highlight=pytables#hdfstore-pytables-hdf5)\n",
      "\n",
      "Excercise:\n",
      "\n",
      "* benchmark: how fast is storing with the hdfstore, compared to native pytables and all the other examples we have seen\n",
      "\n",
      "* "
     ]
    }
   ],
   "metadata": {}
  }
 ]
}