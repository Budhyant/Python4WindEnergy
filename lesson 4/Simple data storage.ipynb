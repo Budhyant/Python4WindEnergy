{
 "metadata": {
  "name": ""
 },
 "nbformat": 3,
 "nbformat_minor": 0,
 "worksheets": [
  {
   "cells": [
    {
     "cell_type": "markdown",
     "metadata": {},
     "source": [
      "#Data storage\n",
      "This notebook will take you through some different methods of loading, interpreting and saving data."
     ]
    },
    {
     "cell_type": "code",
     "collapsed": false,
     "input": [
      "%load_ext logit\n",
      "user_name = # your 4 letter username"
     ],
     "language": "python",
     "metadata": {},
     "outputs": []
    },
    {
     "cell_type": "markdown",
     "metadata": {},
     "source": [
      "##Load data\n",
      "###Manual csv reading\n",
      "Open the file 'gps.csv' and print out the first 5 lines"
     ]
    },
    {
     "cell_type": "code",
     "collapsed": false,
     "input": [
      "%%logit readlines, gps.csv\n",
      "with open('gps.csv') ...\n",
      "    "
     ],
     "language": "python",
     "metadata": {},
     "outputs": []
    },
    {
     "cell_type": "markdown",
     "metadata": {},
     "source": [
      "Make a function that loads the file and returns the contents as a list of lists like this:\n",
      "\n",
      "\n",
      "\n",
      "    [['Time', 'Latitude N', 'Longitude E', 'UTM zone32U Easting', 'UTM zone 32U northing', 'Unknown', 'Platform orientation'],\n",
      "    ['s', 'deg', 'deg', 'm', 'm', '-', 'deg'], \n",
      "    ['20130925 00:00:17', '54.9490087', '11.0242362', '629642.4', '6090992.3', '277034.3', '327.7'], \n",
      "    ['20130925 00:00:46', '54.9491601', '11.0244624', '629656.4', '6091009.5', '277046.3', '325.4'], \n",
      "    ['20130925 00:01:17', '54.9493249', '11.0247175', '629672.2', '6091028.4', '277060.0', '323.7']]"
     ]
    },
    {
     "cell_type": "code",
     "collapsed": false,
     "input": [
      "def read_csv(filename):\n",
      "    ...\n",
      "\n",
      "    \n",
      "names, units, data = read_csv('gps.csv')\n",
      "print \"Names:\", names\n",
      "print \"Units:\", units\n",
      "\n",
      "for r in data[:5]:\n",
      "    print r\n",
      "assert data[4][3]=='327.5', \"%s!=%s\"%(data[4][3], '327.5')\n",
      "\n"
     ],
     "language": "python",
     "metadata": {},
     "outputs": []
    },
    {
     "cell_type": "code",
     "collapsed": false,
     "input": [
      "%%logit read_csv, gps.csv  \n",
      "tmp = read_csv('gps.csv')"
     ],
     "language": "python",
     "metadata": {},
     "outputs": []
    },
    {
     "cell_type": "markdown",
     "metadata": {},
     "source": [
      "###CSV module\n",
      "Do the same using the [csv](http://docs.python.org/2/library/csv.html)-module"
     ]
    },
    {
     "cell_type": "code",
     "collapsed": false,
     "input": [
      "import csv\n",
      "def read_csv_module(filename):\n",
      "    ...\n",
      "        \n",
      "names, units, data = read_csv_module('gps.csv')\n",
      "print \"Names:\", names\n",
      "print \"Units:\", units\n",
      "\n",
      "for r in data[:5]:\n",
      "    print r\n",
      "assert data[4][3]=='327.5', \"%s!=%s\"%(data[4][3], '327.5')\n"
     ],
     "language": "python",
     "metadata": {},
     "outputs": []
    },
    {
     "cell_type": "code",
     "collapsed": false,
     "input": [
      "%%logit read_csv_module, gps.csv\n",
      "tmp = read_csv_module('gps.csv')"
     ],
     "language": "python",
     "metadata": {},
     "outputs": []
    },
    {
     "cell_type": "markdown",
     "metadata": {},
     "source": [
      "##Interpreting data\n",
      "###Interpret dates using the [datetime](http://docs.python.org/2/library/datetime.html#datetime-objects)-module\n",
      "\n",
      ">Constructor: [`datetime.datetime(year, month, day[, hour[, minute[, second[, microsecond[, tzinfo]]]]])`](http://docs.python.org/2/library/datetime.html#datetime.datetime)\n",
      "\n",
      ">Parse string: [`datetime.strptime(date_string, format)`](http://docs.python.org/2/library/datetime.html#datetime.datetime.strptime)\n",
      "\n",
      ">Format datetime: [`datetime.strftime(format)`](http://docs.python.org/2/library/datetime.html#datetime.datetime.strftime)\n",
      "\n",
      ">Format specification: http://docs.python.org/2/library/datetime.html#strftime-and-strptime-behavior"
     ]
    },
    {
     "cell_type": "markdown",
     "metadata": {},
     "source": [
      "Create the right format and test it on the date in row 1000:"
     ]
    },
    {
     "cell_type": "code",
     "collapsed": false,
     "input": [
      "from datetime import datetime\n",
      "fmt = \"%Y...\n",
      "\n",
      "d = datetime.strptime(data[1000][0], fmt)\n",
      "print d\n",
      "assert d==datetime(2013,11,14,14,25,19)\n"
     ],
     "language": "python",
     "metadata": {},
     "outputs": []
    },
    {
     "cell_type": "markdown",
     "metadata": {},
     "source": [
      "Make a list of datetime-objects from the date/time-strings in the first column"
     ]
    },
    {
     "cell_type": "code",
     "collapsed": false,
     "input": [
      "dates = [datetime.strptime...\n",
      "print dates[:3]"
     ],
     "language": "python",
     "metadata": {},
     "outputs": []
    },
    {
     "cell_type": "markdown",
     "metadata": {},
     "source": [
      "Make a list with the weekday name of the dates"
     ]
    },
    {
     "cell_type": "code",
     "collapsed": false,
     "input": [
      "weekdays = [datetime.strftime...\n",
      "print set(weekdays)"
     ],
     "language": "python",
     "metadata": {},
     "outputs": []
    },
    {
     "cell_type": "markdown",
     "metadata": {},
     "source": [
      "###Interpret floating point values\n",
      "Parse the data into a 32bit float numpy array (i.e. exclude the date/time column)"
     ]
    },
    {
     "cell_type": "code",
     "collapsed": false,
     "input": [
      "import numpy as np\n",
      "np_floats = ...\n",
      "print np_floats; \n",
      "print np_floats.shape; assert np_floats.shape == (142779, 3)\n",
      "print np_floats.dtype; assert np_floats.dtype==np.float32"
     ],
     "language": "python",
     "metadata": {},
     "outputs": []
    },
    {
     "cell_type": "markdown",
     "metadata": {},
     "source": [
      "Make a dictionary with the keys: \n",
      "\n",
      "`dates, weekdays, latitude, longitude, orientation`\n",
      "\n",
      "and assign to each key the corresponding list\n",
      "\n"
     ]
    },
    {
     "cell_type": "code",
     "collapsed": false,
     "input": [
      "data_dict = {'dates':dates,\n",
      "             ...\n",
      "\n",
      "for k, v in data_dict.items():\n",
      "    print \"%-20s\\t%-20s\\t%s\" % (k, v[0], v[0].__class__)"
     ],
     "language": "python",
     "metadata": {},
     "outputs": []
    },
    {
     "cell_type": "markdown",
     "metadata": {},
     "source": [
      "##Saving data"
     ]
    },
    {
     "cell_type": "markdown",
     "metadata": {},
     "source": [
      "Before we save any data, it is necessary to consider the datatype.\n",
      "\n",
      "**Dates** can be saved as \n",
      "\n",
      "|                 | good | bad|\n",
      "| --------------- |----- | --- |\n",
      "| datetime-object | Easy to work with in python, pickles directly | file size, string representation not suitable for saving|\n",
      "| string          | Easy to read in file | file size, parsing required |\n",
      "| 64 bit float (i.e. seconds since 1/1/1970)    | Compact in file | difficult to read in file, parsing required |"
     ]
    },
    {
     "cell_type": "code",
     "collapsed": false,
     "input": [
      "date_objects = dates\n",
      "date_strings = [ row[0] for row in data]\n",
      "date_floats = [(dt - datetime.utcfromtimestamp(0)).total_seconds() for dt in date_objects]\n",
      "\n",
      "print date_objects[0]\n",
      "print date_strings[0]\n",
      "print date_floats[0]"
     ],
     "language": "python",
     "metadata": {},
     "outputs": []
    },
    {
     "cell_type": "markdown",
     "metadata": {},
     "source": [
      "**Weekdays** can be saved as\n",
      "\n",
      "- String (Monday, Mon,...)\n",
      "- Integer (1)"
     ]
    },
    {
     "cell_type": "code",
     "collapsed": false,
     "input": [
      "weekday_strings = weekdays\n",
      "weekday_integers = [int(datetime.strftime(d,\"%w\")) for d in dates]\n",
      "\n",
      "print weekday_strings[0]\n",
      "print weekday_integers[0]"
     ],
     "language": "python",
     "metadata": {},
     "outputs": []
    },
    {
     "cell_type": "markdown",
     "metadata": {},
     "source": [
      "Before we go on, make a function that returns the size of a file in mb"
     ]
    },
    {
     "cell_type": "code",
     "collapsed": false,
     "input": [
      "import os\n",
      "def fsize(filename):\n",
      "    return ...\n",
      "    \n",
      "print fsize('gps.csv')\n",
      "assert np.round(fsize('gps.csv'),2) == 6.33"
     ],
     "language": "python",
     "metadata": {},
     "outputs": []
    },
    {
     "cell_type": "markdown",
     "metadata": {},
     "source": [
      "###Save manual as CSV"
     ]
    },
    {
     "cell_type": "markdown",
     "metadata": {},
     "source": [
      "Make a function `save_csv` that saves its `data`-argument (list of list) as csv with names and units as header"
     ]
    },
    {
     "cell_type": "code",
     "collapsed": false,
     "input": [
      "def save_csv(filename, names, units, data):\n",
      "    ...\n",
      "    "
     ],
     "language": "python",
     "metadata": {},
     "outputs": []
    },
    {
     "cell_type": "code",
     "collapsed": false,
     "input": [
      "%%logit save_csv, tmp.csv\n",
      "save_csv('tmp.csv', names, units, data)"
     ],
     "language": "python",
     "metadata": {},
     "outputs": []
    },
    {
     "cell_type": "code",
     "collapsed": false,
     "input": [
      "import os\n",
      "print fsize('tmp.csv'), fsize('gps.csv')\n",
      "#assert fsize('tmp.csv') == fsize('gps.csv')"
     ],
     "language": "python",
     "metadata": {},
     "outputs": []
    },
    {
     "cell_type": "markdown",
     "metadata": {},
     "source": [
      "###CSV module"
     ]
    },
    {
     "cell_type": "markdown",
     "metadata": {},
     "source": [
      "Do the same using the [csv](http://docs.python.org/2/library/csv.html)-module"
     ]
    },
    {
     "cell_type": "code",
     "collapsed": false,
     "input": [
      "import csv\n",
      "def save_csv_module(filename, names, units, data):\n",
      "    ...\n",
      "%timeit save_csv_module('tmp.csv', names, units, data)"
     ],
     "language": "python",
     "metadata": {},
     "outputs": []
    },
    {
     "cell_type": "code",
     "collapsed": false,
     "input": [
      "%%logit save_csv_module, tmp.csv\n",
      "save_csv_module('tmp.csv', names, units, data)"
     ],
     "language": "python",
     "metadata": {},
     "outputs": []
    },
    {
     "cell_type": "code",
     "collapsed": false,
     "input": [
      "import os\n",
      "print fsize('tmp.csv'), fsize('gps.csv')\n",
      "assert fsize('tmp.csv') == fsize('gps.csv')"
     ],
     "language": "python",
     "metadata": {},
     "outputs": []
    },
    {
     "cell_type": "markdown",
     "metadata": {},
     "source": [
      "##Numpy"
     ]
    },
    {
     "cell_type": "markdown",
     "metadata": {},
     "source": [
      "Numpy arrays can be saved directly as csv, binary and compressed binary. Unfortunately these options do not support datetime-objects or strings.\n",
      "\n",
      "So we need to concatenate a `np_data` array of date_floats, weekday_integers and np_floats"
     ]
    },
    {
     "cell_type": "code",
     "collapsed": false,
     "input": [
      "print np.atleast_2d(np.array(date_floats)).shape\n",
      "print np.atleast_2d(np.array(weekday_integers)).shape\n",
      "print np_floats.T.shape\n",
      "\n",
      "np_data = np.r_[...\n",
      "                \n",
      "                \n",
      "print np_data.shape\n",
      "assert np_data.shape==(142779,5)\n",
      "print np_data.dtype\n",
      "assert np_data.dtype==np.float64"
     ],
     "language": "python",
     "metadata": {},
     "outputs": []
    },
    {
     "cell_type": "markdown",
     "metadata": {},
     "source": [
      "Save the float array `np_data` as [csv](http://docs.scipy.org/doc/numpy/reference/generated/numpy.savetxt.html) and [binary](http://docs.scipy.org/doc/numpy/reference/generated/numpy.save.html#numpy.save) and [compressed binary](http://docs.scipy.org/doc/numpy/reference/generated/numpy.savez.html#numpy.savez) using numpy "
     ]
    },
    {
     "cell_type": "code",
     "collapsed": false,
     "input": [
      "%%logit save_csv, tmp.csv\n",
      "np.s..."
     ],
     "language": "python",
     "metadata": {},
     "outputs": []
    },
    {
     "cell_type": "code",
     "collapsed": false,
     "input": [
      "%%logit save_bin, tmp.npy\n",
      "np.s..."
     ],
     "language": "python",
     "metadata": {},
     "outputs": []
    },
    {
     "cell_type": "code",
     "collapsed": false,
     "input": [
      "%%logit save_zipbin, tmp.npz\n",
      "np.s..."
     ],
     "language": "python",
     "metadata": {},
     "outputs": []
    },
    {
     "cell_type": "markdown",
     "metadata": {},
     "source": [
      "##Pickle\n",
      "\n",
      "Pickle is a way to save and load python objects (e.g. `data_dict`) directly, even though it contains a mix of dict, list string, float and datetime-objects, as you can see by running the next cell"
     ]
    },
    {
     "cell_type": "code",
     "collapsed": false,
     "input": [
      "for k, v in data_dict.items():\n",
      "    print \"%-20s\\t%-20s\\t%s\" % (k, v[0], v[0].__class__)"
     ],
     "language": "python",
     "metadata": {},
     "outputs": []
    },
    {
     "cell_type": "markdown",
     "metadata": {},
     "source": [
      "\n",
      "\n",
      "Save `data_dict` as binary using [cpickle](http://docs.python.org/2/library/pickle.html) - a faster implementation of [pickle](http://docs.python.org/2/library/pickle.html)\n",
      "\n",
      "See example at https://wiki.python.org/moin/UsingPickle"
     ]
    },
    {
     "cell_type": "code",
     "collapsed": false,
     "input": [
      "%%logit cpickle_dump, tmp.bin\n",
      "import cPickle as pickle\n",
      "pickle....\n",
      "print fsize('tmp.bin')"
     ],
     "language": "python",
     "metadata": {},
     "outputs": []
    },
    {
     "cell_type": "code",
     "collapsed": false,
     "input": [
      "loaded_dict = pickle.load(open('tmp.bin'))\n",
      "for k, v in loaded_dict.items():\n",
      "    print \"%-20s\\t%-20s\\t%s\" % (k, v[0], v[0].__class__)"
     ],
     "language": "python",
     "metadata": {},
     "outputs": []
    },
    {
     "cell_type": "markdown",
     "metadata": {},
     "source": [
      "###Json\n",
      "\n",
      "Json is a human readable standard data format. It is quite similar to xml, but a little more compact (compression (like zip) will reduce the file size of both xml and json considerably).\n",
      "\n",
      "The python `json` module are able to format e.g. a python dictionary as json, but only pure python types are supported, i.e. not datetime-objects or numpy arrays. Therefore a pure python dict is created"
     ]
    },
    {
     "cell_type": "code",
     "collapsed": false,
     "input": [
      "pydata_dict = {'dates': date_strings,\n",
      "               'weekdays':weekdays, \n",
      "             'latitude':np_data[:,2].tolist(), \n",
      "             'longitude':np_data[:,3].tolist(), \n",
      "             'orientation':np_data[:,4].tolist()}\n",
      "\n",
      "for k, v in pydata_dict.items():\n",
      "    print \"%-20s\\t%-20s\\t%s\" % (k, v[0], v[0].__class__)"
     ],
     "language": "python",
     "metadata": {},
     "outputs": []
    },
    {
     "cell_type": "markdown",
     "metadata": {},
     "source": [
      "The following function saves dumps the data argument into a json (pretty) formated file"
     ]
    },
    {
     "cell_type": "code",
     "collapsed": false,
     "input": [
      "import json\n",
      "def save_json(filename, data):\n",
      "    with open(filename,'w') as fid:\n",
      "        fid.write(json.dumps(data, sort_keys=True, indent=4, separators=(',', ': ')))\n"
     ],
     "language": "python",
     "metadata": {},
     "outputs": []
    },
    {
     "cell_type": "code",
     "collapsed": false,
     "input": [
      "%%logit save_json, tmp.json\n",
      "save_json('tmp.json', pydata_dict)"
     ],
     "language": "python",
     "metadata": {},
     "outputs": []
    },
    {
     "cell_type": "markdown",
     "metadata": {},
     "source": [
      "###HDF5\n",
      "\n",
      "HDF5 is a hirachical dataformat like json and xml, but it is binary and therefore much more compact. The drawback is that a program is required to read the files, e.g. HDFView\n",
      "\n",
      "<img src=\"files/HDF5view.png\">\n",
      "\n",
      "In order to use HDF5 from python the module h5py (http://www.h5py.org/) is required (included in winpython, but not in anaconda)\n",
      "\n",
      "`pip install h5py`"
     ]
    },
    {
     "cell_type": "markdown",
     "metadata": {},
     "source": [
      "HDF5 stores numpy arrays as datasets, so pydata_dict can be saved like this"
     ]
    },
    {
     "cell_type": "code",
     "collapsed": false,
     "input": [
      "for k, v in pydata_dict.items():\n",
      "    print \"%-20s\\t%-20s\\t%s\" % (k, v[0], v[0].__class__)"
     ],
     "language": "python",
     "metadata": {},
     "outputs": []
    },
    {
     "cell_type": "code",
     "collapsed": false,
     "input": [
      "import h5py\n",
      "def save_hdf5(filename, data):\n",
      "    f = h5py.File(filename, \"w\")\n",
      "    try:\n",
      "        for k,v in data.items():\n",
      "            f.create_dataset(k,data=np.array(v))\n",
      "    except Exception:\n",
      "        pass\n",
      "    f.close()\n"
     ],
     "language": "python",
     "metadata": {},
     "outputs": []
    },
    {
     "cell_type": "code",
     "collapsed": false,
     "input": [
      "%%logit save_hdf5, tmp.hdf5\n",
      "save_hdf5('tmp.hdf5', pydata_dict)"
     ],
     "language": "python",
     "metadata": {},
     "outputs": []
    },
    {
     "cell_type": "markdown",
     "metadata": {},
     "source": [
      "It is however possible to reduce the file size if proper data types are manually selected for all lists"
     ]
    },
    {
     "cell_type": "code",
     "collapsed": false,
     "input": [
      "npdata_dict = {'dates':np_data[:,0],\n",
      "               'weekdays': np_data[:,1].astype(np.int8), \n",
      "             'latitude':np_data[:,2], \n",
      "             'longitude':np_data[:,3].astype(np.float32), \n",
      "             'orientation':np_data[:,4].astype(np.float32)}\n",
      "\n",
      "for k, v in npdata_dict.items():\n",
      "    print \"%-20s\\t%-20s\\t%s\" % (k, v[0], v[0].__class__)"
     ],
     "language": "python",
     "metadata": {},
     "outputs": []
    },
    {
     "cell_type": "code",
     "collapsed": false,
     "input": [
      "%%logit save_hdf5_astype, tmp.hdf5\n",
      "save_hdf5('tmp.hdf5', npdata_dict)"
     ],
     "language": "python",
     "metadata": {},
     "outputs": []
    }
   ],
   "metadata": {}
  }
 ]
}