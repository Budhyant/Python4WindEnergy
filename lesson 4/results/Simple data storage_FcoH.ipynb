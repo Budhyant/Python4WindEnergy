{
 "metadata": {
  "name": ""
 },
 "nbformat": 3,
 "nbformat_minor": 0,
 "worksheets": [
  {
   "cells": [
    {
     "cell_type": "markdown",
     "metadata": {},
     "source": [
      "#Data storage\n",
      "This notebook will take you through some different methods of loading, interpreting and saving data."
     ]
    },
    {
     "cell_type": "code",
     "collapsed": false,
     "input": [
      "%load_ext logit\n",
      "user_name = 'FcoH'"
     ],
     "language": "python",
     "metadata": {},
     "outputs": [],
     "prompt_number": 1
    },
    {
     "cell_type": "markdown",
     "metadata": {},
     "source": [
      "##Load data\n",
      "###Manual csv reading\n",
      "Open the file 'gps.csv' and print out the first 5 lines"
     ]
    },
    {
     "cell_type": "code",
     "collapsed": false,
     "input": [
      "%%logit readlines, gps.csv\n",
      "with open('gps.csv') as f:\n",
      "    for i in range(5):\n",
      "        print f.readline()\n",
      "    "
     ],
     "language": "python",
     "metadata": {},
     "outputs": [
      {
       "output_type": "stream",
       "stream": "stdout",
       "text": [
        "Time,Latitude N,Longitude E,orientation\n",
        "\n",
        "s,deg,deg,deg\n",
        "\n",
        "20131114 06:05:19,42.6040087,13.3692362,327.7\n",
        "\n",
        "20131114 06:05:48,42.6041601,13.3694624,325.4\n",
        "\n",
        "20131114 06:06:19,42.6043249,13.3697175,323.7\n",
        "\n",
        "readlines :\n",
        "14-03-05 08:48:15\n",
        "File size: 6.32970333099 MB\n",
        "Creation time: 0.000974286144381 sec\n"
       ]
      }
     ],
     "prompt_number": 2
    },
    {
     "cell_type": "markdown",
     "metadata": {},
     "source": [
      "Make a function that loads the file and returns the contents as a list of lists like this:\n",
      "\n",
      "\n",
      "\n",
      "    [['Time', 'Latitude N', 'Longitude E', 'UTM zone32U Easting', 'UTM zone 32U northing', 'Unknown', 'Platform orientation'],\n",
      "    ['s', 'deg', 'deg', 'm', 'm', '-', 'deg'], \n",
      "    ['20130925 00:00:17', '54.9490087', '11.0242362', '629642.4', '6090992.3', '277034.3', '327.7'], \n",
      "    ['20130925 00:00:46', '54.9491601', '11.0244624', '629656.4', '6091009.5', '277046.3', '325.4'], \n",
      "    ['20130925 00:01:17', '54.9493249', '11.0247175', '629672.2', '6091028.4', '277060.0', '323.7']]"
     ]
    },
    {
     "cell_type": "code",
     "collapsed": false,
     "input": [
      "def read_csv(filename):\n",
      "    name=[]\n",
      "    units=[]\n",
      "    data=[]\n",
      "    with open(filename) as f:\n",
      "        name.append(f.readline().split(\",\"))\n",
      "        units.append(f.readline().split(\",\"))\n",
      "        for i in f.readlines():\n",
      "            data.append(i.strip().split(\",\"))\n",
      "    return name, units, data\n",
      "\n",
      "    \n",
      "names, units, data = read_csv('gps.csv')\n",
      "print \"Names:\", names\n",
      "print \"Units:\", units\n",
      "\n",
      "for r in data[:5]:\n",
      "    print r\n",
      "assert data[4][3]=='327.5', \"%s!=%s\"%(data[4][3], '327.5')\n",
      "\n"
     ],
     "language": "python",
     "metadata": {},
     "outputs": [
      {
       "output_type": "stream",
       "stream": "stdout",
       "text": [
        "Names: [['Time', 'Latitude N', 'Longitude E', 'orientation\\n']]\n",
        "Units: [['s', 'deg', 'deg', 'deg\\n']]\n",
        "['20131114 06:05:19', '42.6040087', '13.3692362', '327.7']\n",
        "['20131114 06:05:48', '42.6041601', '13.3694624', '325.4']\n",
        "['20131114 06:06:19', '42.6043249', '13.3697175', '323.7']\n",
        "['20131114 06:06:48', '42.6044777', '13.3699596', '325.6']\n",
        "['20131114 06:07:19', '42.6046397', '13.3702266', '327.5']\n"
       ]
      }
     ],
     "prompt_number": 3
    },
    {
     "cell_type": "code",
     "collapsed": false,
     "input": [
      "%%logit read_csv, gps.csv  \n",
      "tmp = read_csv('gps.csv')"
     ],
     "language": "python",
     "metadata": {},
     "outputs": [
      {
       "output_type": "stream",
       "stream": "stdout",
       "text": [
        "read_csv :\n",
        "14-03-05 08:48:20\n",
        "File size: 6.32970333099 MB\n",
        "Creation time: 0.182510062175 sec\n"
       ]
      }
     ],
     "prompt_number": 4
    },
    {
     "cell_type": "markdown",
     "metadata": {},
     "source": [
      "###CSV module\n",
      "Do the same using the [csv](http://docs.python.org/2/library/csv.html)-module"
     ]
    },
    {
     "cell_type": "code",
     "collapsed": false,
     "input": [
      "import csv\n",
      "def read_csv_module(filename):\n",
      "    with open(filename, 'rb') as csvfile:\n",
      "        reader = csv.reader(csvfile, delimiter=',')\n",
      "        return next(reader), next(reader),  list(reader)\n",
      "        \n",
      "names, units, data = read_csv_module('gps.csv')\n",
      "print \"Names:\", names\n",
      "print \"Units:\", units\n",
      "\n",
      "for r in data[:5]:\n",
      "    print r\n",
      "assert data[4][3]=='327.5', \"%s!=%s\"%(data[4][3], '327.5')\n"
     ],
     "language": "python",
     "metadata": {},
     "outputs": [
      {
       "output_type": "stream",
       "stream": "stdout",
       "text": [
        "Names: ['Time', 'Latitude N', 'Longitude E', 'orientation']\n",
        "Units: ['s', 'deg', 'deg', 'deg']\n",
        "['20131114 06:05:19', '42.6040087', '13.3692362', '327.7']\n",
        "['20131114 06:05:48', '42.6041601', '13.3694624', '325.4']\n",
        "['20131114 06:06:19', '42.6043249', '13.3697175', '323.7']\n",
        "['20131114 06:06:48', '42.6044777', '13.3699596', '325.6']\n",
        "['20131114 06:07:19', '42.6046397', '13.3702266', '327.5']\n"
       ]
      }
     ],
     "prompt_number": 5
    },
    {
     "cell_type": "code",
     "collapsed": false,
     "input": [
      "%%logit read_csv_module, gps.csv\n",
      "tmp = read_csv_module('gps.csv')"
     ],
     "language": "python",
     "metadata": {},
     "outputs": [
      {
       "output_type": "stream",
       "stream": "stdout",
       "text": [
        "read_csv_module :\n",
        "14-03-05 08:48:27\n",
        "File size: 6.32970333099 MB\n",
        "Creation time: 0.206182592551 sec\n"
       ]
      }
     ],
     "prompt_number": 6
    },
    {
     "cell_type": "markdown",
     "metadata": {},
     "source": [
      "##Interpreting data\n",
      "###Interpret dates using the [datetime](http://docs.python.org/2/library/datetime.html#datetime-objects)-module\n",
      "\n",
      ">Constructor: [`datetime.datetime(year, month, day[, hour[, minute[, second[, microsecond[, tzinfo]]]]])`](http://docs.python.org/2/library/datetime.html#datetime.datetime)\n",
      "\n",
      ">Parse string: [`datetime.strptime(date_string, format)`](http://docs.python.org/2/library/datetime.html#datetime.datetime.strptime)\n",
      "\n",
      ">Format datetime: [`datetime.strftime(format)`](http://docs.python.org/2/library/datetime.html#datetime.datetime.strftime)\n",
      "\n",
      ">Format specification: http://docs.python.org/2/library/datetime.html#strftime-and-strptime-behavior"
     ]
    },
    {
     "cell_type": "markdown",
     "metadata": {},
     "source": [
      "Create the right format and test it on the date in row 1000:"
     ]
    },
    {
     "cell_type": "code",
     "collapsed": false,
     "input": [
      "from datetime import datetime\n",
      "fmt = \"%Y%m%d %H:%M:%S\"\n",
      "\n",
      "d = datetime.strptime(data[1000][0], fmt)\n",
      "print d\n",
      "assert d==datetime(2013,11,14,14,25,19)\n"
     ],
     "language": "python",
     "metadata": {},
     "outputs": [
      {
       "output_type": "stream",
       "stream": "stdout",
       "text": [
        "2013-11-14 14:25:19\n"
       ]
      }
     ],
     "prompt_number": 7
    },
    {
     "cell_type": "markdown",
     "metadata": {},
     "source": [
      "Make a list of datetime-objects from the date/time-strings in the first column"
     ]
    },
    {
     "cell_type": "code",
     "collapsed": false,
     "input": [
      "dates = [datetime.strptime(l[0], fmt) for l in data]\n",
      "print dates[:3]"
     ],
     "language": "python",
     "metadata": {},
     "outputs": [
      {
       "output_type": "stream",
       "stream": "stdout",
       "text": [
        "[datetime.datetime(2013, 11, 14, 6, 5, 19), datetime.datetime(2013, 11, 14, 6, 5, 48), datetime.datetime(2013, 11, 14, 6, 6, 19)]\n"
       ]
      }
     ],
     "prompt_number": 8
    },
    {
     "cell_type": "markdown",
     "metadata": {},
     "source": [
      "Make a list with the weekday name of the dates"
     ]
    },
    {
     "cell_type": "code",
     "collapsed": false,
     "input": [
      "weekdays = [datetime.strftime(l,\"%A\") for l in dates]\n",
      "print set(weekdays)"
     ],
     "language": "python",
     "metadata": {},
     "outputs": [
      {
       "output_type": "stream",
       "stream": "stdout",
       "text": [
        "set(['Monday', 'Tuesday', 'Friday', 'Wednesday', 'Thursday', 'Sunday', 'Saturday'])\n"
       ]
      }
     ],
     "prompt_number": 9
    },
    {
     "cell_type": "markdown",
     "metadata": {},
     "source": [
      "###Interpret floating point values\n",
      "Parse the data into a 32bit float numpy array (i.e. exclude the date/time column)"
     ]
    },
    {
     "cell_type": "code",
     "collapsed": false,
     "input": [
      "import numpy as np\n",
      "np_floats = np.array(data)[:,1:].astype(np.float32)\n",
      "print np_floats; \n",
      "print np_floats.shape; assert np_floats.shape == (142779, 3)\n",
      "print np_floats.dtype; assert np_floats.dtype==np.float32"
     ],
     "language": "python",
     "metadata": {},
     "outputs": [
      {
       "output_type": "stream",
       "stream": "stdout",
       "text": [
        "[[  42.60400772   13.36923599  327.70001221]\n",
        " [  42.60416031   13.36946201  325.3999939 ]\n",
        " [  42.60432434   13.3697176   323.70001221]\n",
        " ..., \n",
        " [  42.48498154   13.46849155   46.29999924]\n",
        " [  42.48497772   13.46849251   46.79999924]\n",
        " [  42.48497772   13.46849251   46.79999924]]\n",
        "(142779, 3)\n",
        "float32\n"
       ]
      }
     ],
     "prompt_number": 10
    },
    {
     "cell_type": "markdown",
     "metadata": {},
     "source": [
      "Make a dictionary with the keys: \n",
      "\n",
      "`dates, weekdays, latitude, longitude, orientation`\n",
      "\n",
      "and assign to each key the corresponding list\n",
      "\n"
     ]
    },
    {
     "cell_type": "code",
     "collapsed": false,
     "input": [
      "data_dict = {'dates':dates,\n",
      "             'weekdays':weekdays,\n",
      "             'latitude':np_floats[:,0],\n",
      "             'longitude':np_floats[:,1],\n",
      "             'orientation':np_floats[:,2]}\n",
      "\n",
      "for k, v in data_dict.items():\n",
      "    print \"%-20s\\t%-20s\\t%s\" % (k, v[0], v[0].__class__)"
     ],
     "language": "python",
     "metadata": {},
     "outputs": [
      {
       "output_type": "stream",
       "stream": "stdout",
       "text": [
        "latitude            \t42.604              \t<type 'numpy.float32'>\n",
        "dates               \t2013-11-14 06:05:19 \t<type 'datetime.datetime'>\n",
        "weekdays            \tThursday            \t<type 'str'>\n",
        "longitude           \t13.3692             \t<type 'numpy.float32'>\n",
        "orientation         \t327.7               \t<type 'numpy.float32'>\n"
       ]
      }
     ],
     "prompt_number": 11
    },
    {
     "cell_type": "markdown",
     "metadata": {},
     "source": [
      "##Saving data"
     ]
    },
    {
     "cell_type": "markdown",
     "metadata": {},
     "source": [
      "Before we save any data, it is necessary to consider the datatype.\n",
      "\n",
      "**Dates** can be saved as \n",
      "\n",
      "|                 | good | bad|\n",
      "| --------------- |----- | --- |\n",
      "| datetime-object | Easy to work with in python, pickles directly | file size, string representation not suitable for saving|\n",
      "| string          | Easy to read in file | file size, parsing required |\n",
      "| 64 bit float (i.e. seconds since 1/1/1970)    | Compact in file | difficult to read in file, parsing required |"
     ]
    },
    {
     "cell_type": "code",
     "collapsed": false,
     "input": [
      "date_objects = dates\n",
      "date_strings = [ row[0] for row in data]\n",
      "date_floats = [(dt - datetime.utcfromtimestamp(0)).total_seconds() for dt in date_objects]\n",
      "\n",
      "print date_objects[0]\n",
      "print date_strings[0]\n",
      "print date_floats[0]"
     ],
     "language": "python",
     "metadata": {},
     "outputs": [
      {
       "output_type": "stream",
       "stream": "stdout",
       "text": [
        "2013-11-14 06:05:19\n",
        "20131114 06:05:19\n",
        "1384409119.0\n"
       ]
      }
     ],
     "prompt_number": 12
    },
    {
     "cell_type": "markdown",
     "metadata": {},
     "source": [
      "**Weekdays** can be saved as\n",
      "\n",
      "- String (Monday, Mon,...)\n",
      "- Integer (1)"
     ]
    },
    {
     "cell_type": "code",
     "collapsed": false,
     "input": [
      "weekday_strings = weekdays\n",
      "weekday_integers = [int(datetime.strftime(d,\"%w\")) for d in dates]\n",
      "\n",
      "print weekday_strings[0]\n",
      "print weekday_integers[0]"
     ],
     "language": "python",
     "metadata": {},
     "outputs": [
      {
       "output_type": "stream",
       "stream": "stdout",
       "text": [
        "Thursday\n",
        "4\n"
       ]
      }
     ],
     "prompt_number": 13
    },
    {
     "cell_type": "markdown",
     "metadata": {},
     "source": [
      "Before we go on, make a function that returns the size of a file in mb"
     ]
    },
    {
     "cell_type": "code",
     "collapsed": false,
     "input": [
      "import os\n",
      "def fsize(filename):\n",
      "    return os.path.getsize(filename)/1048576.0\n",
      "\n",
      "print fsize('gps.csv')\n",
      "assert np.round(fsize('gps.csv'),2) == 6.33"
     ],
     "language": "python",
     "metadata": {},
     "outputs": [
      {
       "output_type": "stream",
       "stream": "stdout",
       "text": [
        "6.32970333099\n"
       ]
      }
     ],
     "prompt_number": 14
    },
    {
     "cell_type": "markdown",
     "metadata": {},
     "source": [
      "###Save manual as CSV"
     ]
    },
    {
     "cell_type": "markdown",
     "metadata": {},
     "source": [
      "Make a function `save_csv` that saves its `data`-argument (list of list) as csv with names and units as header"
     ]
    },
    {
     "cell_type": "code",
     "collapsed": false,
     "input": [
      "def save_csv(filename, names, units, data):\n",
      "    with open(filename,'w') as f:\n",
      "        f.write(\",\".join(names)+\"\\n\")\n",
      "        f.write(\",\".join(units)+\"\\n\")\n",
      "        f.writelines([\",\".join(l)+\"\\n\" for l in data])\n",
      "    "
     ],
     "language": "python",
     "metadata": {},
     "outputs": [],
     "prompt_number": 15
    },
    {
     "cell_type": "code",
     "collapsed": false,
     "input": [
      "%%logit save_csv, tmp.csv\n",
      "save_csv('tmp.csv', names, units, data)"
     ],
     "language": "python",
     "metadata": {},
     "outputs": [
      {
       "output_type": "stream",
       "stream": "stdout",
       "text": [
        "save_csv :\n",
        "14-03-05 08:48:54\n",
        "File size: 6.32970333099 MB\n",
        "Creation time: 0.0623296044619 sec\n"
       ]
      }
     ],
     "prompt_number": 16
    },
    {
     "cell_type": "code",
     "collapsed": false,
     "input": [
      "import os\n",
      "print fsize('tmp.csv'), fsize('gps.csv')\n",
      "assert fsize('tmp.csv') == fsize('gps.csv')"
     ],
     "language": "python",
     "metadata": {},
     "outputs": [
      {
       "output_type": "stream",
       "stream": "stdout",
       "text": [
        "6.32970333099 6.32970333099\n"
       ]
      }
     ],
     "prompt_number": 17
    },
    {
     "cell_type": "markdown",
     "metadata": {},
     "source": [
      "###CSV module"
     ]
    },
    {
     "cell_type": "markdown",
     "metadata": {},
     "source": [
      "Do the same using the [csv](http://docs.python.org/2/library/csv.html)-module"
     ]
    },
    {
     "cell_type": "code",
     "collapsed": false,
     "input": [
      "import csv\n",
      "def save_csv_module(filename, names, units, data):\n",
      "    with open(filename, 'wb') as csvfile:\n",
      "        writ = csv.writer(csvfile, delimiter=',')\n",
      "        writ.writerow(names)\n",
      "        writ.writerow(units)\n",
      "        for l in data:\n",
      "            writ.writerow(l)\n",
      "%timeit save_csv_module('tmp.csv', names, units, data)"
     ],
     "language": "python",
     "metadata": {},
     "outputs": [
      {
       "output_type": "stream",
       "stream": "stdout",
       "text": [
        "10 loops, best of 3: 151 ms per loop\n"
       ]
      }
     ],
     "prompt_number": 18
    },
    {
     "cell_type": "code",
     "collapsed": false,
     "input": [
      "%%logit save_csv_module, tmp.csv\n",
      "save_csv_module('tmp.csv', names, units, data)"
     ],
     "language": "python",
     "metadata": {},
     "outputs": [
      {
       "output_type": "stream",
       "stream": "stdout",
       "text": [
        "save_csv_module :\n",
        "14-03-05 08:49:10\n",
        "File size: 6.32970333099 MB\n",
        "Creation time: 0.164217963358 sec\n"
       ]
      }
     ],
     "prompt_number": 19
    },
    {
     "cell_type": "code",
     "collapsed": false,
     "input": [
      "import os\n",
      "print fsize('tmp.csv'), fsize('gps.csv')\n",
      "assert fsize('tmp.csv') == fsize('gps.csv')"
     ],
     "language": "python",
     "metadata": {},
     "outputs": [
      {
       "output_type": "stream",
       "stream": "stdout",
       "text": [
        "6.32970333099 6.32970333099\n"
       ]
      }
     ],
     "prompt_number": 20
    },
    {
     "cell_type": "markdown",
     "metadata": {},
     "source": [
      "##Numpy"
     ]
    },
    {
     "cell_type": "markdown",
     "metadata": {},
     "source": [
      "Numpy arrays can be saved directly as csv, binary and compressed binary. Unfortunately these options do not support datetime-objects or strings.\n",
      "\n",
      "So we need to concatenate a `np_data` array of date_floats, weekday_integers and np_floats"
     ]
    },
    {
     "cell_type": "code",
     "collapsed": false,
     "input": [
      "print np.atleast_2d(np.array(date_floats)).shape\n",
      "print np.atleast_2d(np.array(weekday_integers)).shape\n",
      "print np_floats.T.shape\n",
      "\n",
      "np_data = np.r_[np.atleast_2d(np.array(date_floats)), np.atleast_2d(np.array(weekday_integers)),np_floats.T].T.astype(np.float64)\n",
      "                \n",
      "                \n",
      "print np_data.shape\n",
      "assert np_data.shape==(142779,5)\n",
      "print np_data.dtype\n",
      "assert np_data.dtype==np.float64"
     ],
     "language": "python",
     "metadata": {},
     "outputs": [
      {
       "output_type": "stream",
       "stream": "stdout",
       "text": [
        "(1, 142779)\n",
        "(1, 142779)\n",
        "(3, 142779)\n",
        "(142779, 5)\n",
        "float64\n"
       ]
      }
     ],
     "prompt_number": 21
    },
    {
     "cell_type": "markdown",
     "metadata": {},
     "source": [
      "Save the float array `np_data` as [csv](http://docs.scipy.org/doc/numpy/reference/generated/numpy.savetxt.html) and [binary](http://docs.scipy.org/doc/numpy/reference/generated/numpy.save.html#numpy.save) and [compressed binary](http://docs.scipy.org/doc/numpy/reference/generated/numpy.savez.html#numpy.savez) using numpy "
     ]
    },
    {
     "cell_type": "code",
     "collapsed": false,
     "input": [
      "%%logit save_csv, tmp.csv\n",
      "np.savetxt('tmp.csv', np_data)"
     ],
     "language": "python",
     "metadata": {},
     "outputs": [
      {
       "output_type": "stream",
       "stream": "stdout",
       "text": [
        "save_csv :\n",
        "14-03-05 08:49:17\n",
        "File size: 17.1586608887 MB\n",
        "Creation time: 0.755722172974 sec\n"
       ]
      }
     ],
     "prompt_number": 22
    },
    {
     "cell_type": "code",
     "collapsed": false,
     "input": [
      "%%logit save_bin, tmp.npy\n",
      "np.save('tmp', np_data)"
     ],
     "language": "python",
     "metadata": {},
     "outputs": [
      {
       "output_type": "stream",
       "stream": "stdout",
       "text": [
        "save_bin :\n",
        "14-03-05 08:49:20\n",
        "File size: 5.44666290283 MB\n",
        "Creation time: 0.00311938825627 sec\n"
       ]
      }
     ],
     "prompt_number": 23
    },
    {
     "cell_type": "code",
     "collapsed": false,
     "input": [
      "%%logit save_zipbin, tmp.npz\n",
      "np.savez('tmp', np_data)"
     ],
     "language": "python",
     "metadata": {},
     "outputs": [
      {
       "output_type": "stream",
       "stream": "stdout",
       "text": [
        "save_zipbin :\n",
        "14-03-05 08:49:29\n",
        "File size: 5.44677352905 MB\n",
        "Creation time: 0.0212316831924 sec\n"
       ]
      }
     ],
     "prompt_number": 26
    },
    {
     "cell_type": "markdown",
     "metadata": {},
     "source": [
      "##Pickle\n",
      "\n",
      "Pickle is a way to save and load python objects (e.g. `data_dict`) directly, even though it contains a mix of dict, list string, float and datetime-objects, as you can see by running the next cell"
     ]
    },
    {
     "cell_type": "code",
     "collapsed": false,
     "input": [
      "for k, v in data_dict.items():\n",
      "    print \"%-20s\\t%-20s\\t%s\" % (k, v[0], v[0].__class__)"
     ],
     "language": "python",
     "metadata": {},
     "outputs": [
      {
       "output_type": "stream",
       "stream": "stdout",
       "text": [
        "latitude            \t42.604              \t<type 'numpy.float32'>\n",
        "dates               \t2013-11-14 06:05:19 \t<type 'datetime.datetime'>\n",
        "weekdays            \tThursday            \t<type 'str'>\n",
        "longitude           \t13.3692             \t<type 'numpy.float32'>\n",
        "orientation         \t327.7               \t<type 'numpy.float32'>\n"
       ]
      }
     ],
     "prompt_number": 27
    },
    {
     "cell_type": "markdown",
     "metadata": {},
     "source": [
      "\n",
      "\n",
      "Save `data_dict` as binary using [cpickle](http://docs.python.org/2/library/pickle.html) - a faster implementation of [pickle](http://docs.python.org/2/library/pickle.html)\n",
      "\n",
      "See example at https://wiki.python.org/moin/UsingPickle"
     ]
    },
    {
     "cell_type": "code",
     "collapsed": false,
     "input": [
      "%%logit cpickle_dump, tmp.bin\n",
      "import cPickle as pickle\n",
      "pickle.dump(data_dict, open( \"tmp.bin\", \"wb\" ))\n",
      "print fsize('tmp.bin')"
     ],
     "language": "python",
     "metadata": {},
     "outputs": [
      {
       "output_type": "stream",
       "stream": "stdout",
       "text": [
        "13.5226831436\n",
        "cpickle_dump :\n",
        "14-03-05 08:49:32\n",
        "File size: 13.5226831436 MB\n",
        "Creation time: 0.710002189578 sec\n"
       ]
      }
     ],
     "prompt_number": 28
    },
    {
     "cell_type": "code",
     "collapsed": false,
     "input": [
      "loaded_dict = pickle.load(open('tmp.bin'))\n",
      "for k, v in loaded_dict.items():\n",
      "    print \"%-20s\\t%-20s\\t%s\" % (k, v[0], v[0].__class__)"
     ],
     "language": "python",
     "metadata": {},
     "outputs": [
      {
       "output_type": "stream",
       "stream": "stdout",
       "text": [
        "latitude            \t42.604              \t<type 'numpy.float32'>\n",
        "dates               \t2013-11-14 06:05:19 \t<type 'datetime.datetime'>\n",
        "weekdays            \tThursday            \t<type 'str'>\n",
        "longitude           \t13.3692             \t<type 'numpy.float32'>\n",
        "orientation         \t327.7               \t<type 'numpy.float32'>\n"
       ]
      }
     ],
     "prompt_number": 29
    },
    {
     "cell_type": "markdown",
     "metadata": {},
     "source": [
      "###Json\n",
      "\n",
      "Json is a human readable standard data format. It is quite similar to xml, but a little more compact (compression (like zip) will reduce the file size of both xml and json considerably).\n",
      "\n",
      "The python `json` module are able to format e.g. a python dictionary as json, but only pure python types are supported, i.e. not datetime-objects or numpy arrays. Therefore a pure python dict is created"
     ]
    },
    {
     "cell_type": "code",
     "collapsed": false,
     "input": [
      "pydata_dict = {'dates': date_strings,\n",
      "               'weekdays':weekdays, \n",
      "             'latitude':np_data[:,2].tolist(), \n",
      "             'longitude':np_data[:,3].tolist(), \n",
      "             'orientation':np_data[:,4].tolist()}\n",
      "\n",
      "for k, v in pydata_dict.items():\n",
      "    print \"%-20s\\t%-20s\\t%s\" % (k, v[0], v[0].__class__)"
     ],
     "language": "python",
     "metadata": {},
     "outputs": [
      {
       "output_type": "stream",
       "stream": "stdout",
       "text": [
        "latitude            \t42.6040077209       \t<type 'float'>\n",
        "dates               \t20131114 06:05:19   \t<type 'str'>\n",
        "weekdays            \tThursday            \t<type 'str'>\n",
        "longitude           \t13.3692359924       \t<type 'float'>\n",
        "orientation         \t327.700012207       \t<type 'float'>\n"
       ]
      }
     ],
     "prompt_number": 30
    },
    {
     "cell_type": "markdown",
     "metadata": {},
     "source": [
      "The following function saves dumps the data argument into a json (pretty) formated file"
     ]
    },
    {
     "cell_type": "code",
     "collapsed": false,
     "input": [
      "import json\n",
      "def save_json(filename, data):\n",
      "    with open(filename,'w') as fid:\n",
      "        fid.write(json.dumps(data, sort_keys=True, indent=4, separators=(',', ': ')))\n"
     ],
     "language": "python",
     "metadata": {},
     "outputs": [],
     "prompt_number": 31
    },
    {
     "cell_type": "code",
     "collapsed": false,
     "input": [
      "%%logit save_json, tmp.json\n",
      "save_json('tmp.json', pydata_dict)"
     ],
     "language": "python",
     "metadata": {},
     "outputs": [
      {
       "output_type": "stream",
       "stream": "stdout",
       "text": [
        "save_json :\n",
        "14-03-05 08:49:42\n",
        "File size: 18.1186351776 MB\n",
        "Creation time: 1.11201781769 sec\n"
       ]
      }
     ],
     "prompt_number": 32
    },
    {
     "cell_type": "markdown",
     "metadata": {},
     "source": [
      "###HDF5\n",
      "\n",
      "HDF5 is a hirachical dataformat like json and xml, but it is binary and therefore much more compact. The drawback is that a program is required to read the files, e.g. HDFView\n",
      "\n",
      "<img src=\"files/HDF5view.png\">\n",
      "\n",
      "In order to use HDF5 from python the module h5py (http://www.h5py.org/) is required (included in winpython, but not in anaconda)\n",
      "\n",
      "`pip install h5py`"
     ]
    },
    {
     "cell_type": "markdown",
     "metadata": {},
     "source": [
      "HDF5 stores numpy arrays as datasets, so pydata_dict can be saved like this"
     ]
    },
    {
     "cell_type": "code",
     "collapsed": false,
     "input": [
      "for k, v in pydata_dict.items():\n",
      "    print \"%-20s\\t%-20s\\t%s\" % (k, v[0], v[0].__class__)"
     ],
     "language": "python",
     "metadata": {},
     "outputs": [
      {
       "output_type": "stream",
       "stream": "stdout",
       "text": [
        "latitude            \t42.6040077209       \t<type 'float'>\n",
        "dates               \t20131114 06:05:19   \t<type 'str'>\n",
        "weekdays            \tThursday            \t<type 'str'>\n",
        "longitude           \t13.3692359924       \t<type 'float'>\n",
        "orientation         \t327.700012207       \t<type 'float'>\n"
       ]
      }
     ],
     "prompt_number": 33
    },
    {
     "cell_type": "code",
     "collapsed": false,
     "input": [
      "import h5py\n",
      "def save_hdf5(filename, data):\n",
      "    f = h5py.File(filename, \"w\")\n",
      "    try:\n",
      "        for k,v in data.items():\n",
      "            f.create_dataset(k,data=np.array(v))\n",
      "    except Exception:\n",
      "        pass\n",
      "    f.close()\n"
     ],
     "language": "python",
     "metadata": {},
     "outputs": [],
     "prompt_number": 34
    },
    {
     "cell_type": "code",
     "collapsed": false,
     "input": [
      "%%logit save_hdf5, tmp.hdf5\n",
      "save_hdf5('tmp.hdf5', pydata_dict)"
     ],
     "language": "python",
     "metadata": {},
     "outputs": [
      {
       "output_type": "stream",
       "stream": "stdout",
       "text": [
        "save_hdf5 :\n",
        "14-03-05 08:49:53\n",
        "File size: 6.81223106384 MB\n",
        "Creation time: 0.0529813232045 sec\n"
       ]
      }
     ],
     "prompt_number": 35
    },
    {
     "cell_type": "markdown",
     "metadata": {},
     "source": [
      "It is however possible to reduce the file size if proper data types are manually selected for all lists"
     ]
    },
    {
     "cell_type": "code",
     "collapsed": false,
     "input": [
      "npdata_dict = {'dates':np_data[:,0],\n",
      "               'weekdays': np_data[:,1].astype(np.int8), \n",
      "             'latitude':np_data[:,2], \n",
      "             'longitude':np_data[:,3].astype(np.float32), \n",
      "             'orientation':np_data[:,4].astype(np.float32)}\n",
      "\n",
      "for k, v in npdata_dict.items():\n",
      "    print \"%-20s\\t%-20s\\t%s\" % (k, v[0], v[0].__class__)"
     ],
     "language": "python",
     "metadata": {},
     "outputs": [
      {
       "output_type": "stream",
       "stream": "stdout",
       "text": [
        "latitude            \t42.6040077209       \t<type 'numpy.float64'>\n",
        "dates               \t1384409119.0        \t<type 'numpy.float64'>\n",
        "weekdays            \t4                   \t<type 'numpy.int8'>\n",
        "longitude           \t13.3692             \t<type 'numpy.float32'>\n",
        "orientation         \t327.7               \t<type 'numpy.float32'>\n"
       ]
      }
     ],
     "prompt_number": 36
    },
    {
     "cell_type": "code",
     "collapsed": false,
     "input": [
      "%%logit save_hdf5_astype, tmp.hdf5\n",
      "save_hdf5('tmp.hdf5', npdata_dict)"
     ],
     "language": "python",
     "metadata": {},
     "outputs": [
      {
       "output_type": "stream",
       "stream": "stdout",
       "text": [
        "save_hdf5_astype :\n",
        "14-03-05 08:49:56\n",
        "File size: 3.40811443329 MB\n",
        "Creation time: 0.00593580887417 sec\n"
       ]
      }
     ],
     "prompt_number": 37
    },
    {
     "cell_type": "code",
     "collapsed": false,
     "input": [],
     "language": "python",
     "metadata": {},
     "outputs": [],
     "prompt_number": 38
    }
   ],
   "metadata": {}
  }
 ]
}