{
 "metadata": {
  "name": ""
 },
 "nbformat": 3,
 "nbformat_minor": 0,
 "worksheets": [
  {
   "cells": [
    {
     "cell_type": "heading",
     "level": 1,
     "metadata": {},
     "source": [
      "Plotting with Matplotlib"
     ]
    },
    {
     "cell_type": "heading",
     "level": 2,
     "metadata": {},
     "source": [
      "Preparations"
     ]
    },
    {
     "cell_type": "code",
     "collapsed": false,
     "input": [
      "import numpy as np\n",
      "import scipy as sp\n",
      "import sympy\n",
      "\n",
      "# the convienient Matplotib plotting interface pyplot (the tidy/right way)\n",
      "# use this for building scripts\n",
      "import matplotlib.pyplot as plt\n",
      "\n",
      "# for using the matplotlib API directly (the hard and verbose way)\n",
      "# use this when building applications, and/or backends\n",
      "import matplotlib as mpl"
     ],
     "language": "python",
     "metadata": {},
     "outputs": [],
     "prompt_number": 1
    },
    {
     "cell_type": "heading",
     "level": 2,
     "metadata": {},
     "source": [
      "Scaling: getting font sizes right for publications"
     ]
    },
    {
     "cell_type": "code",
     "collapsed": false,
     "input": [
      "# some sample data\n",
      "x = np.arange(0,10,0.1)"
     ],
     "language": "python",
     "metadata": {},
     "outputs": [],
     "prompt_number": 2
    },
    {
     "cell_type": "code",
     "collapsed": false,
     "input": [
      "page_width_cm = 13\n",
      "dpi = 200\n",
      "inch = 2.54 # inch in cm\n",
      "\n",
      "plt.rc('font', family='serif')\n",
      "plt.rc('xtick', labelsize=12) # tick labels\n",
      "plt.rc('ytick', labelsize=20) # tick labels\n",
      "plt.rc('axes', labelsize=20)  # axes labels\n",
      "# If you don\u2019t need LaTeX, don\u2019t use it. It is slower to plot, and text\n",
      "# looks just fine without. If you need it, e.g. for symbols, then use it.\n",
      "plt.rc('text', usetex=True)"
     ],
     "language": "python",
     "metadata": {},
     "outputs": [],
     "prompt_number": 3
    },
    {
     "cell_type": "code",
     "collapsed": false,
     "input": [
      "# chose the backend: 'gtk', 'inline', 'osx', 'qt', 'qt4', 'tk', 'wx'\n",
      "%matplotlib qt\n",
      "# create a figure instance, note that figure size is given in inches!\n",
      "fig, ax = plt.subplots(nrows=1, ncols=1, figsize=(8,6))\n",
      "# set the big title (note aligment relative to figure)\n",
      "fig.suptitle(\"suptitle 16, figure alignment\", fontsize=16)\n",
      "# add axes to plot manually\n",
      "# left, bottom, width, height (range 0 to 1)\n",
      "ax = fig.add_axes([0.1, 0.1, 0.5, 0.8])\n",
      "# actual plotting\n",
      "ax.plot(x, x**2, label=\"label 12\")\n",
      "# set axes title (note aligment relative to axes)\n",
      "ax.set_title(\"title 14, axes alignment\", fontsize=14)\n",
      "# axes labels\n",
      "ax.set_xlabel('xlabel 12')\n",
      "ax.set_ylabel(r'$y_{\\alpha}$ 12', fontsize=8)\n",
      "# legend\n",
      "ax.legend(fontsize=12, loc=\"best\")\n",
      "fig.savefig('figure-%03i.png' % dpi, dpi=dpi)\n",
      "fig.savefig('figure.svg')\n",
      "fig.savefig('figure.eps')\n",
      "\n",
      "# figure scope\n",
      "y_ = 0.7\n",
      "ax.annotate('',  xy=(0.0, y_), xycoords='figure fraction',\n",
      "             xytext=(0.1, y_), textcoords='figure fraction',\n",
      "             arrowprops=dict(arrowstyle=\"<->\"))\n",
      "ax.annotate('',  xy=(0.1, y_), xycoords='figure fraction',\n",
      "             xytext=(0.6, y_), textcoords='figure fraction',\n",
      "             arrowprops=dict(arrowstyle=\"<->\"))\n",
      "ax.annotate('',  xy=(0.6, y_), xycoords='figure fraction',\n",
      "             xytext=(1.0, y_), textcoords='figure fraction',\n",
      "             arrowprops=dict(arrowstyle=\"<->\"))\n",
      "\n",
      "x_ = 0.15\n",
      "ax.annotate('',  xy=(x_, 0), xycoords='figure fraction',\n",
      "             xytext=(x_, 0.1), textcoords='figure fraction',\n",
      "             arrowprops=dict(arrowstyle=\"<->\"))\n",
      "ax.annotate('',  xy=(x_, 0.1), xycoords='figure fraction',\n",
      "             xytext=(x_, 0.9), textcoords='figure fraction',\n",
      "             arrowprops=dict(arrowstyle=\"<->\"))\n",
      "ax.annotate('',  xy=(x_, 0.9), xycoords='figure fraction',\n",
      "             xytext=(x_, 1.0), textcoords='figure fraction',\n",
      "             arrowprops=dict(arrowstyle=\"<->\"))"
     ],
     "language": "python",
     "metadata": {},
     "outputs": [
      {
       "metadata": {},
       "output_type": "pyout",
       "prompt_number": 4,
       "text": [
        "<matplotlib.text.Annotation at 0x6a57e90>"
       ]
      }
     ],
     "prompt_number": 4
    },
    {
     "cell_type": "code",
     "collapsed": false,
     "input": [
      "stext = u'$\\\\sigma = \\\\frac{33 \\\\cdot 10^3 \\\\Omega}{5 \\\\epsilon^5}$'\n",
      "# bbox is a dictionary of matplotlib.patches.Rectangle properties:\n",
      "# http://matplotlib.org/api/artist_api.html#matplotlib.patches.Rectangle\n",
      "bbox = dict(boxstyle=\"round\", alpha=0.5, edgecolor=(1., 0.5, 0.5),\n",
      "            facecolor=(1., 0.8, 0.8),)\n",
      "ax.text(6, 40, stext, fontsize=24, verticalalignment='bottom',\n",
      "         horizontalalignment='center', bbox=bbox)\n",
      "# we have to update the figure\n",
      "ax.plot(x, x**2, 'ks', label=\"label 12\", alpha=0.3)\n",
      "fig.canvas.draw()"
     ],
     "language": "python",
     "metadata": {},
     "outputs": [],
     "prompt_number": 8
    },
    {
     "cell_type": "code",
     "collapsed": false,
     "input": [
      "# what is the current backend?\n",
      "%matplotlib\n",
      "fig = plt.figure(1, figsize=(8,6))\n",
      "ax = fig.add_axes([0.1, 0.1, 0.8, 0.8])\n",
      "ax.plot(x, x**2, label=\"label 12\")"
     ],
     "language": "python",
     "metadata": {},
     "outputs": [
      {
       "output_type": "stream",
       "stream": "stdout",
       "text": [
        "Using matplotlib backend: Qt4Agg\n"
       ]
      },
      {
       "metadata": {},
       "output_type": "pyout",
       "prompt_number": 6,
       "text": [
        "[<matplotlib.lines.Line2D at 0x5588450>]"
       ]
      }
     ],
     "prompt_number": 6
    },
    {
     "cell_type": "code",
     "collapsed": false,
     "input": [
      "# switch to inline plotting\n",
      "%matplotlib inline\n",
      "fig = plt.figure(1, figsize=(8,6))\n",
      "ax = fig.add_axes([0.1, 0.1, 0.8, 0.8])\n",
      "ax.plot(x, x**2, label=\"label 12\")"
     ],
     "language": "python",
     "metadata": {},
     "outputs": [
      {
       "metadata": {},
       "output_type": "pyout",
       "prompt_number": 7,
       "text": [
        "[<matplotlib.lines.Line2D at 0x5662ed0>]"
       ]
      },
      {
       "metadata": {},
       "output_type": "display_data",
       "png": "[encoded data removed]",
       "text": [
        "<matplotlib.figure.Figure at 0x4b4e450>"
       ]
      }
     ],
     "prompt_number": 7
    },
    {
     "cell_type": "code",
     "collapsed": false,
     "input": [
      "%matplotlib qt\n",
      "fig = plt.figure(1, figsize=(8,6))\n",
      "ax = fig.add_axes([0.1, 0.1, 0.8, 0.8])\n",
      "ax.plot(x, x**2, label=\"label 12\")"
     ],
     "language": "python",
     "metadata": {},
     "outputs": [
      {
       "metadata": {},
       "output_type": "pyout",
       "prompt_number": 8,
       "text": [
        "[<matplotlib.lines.Line2D at 0x5589710>]"
       ]
      }
     ],
     "prompt_number": 8
    },
    {
     "cell_type": "code",
     "collapsed": false,
     "input": [
      "%matplotlib?"
     ],
     "language": "python",
     "metadata": {},
     "outputs": [],
     "prompt_number": 9
    },
    {
     "cell_type": "code",
     "collapsed": false,
     "input": [
      "for i in range(5):\n",
      "    plt.figure(i)\n",
      "    plt.plot(x, i*x**2)"
     ],
     "language": "python",
     "metadata": {},
     "outputs": [],
     "prompt_number": 10
    },
    {
     "cell_type": "code",
     "collapsed": false,
     "input": [
      "def serialplots():\n",
      "    for i in range(5):\n",
      "        plt.figure(i)\n",
      "        plt.plot(x, i*x**2)\n",
      "        plt.show()\n",
      "\n",
      "def serialplots2():\n",
      "    for i in range(5):\n",
      "        plt.figure(i)\n",
      "        plt.plot(x, i*x**2)\n",
      "    plt.show()\n",
      "\n",
      "def serialplots3():\n",
      "    for i in range(5):\n",
      "        figure(i)\n",
      "        plot(x, i*x**2)\n",
      "        show()\n",
      "\n",
      "def serialplots4():\n",
      "    for i in range(5):\n",
      "        figure(i)\n",
      "        plot(x, i*x**2)\n",
      "    show()"
     ],
     "language": "python",
     "metadata": {},
     "outputs": [],
     "prompt_number": 11
    },
    {
     "cell_type": "code",
     "collapsed": false,
     "input": [
      "%matplotlib qt\n",
      "serialplots4()"
     ],
     "language": "python",
     "metadata": {},
     "outputs": [],
     "prompt_number": 12
    }
   ],
   "metadata": {}
  }
 ]
}