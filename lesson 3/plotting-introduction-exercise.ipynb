{
 "metadata": {
  "name": ""
 },
 "nbformat": 3,
 "nbformat_minor": 0,
 "worksheets": [
  {
   "cells": [
    {
     "cell_type": "heading",
     "level": 1,
     "metadata": {},
     "source": [
      "Plotting with Matplotlib"
     ]
    },
    {
     "cell_type": "heading",
     "level": 2,
     "metadata": {},
     "source": [
      "Prepare for action"
     ]
    },
    {
     "cell_type": "code",
     "collapsed": false,
     "input": [
      "import numpy as np\n",
      "import scipy as sp\n",
      "import sympy\n",
      "\n",
      "# Pylab combines the pyplot functionality (for plotting) with the numpy\n",
      "# functionality (for mathematics and for working with arrays) in a single namespace\n",
      "# aims to provide a closer MATLAB feel (the easy way). Note that his approach\n",
      "# should only be used when doing some interactive quick and dirty data inspection.\n",
      "# DO NOT USE THIS FOR SCRIPTS\n",
      "#from pylab import *\n",
      "\n",
      "# the convienient Matplotib plotting interface pyplot (the tidy/right way)\n",
      "# use this for building scripts. The examples here will all use pyplot.\n",
      "import matplotlib.pyplot as plt\n",
      "\n",
      "# for using the matplotlib API directly (the hard and verbose way)\n",
      "# use this when building applications, and/or backends\n",
      "import matplotlib as mpl"
     ],
     "language": "python",
     "metadata": {},
     "outputs": [],
     "prompt_number": 1
    },
    {
     "cell_type": "markdown",
     "metadata": {},
     "source": [
      "How would you like the IPython notebook show your plots? In order to use the\n",
      "matplotlib IPython magic youre IPython notebook should be launched as\n",
      "\n",
      "    ipython notebook --matplotlib=inline\n",
      "\n",
      "Make plots appear as a pop up window, chose the backend: 'gtk', 'inline', 'osx', 'qt', 'qt4', 'tk', 'wx'\n",
      "    \n",
      "    %matplotlib qt\n",
      "    \n",
      "or inline the notebook (no panning, zooming through the plot). Not working in IPython 0.x\n",
      "    \n",
      "    %matplotib inline\n",
      "    "
     ]
    },
    {
     "cell_type": "code",
     "collapsed": false,
     "input": [
      "# activate pop up plots\n",
      "#%matplotlib qt\n",
      "# or change to inline plots\n",
      "#%matplotlib inline\n",
      "%matplotlib inline"
     ],
     "language": "python",
     "metadata": {},
     "outputs": [],
     "prompt_number": 3
    },
    {
     "cell_type": "heading",
     "level": 3,
     "metadata": {},
     "source": [
      "Matplotlib documentation"
     ]
    },
    {
     "cell_type": "markdown",
     "metadata": {},
     "source": [
      "Finding your own way (aka RTFM). Hint: there is search box available!\n",
      "\n",
      "* http://matplotlib.org/contents.html\n",
      "\n",
      "The Matplotlib API docs:\n",
      "\n",
      "* http://matplotlib.org/api/index.html\n",
      "\n",
      "Pyplot, object oriented plotting:\n",
      "\n",
      "* http://matplotlib.org/api/pyplot_api.html\n",
      "* http://matplotlib.org/api/pyplot_summary.html\n",
      "\n",
      "Extensive gallery with examples:\n",
      "\n",
      "* http://matplotlib.org/gallery.html"
     ]
    },
    {
     "cell_type": "heading",
     "level": 3,
     "metadata": {},
     "source": [
      "Tutorials for those who want to start playing"
     ]
    },
    {
     "cell_type": "markdown",
     "metadata": {},
     "source": [
      "If reading manuals is too much for you, there is a very good tutorial available here:\n",
      "\n",
      "* http://nbviewer.ipython.org/github/jrjohansson/scientific-python-lectures/blob/master/Lecture-4-Matplotlib.ipynb\n",
      "\n",
      "Note that this tutorial uses\n",
      "\n",
      "    from pylab import *\n",
      "\n",
      "which is usually not adviced in more advanced script environments. When using\n",
      "    \n",
      "    import matplotlib.pyplot as plt\n",
      "\n",
      "you need to preceed all plotting commands as used in the above tutorial with\n",
      "    \n",
      "    plt.\n"
     ]
    },
    {
     "cell_type": "markdown",
     "metadata": {},
     "source": [
      "Give me more!\n",
      "\n",
      "[EuroScipy 2012 Matlotlib tutorial](http://www.loria.fr/~rougier/teaching/matplotlib/). Note that here the author uses ```from pylab import * ```. When using ```import matplotliblib.pyplot as plt``` the plotting commands need to be proceeded with ```plt.```\n"
     ]
    },
    {
     "cell_type": "heading",
     "level": 2,
     "metadata": {},
     "source": [
      "Plotting template starting point"
     ]
    },
    {
     "cell_type": "code",
     "collapsed": false,
     "input": [
      "# some sample data\n",
      "x = np.arange(-10,10,0.1)"
     ],
     "language": "python",
     "metadata": {},
     "outputs": [],
     "prompt_number": 4
    },
    {
     "cell_type": "markdown",
     "metadata": {},
     "source": [
      "To change the default plot configuration values."
     ]
    },
    {
     "cell_type": "code",
     "collapsed": false,
     "input": [
      "page_width_cm = 13\n",
      "dpi = 200\n",
      "inch = 2.54 # inch in cm\n",
      "# setting global plot configuration using the RC configuration style\n",
      "plt.rc('font', family='serif')\n",
      "plt.rc('xtick', labelsize=12) # tick labels\n",
      "plt.rc('ytick', labelsize=20) # tick labels\n",
      "plt.rc('axes', labelsize=20)  # axes labels\n",
      "# If you don\u2019t need LaTeX, don\u2019t use it. It is slower to plot, and text\n",
      "# looks just fine without. If you need it, e.g. for symbols, then use it.\n",
      "plt.rc('text', usetex=True) #<- P-E: Doesn't work on my Mac"
     ],
     "language": "python",
     "metadata": {},
     "outputs": [],
     "prompt_number": 5
    },
    {
     "cell_type": "code",
     "collapsed": false,
     "input": [
      "# create a figure instance, note that figure size is given in inches!\n",
      "fig, ax = plt.subplots(nrows=1, ncols=1, figsize=(8,6))\n",
      "# set the big title (note aligment relative to figure)\n",
      "fig.suptitle(\"suptitle 16, figure alignment\", fontsize=16)\n",
      "\n",
      "# actual plotting\n",
      "ax.plot(x, x**2, label=\"label 12\")\n",
      "\n",
      "\n",
      "# set axes title (note aligment relative to axes)\n",
      "ax.set_title(\"title 14, axes alignment\", fontsize=14)\n",
      "\n",
      "# axes labels\n",
      "ax.set_xlabel('xlabel 12')\n",
      "ax.set_ylabel(r'$y_{\\alpha}$ 12')\n",
      "\n",
      "# legend\n",
      "ax.legend(fontsize=12, loc=\"best\")\n",
      "\n",
      "# saving the figure in different formats\n",
      "fig.savefig('figure-%03i.png' % dpi, dpi=dpi)\n",
      "fig.savefig('figure.svg')\n",
      "fig.savefig('figure.eps')"
     ],
     "language": "python",
     "metadata": {},
     "outputs": [
      {
       "metadata": {},
       "output_type": "display_data",
       "png": "[encoded data removed]",
       "text": [
        "<matplotlib.figure.Figure at 0x7fde100724d0>"
       ]
      }
     ],
     "prompt_number": 6
    },
    {
     "cell_type": "code",
     "collapsed": false,
     "input": [
      "ax.grid(True)\n",
      "fig.canvas.draw()"
     ],
     "language": "python",
     "metadata": {},
     "outputs": [],
     "prompt_number": 9
    },
    {
     "cell_type": "code",
     "collapsed": true,
     "input": [
      "# following steps are only relevant when using figures as pop up windows (with %matplotlib qt)\n",
      "# to update a figure with has been modified\n",
      "fig.canvas.draw()\n",
      "# show a figure\n",
      "fig.show()"
     ],
     "language": "python",
     "metadata": {},
     "outputs": [],
     "prompt_number": 11
    },
    {
     "cell_type": "heading",
     "level": 2,
     "metadata": {},
     "source": [
      "Exercise"
     ]
    },
    {
     "cell_type": "markdown",
     "metadata": {},
     "source": [
      "The current section is about you trying to figure out how to do several plotting features. You should use the previously mentioned resources to find how to do that. In many cases, google is your friend!"
     ]
    },
    {
     "cell_type": "markdown",
     "metadata": {},
     "source": [
      "* add a grid to the plot\n"
     ]
    },
    {
     "cell_type": "code",
     "collapsed": false,
     "input": [
      "plt.plot(x,x**2)\n",
      "#Write code to show grid in plot here"
     ],
     "language": "python",
     "metadata": {},
     "outputs": [
      {
       "metadata": {},
       "output_type": "pyout",
       "prompt_number": 12,
       "text": [
        "[<matplotlib.lines.Line2D at 0x7fde08dd7ad0>]"
       ]
      },
      {
       "metadata": {},
       "output_type": "display_data",
       "png": "[encoded data removed]",
       "text": [
        "<matplotlib.figure.Figure at 0x7fde09e76510>"
       ]
      }
     ],
     "prompt_number": 12
    },
    {
     "cell_type": "markdown",
     "metadata": {},
     "source": [
      "* change the location of the legend to different places\n"
     ]
    },
    {
     "cell_type": "code",
     "collapsed": false,
     "input": [
      "plt.plot(x,x**2, label=\"label 12\")\n",
      "plt.legend(fontsize=12, loc=\"best\")"
     ],
     "language": "python",
     "metadata": {},
     "outputs": [
      {
       "metadata": {},
       "output_type": "pyout",
       "prompt_number": 13,
       "text": [
        "<matplotlib.legend.Legend at 0x7fde08c76250>"
       ]
      },
      {
       "metadata": {},
       "output_type": "display_data",
       "png": "[encoded data removed]",
       "text": [
        "<matplotlib.figure.Figure at 0x7fde08c76310>"
       ]
      }
     ],
     "prompt_number": 13
    },
    {
     "cell_type": "markdown",
     "metadata": {},
     "source": [
      "* find a way to control the line type and color, marker type and color, control the frequency of the marks (`markevery`). See plot options at: http://matplotlib.org/api/pyplot_api.html#matplotlib.pyplot.plot \n"
     ]
    },
    {
     "cell_type": "code",
     "collapsed": false,
     "input": [
      "plt.plot(x,x**2, 'o-')"
     ],
     "language": "python",
     "metadata": {},
     "outputs": [
      {
       "metadata": {},
       "output_type": "pyout",
       "prompt_number": 14,
       "text": [
        "[<matplotlib.lines.Line2D at 0x7fde09d42d90>]"
       ]
      },
      {
       "metadata": {},
       "output_type": "display_data",
       "png": "[encoded data removed]",
       "text": [
        "<matplotlib.figure.Figure at 0x7fde28210c50>"
       ]
      }
     ],
     "prompt_number": 14
    },
    {
     "cell_type": "markdown",
     "metadata": {},
     "source": [
      "* add different sub-plots\n"
     ]
    },
    {
     "cell_type": "code",
     "collapsed": false,
     "input": [
      "fig, ax = plt.subplots(nrows=1, ncols=1)\n",
      "ax.plot(x,x**2)\n"
     ],
     "language": "python",
     "metadata": {},
     "outputs": []
    },
    {
     "cell_type": "markdown",
     "metadata": {},
     "source": [
      "* size the figure such that when included on an A4 page the fonts are given in their true size\n"
     ]
    },
    {
     "cell_type": "code",
     "collapsed": false,
     "input": [],
     "language": "python",
     "metadata": {},
     "outputs": []
    },
    {
     "cell_type": "markdown",
     "metadata": {},
     "source": [
      "* make a contour plot\n"
     ]
    },
    {
     "cell_type": "code",
     "collapsed": false,
     "input": [
      "X, Y = np.meshgrid(x,x)\n"
     ],
     "language": "python",
     "metadata": {},
     "outputs": []
    },
    {
     "cell_type": "markdown",
     "metadata": {},
     "source": [
      "* use twinx() to create a second axis on the right for the second plot\n"
     ]
    },
    {
     "cell_type": "code",
     "collapsed": false,
     "input": [
      "plt.plot(x,x**2)\n",
      "plt.plot(x,x**4, 'r')"
     ],
     "language": "python",
     "metadata": {},
     "outputs": []
    },
    {
     "cell_type": "markdown",
     "metadata": {},
     "source": [
      "* add horizontal and vertical lines using axvline(), axhline()\n"
     ]
    },
    {
     "cell_type": "code",
     "collapsed": false,
     "input": [
      "plt.plot(x,x**2)"
     ],
     "language": "python",
     "metadata": {},
     "outputs": []
    },
    {
     "cell_type": "markdown",
     "metadata": {},
     "source": [
      "* autoformat dates for nice printing on the x-axis using fig.autofmt_xdate()"
     ]
    },
    {
     "cell_type": "code",
     "collapsed": false,
     "input": [
      "import datetime\n",
      "dates = np.array([datetime.datetime.now() + datetime.timedelta(days=i) for i in xrange(24)])\n",
      "fig, ax = plt.subplots(nrows=1, ncols=1)\n"
     ],
     "language": "python",
     "metadata": {},
     "outputs": []
    },
    {
     "cell_type": "heading",
     "level": 2,
     "metadata": {},
     "source": [
      "Advanced exercises"
     ]
    },
    {
     "cell_type": "markdown",
     "metadata": {},
     "source": [
      "We are going to play a bit with regression"
     ]
    },
    {
     "cell_type": "markdown",
     "metadata": {},
     "source": [
      "* Create a vector x of equally spaced number between $x \\in [0, 5\\pi]$ of 1000 points (keyword: linspace)"
     ]
    },
    {
     "cell_type": "code",
     "collapsed": false,
     "input": [],
     "language": "python",
     "metadata": {},
     "outputs": []
    },
    {
     "cell_type": "markdown",
     "metadata": {},
     "source": [
      "* create a vector y, so that y=sin(x) with some random noise"
     ]
    },
    {
     "cell_type": "code",
     "collapsed": false,
     "input": [],
     "language": "python",
     "metadata": {},
     "outputs": []
    },
    {
     "cell_type": "markdown",
     "metadata": {},
     "source": [
      "* plot it like this: ![test](files/plt1.png)"
     ]
    },
    {
     "cell_type": "code",
     "collapsed": false,
     "input": [],
     "language": "python",
     "metadata": {},
     "outputs": []
    },
    {
     "cell_type": "markdown",
     "metadata": {},
     "source": [
      "Try to do a polynomial fit on y(x) with different polynomial degree (Use numpy.polyfit to obtain coefficients)\n",
      "\n",
      "Plot it like this (use np.poly1d(coef)(x) to plot polynomials) ![test](files/plt2.png)\n"
     ]
    },
    {
     "cell_type": "code",
     "collapsed": false,
     "input": [],
     "language": "python",
     "metadata": {},
     "outputs": []
    },
    {
     "cell_type": "code",
     "collapsed": false,
     "input": [],
     "language": "python",
     "metadata": {},
     "outputs": []
    }
   ],
   "metadata": {}
  }
 ]
}