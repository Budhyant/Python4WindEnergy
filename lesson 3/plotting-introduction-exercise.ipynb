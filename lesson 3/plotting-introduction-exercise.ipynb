{
 "metadata": {
  "name": ""
 },
 "nbformat": 3,
 "nbformat_minor": 0,
 "worksheets": [
  {
   "cells": [
    {
     "cell_type": "heading",
     "level": 1,
     "metadata": {},
     "source": [
      "Plotting with Matplotlib"
     ]
    },
    {
     "cell_type": "heading",
     "level": 2,
     "metadata": {},
     "source": [
      "Prepare for action"
     ]
    },
    {
     "cell_type": "code",
     "collapsed": false,
     "input": [
      "import numpy as np\n",
      "import scipy as sp\n",
      "import sympy\n",
      "\n",
      "# Pylab combines the pyplot functionality (for plotting) with the numpy\n",
      "# functionality (for mathematics and for working with arrays) in a single namespace\n",
      "# aims to provide a closer MATLAB feel (the easy way). Note that his approach\n",
      "# should only be used when doing some interactive quick and dirty data inspection.\n",
      "# DO NOT USE THIS FOR SCRIPTS\n",
      "#from pylab import *\n",
      "\n",
      "# the convienient Matplotib plotting interface pyplot (the tidy/right way)\n",
      "# use this for building scripts. The examples here will all use pyplot.\n",
      "import matplotlib.pyplot as plt\n",
      "\n",
      "# for using the matplotlib API directly (the hard and verbose way)\n",
      "# use this when building applications, and/or backends\n",
      "import matplotlib as mpl"
     ],
     "language": "python",
     "metadata": {},
     "outputs": [],
     "prompt_number": 1
    },
    {
     "cell_type": "markdown",
     "metadata": {},
     "source": [
      "How would you like the IPython notebook show your plots? In order to use the\n",
      "matplotlib IPython magic youre IPython notebook should be launched as\n",
      "\n",
      "    ipython notebook --matplotlib=inline\n",
      "\n",
      "Make plots appear as a pop up window, chose the backend: 'gtk', 'inline', 'osx', 'qt', 'qt4', 'tk', 'wx'\n",
      "    \n",
      "    %matplotlib qt\n",
      "    \n",
      "or inline the notebook (no panning, zooming through the plot)\n",
      "    \n",
      "    %matplotib inline\n",
      "    "
     ]
    },
    {
     "cell_type": "code",
     "collapsed": false,
     "input": [
      "# activate pop up plots\n",
      "%matplotlib qt\n",
      "# or change to inline plots\n",
      "#%matplotlib inline"
     ],
     "language": "python",
     "metadata": {},
     "outputs": [],
     "prompt_number": 10
    },
    {
     "cell_type": "heading",
     "level": 3,
     "metadata": {},
     "source": [
      "Matplotlib documentation"
     ]
    },
    {
     "cell_type": "markdown",
     "metadata": {},
     "source": [
      "Finding your own way (aka RTFM). Hint: there is search box available!\n",
      "\n",
      "* http://matplotlib.org/contents.html\n",
      "\n",
      "The Matplotlib API docs:\n",
      "\n",
      "* http://matplotlib.org/api/index.html\n",
      "\n",
      "Pyplot, object oriented plotting:\n",
      "\n",
      "* http://matplotlib.org/api/pyplot_api.html\n",
      "* http://matplotlib.org/api/pyplot_summary.html\n",
      "\n",
      "Extensive gallery with examples:\n",
      "\n",
      "* http://matplotlib.org/gallery.html"
     ]
    },
    {
     "cell_type": "heading",
     "level": 3,
     "metadata": {},
     "source": [
      "Tutorials for those who want to start playing"
     ]
    },
    {
     "cell_type": "markdown",
     "metadata": {},
     "source": [
      "If reading manuals is too much for you, there is a very good tutorial available here:\n",
      "\n",
      "* http://nbviewer.ipython.org/github/jrjohansson/scientific-python-lectures/blob/master/Lecture-4-Matplotlib.ipynb\n",
      "\n",
      "Note that this tutorial uses\n",
      "\n",
      "    from pylab import *\n",
      "\n",
      "which is usually not adviced in more advanced script environments. When using\n",
      "    \n",
      "    import matplotlib.pyplot as plt\n",
      "\n",
      "you need to preceed all plotting commands as used in the above tutorial with\n",
      "    \n",
      "    plt.\n"
     ]
    },
    {
     "cell_type": "markdown",
     "metadata": {},
     "source": [
      "Give me more!\n",
      "\n",
      "[EuroScipy 2012 Matlotlib tutorial](http://www.loria.fr/~rougier/teaching/matplotlib/). Note that here the author uses ```from pylab import * ```. When using ```import matplotliblib.pyplot as plt``` the plotting commands need to be proceeded with ```plt.```\n"
     ]
    },
    {
     "cell_type": "heading",
     "level": 2,
     "metadata": {},
     "source": [
      "Plotting template starting point"
     ]
    },
    {
     "cell_type": "code",
     "collapsed": false,
     "input": [
      "# some sample data\n",
      "x = np.arange(0,10,0.1)"
     ],
     "language": "python",
     "metadata": {},
     "outputs": [],
     "prompt_number": 3
    },
    {
     "cell_type": "markdown",
     "metadata": {},
     "source": [
      "To change the default plot configuration values."
     ]
    },
    {
     "cell_type": "code",
     "collapsed": false,
     "input": [
      "page_width_cm = 13\n",
      "dpi = 200\n",
      "inch = 2.54 # inch in cm\n",
      "# setting global plot configuration using the RC configuration style\n",
      "plt.rc('font', family='serif')\n",
      "plt.rc('xtick', labelsize=12) # tick labels\n",
      "plt.rc('ytick', labelsize=20) # tick labels\n",
      "plt.rc('axes', labelsize=20)  # axes labels\n",
      "# If you don\u2019t need LaTeX, don\u2019t use it. It is slower to plot, and text\n",
      "# looks just fine without. If you need it, e.g. for symbols, then use it.\n",
      "plt.rc('text', usetex=True)"
     ],
     "language": "python",
     "metadata": {},
     "outputs": [],
     "prompt_number": 4
    },
    {
     "cell_type": "code",
     "collapsed": false,
     "input": [
      "# create a figure instance, note that figure size is given in inches!\n",
      "fig, ax = plt.subplots(nrows=1, ncols=1, figsize=(8,6))\n",
      "# set the big title (note aligment relative to figure)\n",
      "fig.suptitle(\"suptitle 16, figure alignment\", fontsize=16)\n",
      "\n",
      "# actual plotting\n",
      "ax.plot(x, x**2, label=\"label 12\")\n",
      "\n",
      "# set axes title (note aligment relative to axes)\n",
      "ax.set_title(\"title 14, axes alignment\", fontsize=14)\n",
      "\n",
      "# axes labels\n",
      "ax.set_xlabel('xlabel 12')\n",
      "ax.set_ylabel(r'$y_{\\alpha}$ 12', fontsize=8)\n",
      "\n",
      "# legend\n",
      "ax.legend(fontsize=12, loc=\"best\")\n",
      "\n",
      "# saving the figure in different formats\n",
      "fig.savefig('figure-%03i.png' % dpi, dpi=dpi)\n",
      "fig.savefig('figure.svg')\n",
      "fig.savefig('figure.eps')"
     ],
     "language": "python",
     "metadata": {},
     "outputs": [
      {
       "metadata": {},
       "output_type": "display_data",
       "png": "[encoded data removed]",
       "text": [
        "<matplotlib.figure.Figure at 0x4e3ed10>"
       ]
      }
     ],
     "prompt_number": 8
    },
    {
     "cell_type": "code",
     "collapsed": true,
     "input": [
      "# following steps are only relevant when using figures as pop up windows (with %matplotlib qt)\n",
      "# to update a figure with has been modified\n",
      "fig.canvas.draw()\n",
      "# show a figure\n",
      "fig.show()"
     ],
     "language": "python",
     "metadata": {},
     "outputs": [
      {
       "output_type": "stream",
       "stream": "stderr",
       "text": [
        "/usr/lib/python2.7/site-packages/matplotlib/figure.py:371: UserWarning: matplotlib is currently using a non-GUI backend, so cannot show the figure\n",
        "  \"matplotlib is currently using a non-GUI backend, \"\n"
       ]
      }
     ],
     "prompt_number": 9
    },
    {
     "cell_type": "heading",
     "level": 2,
     "metadata": {},
     "source": [
      "Exercise"
     ]
    },
    {
     "cell_type": "markdown",
     "metadata": {},
     "source": [
      "* add a grid to the plot\n",
      "* change the location of the legend to different places\n",
      "* find a way to control the line type and color, marker type and color, control the frequency of the marks (advanced, tip: keyword involves markevery)\n",
      "* add different sub-plots\n",
      "* size the figure such that when included on an A4 page the fonts are given in their true size\n",
      "* make a contour plot\n",
      "* use twinx() to create a second axis on the right\n",
      "* add horizontal and vertical lines using axvline(), axhline()\n",
      "* autoformat dates for nice printing on the x-axis using fig.autofmt_xdate()"
     ]
    }
   ],
   "metadata": {}
  }
 ]
}