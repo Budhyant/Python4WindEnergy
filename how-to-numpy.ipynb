{
 "metadata": {
  "name": ""
 },
 "nbformat": 3,
 "nbformat_minor": 0,
 "worksheets": [
  {
   "cells": [
    {
     "cell_type": "heading",
     "level": 1,
     "metadata": {},
     "source": [
      "Numerical Data in Python: the NumPy Array Object"
     ]
    },
    {
     "cell_type": "markdown",
     "metadata": {},
     "source": [
      "This notebook is based on existing and more elaborate NumPy lecture material:\n",
      "\n",
      "* [SciPy Lecture Notes](http://scipy-lectures.github.io/) (various Python developers)\n",
      "* [Scientific Python Lectures](https://github.com/jrjohansson/scientific-python-lectures) from J.R. Johansson\n",
      "* [scipy array tip sheed](http://pages.physics.cornell.edu/~myers/teaching/ComputationalMethods/python/arrays.html) (Physics at Cornell University)\n",
      "\n",
      "For Matlab users, following reference material might com in handy:\n",
      "\n",
      "* [NumPy for Matlab Users](http://wiki.scipy.org/NumPy_for_Matlab_Users)"
     ]
    },
    {
     "cell_type": "markdown",
     "metadata": {},
     "source": [
      "* explain numpy stuff based on an example\n",
      "* give an exercise as a Wakari notebook?\n",
      "* start from a list, move to array\n",
      "* vectorized operations\n",
      "* Explain fancy indexing\n",
      "* Difference of printing an N-Dimensional array between NumPy and Matlab\n",
      "* slicing: views of an array\n",
      "* fancy indexing: copies\n",
      "* looking up data: sets, \\_\\_eq\\_\\_ stuff in NumPy etc\n",
      "* load/write arrays from matlab, csv, text files, binary files\n",
      "\n",
      "* reading/writing DTU Wind Energy files: wasp, hawc2, mann turbulence, ... ?\n",
      "\n",
      "check out link here: http://pages.physics.cornell.edu/~myers/teaching/ComputationalMethods/python/arrays.html\n"
     ]
    },
    {
     "cell_type": "heading",
     "level": 2,
     "metadata": {},
     "source": [
      "Import Convention for NumPy"
     ]
    },
    {
     "cell_type": "code",
     "collapsed": false,
     "input": [
      "import numpy as np"
     ],
     "language": "python",
     "metadata": {},
     "outputs": [],
     "prompt_number": 3
    },
    {
     "cell_type": "heading",
     "level": 2,
     "metadata": {},
     "source": [
      "Indexing Multi-dimensional Arrays"
     ]
    },
    {
     "cell_type": "code",
     "collapsed": false,
     "input": [
      "d1, d2, d3 = 1000, 2000, 50\n",
      "i0, i1, istep = 10, 700, 10\n",
      "j0, j1, jstep = 8, 1000, 7\n",
      "aa = np.random.rand(d1,d2,d3)\n",
      "i = np.arange(i0,i1,istep)\n",
      "j = np.arange(j0,j1,jstep)\n",
      "k = [1,2, 10]\n",
      "\n",
      "# method 1: fancy indexing per dimension\n",
      "aai = aa[i,:,:]\n",
      "aaij = aai[:,j,:]\n",
      "aaijk = aaij[:,:,k]\n",
      "# or in a more compact form\n",
      "aaijk1 = aa[i,:,:][:,j,:][:,:,k]\n",
      "\n",
      "# method 2: slicing on dimensions 1,2, and fancy indexing on the last dimension\n",
      "aaijk2 = aa[i0:i1:istep, j0:j1:jstep, k]\n",
      "\n",
      "# method 3: fancy indexing\n",
      "aaijk3 = aa[np.ix_(i,j,k)]"
     ],
     "language": "python",
     "metadata": {},
     "outputs": [],
     "prompt_number": 4
    },
    {
     "cell_type": "markdown",
     "metadata": {},
     "source": [
      "Notice that this is somewhat different compared Matlab. You can only use fancy indexing on one dimension:"
     ]
    },
    {
     "cell_type": "code",
     "collapsed": false,
     "input": [
      "aaijk1 = aa[i,j,k]"
     ],
     "language": "python",
     "metadata": {},
     "outputs": [
      {
       "ename": "ValueError",
       "evalue": "shape mismatch: objects cannot be broadcast to a single shape",
       "output_type": "pyerr",
       "traceback": [
        "\u001b[1;31m---------------------------------------------------------------------------\u001b[0m\n\u001b[1;31mValueError\u001b[0m                                Traceback (most recent call last)",
        "\u001b[1;32m<ipython-input-7-abfc4537a455>\u001b[0m in \u001b[0;36m<module>\u001b[1;34m()\u001b[0m\n\u001b[1;32m----> 1\u001b[1;33m \u001b[0maaijk1\u001b[0m \u001b[1;33m=\u001b[0m \u001b[0maa\u001b[0m\u001b[1;33m[\u001b[0m\u001b[0mi\u001b[0m\u001b[1;33m,\u001b[0m\u001b[0mj\u001b[0m\u001b[1;33m,\u001b[0m\u001b[0mk\u001b[0m\u001b[1;33m]\u001b[0m\u001b[1;33m\u001b[0m\u001b[0m\n\u001b[0m",
        "\u001b[1;31mValueError\u001b[0m: shape mismatch: objects cannot be broadcast to a single shape"
       ]
      }
     ],
     "prompt_number": 7
    },
    {
     "cell_type": "markdown",
     "metadata": {},
     "source": [
      "Verify the result, comparing two arrays with floats"
     ]
    },
    {
     "cell_type": "code",
     "collapsed": false,
     "input": [
      "print(np.allclose(aaijk1, aaijk))\n",
      "print(np.allclose(aaijk2, aaijk))\n",
      "print(np.allclose(aaijk3, aaijk))"
     ],
     "language": "python",
     "metadata": {},
     "outputs": [
      {
       "output_type": "stream",
       "stream": "stdout",
       "text": [
        "True\n",
        "True\n",
        "True\n"
       ]
      }
     ],
     "prompt_number": 5
    },
    {
     "cell_type": "markdown",
     "metadata": {},
     "source": [
      "Simple benchmarking with IPython magic %timeit, which method is faster?"
     ]
    },
    {
     "cell_type": "code",
     "collapsed": false,
     "input": [
      "# which method is faster?\n",
      "print(\"method 1: fancy indexing for each dimension seperately\")\n",
      "%timeit aa[i,:,:][:,j,:][:,:,k]\n",
      "print(\"method 2: slicing\")\n",
      "%timeit aa[i0:i1:istep, j0:j1:jstep, k]\n",
      "print(\"method 3: fancy indexing\")\n",
      "%timeit aa[np.ix_(i,j,k)]"
     ],
     "language": "python",
     "metadata": {},
     "outputs": []
    },
    {
     "cell_type": "markdown",
     "metadata": {},
     "source": [
      "Slicing is the clear winner, because we create views and not copies of the arrays."
     ]
    }
   ],
   "metadata": {}
  }
 ]
}