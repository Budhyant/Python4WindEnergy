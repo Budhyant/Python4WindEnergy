{
 "metadata": {
  "name": ""
 },
 "nbformat": 3,
 "nbformat_minor": 0,
 "worksheets": [
  {
   "cells": [
    {
     "cell_type": "markdown",
     "metadata": {},
     "source": [
      "* Explain fancy indexing\n",
      "* Difference of printing an N-Dimensional array between NumPy and Matlab\n",
      "* slicing: views of an array\n",
      "* fancy indexing: copies\n",
      "\n",
      "check out link here: http://pages.physics.cornell.edu/~myers/teaching/ComputationalMethods/python/arrays.html\n"
     ]
    },
    {
     "cell_type": "code",
     "collapsed": false,
     "input": [
      "import numpy as np\n",
      "aa = np.random.rand(100,200,5)\n",
      "i = np.arange(3,100,3)\n",
      "j = np.arange(9,200,5)\n",
      "k = [1,2]\n",
      "\n",
      "# method 1: fancy indexing per dimension\n",
      "aai = aa[i,:,:]\n",
      "aaij = aai[:,j,:]\n",
      "aaijk = aaij[:,:,k]\n",
      "# is equivalent to\n",
      "aaijk1 = aa[i,:,:][:,j,:][:,:,k]\n",
      "\n",
      "# method 2: slicing\n",
      "aaijk2 = aa[3:100:3,9:200:5,[1,2]]\n",
      "\n",
      "# method 3: fancy indexing\n",
      "aaijk3 = aa[np.ix_(i,j,k)]"
     ],
     "language": "python",
     "metadata": {},
     "outputs": [],
     "prompt_number": 3
    },
    {
     "cell_type": "code",
     "collapsed": false,
     "input": [
      "# and are those arrays realy the same?\n",
      "print(np.allclose(aaijk1, aaijk))\n",
      "print(np.allclose(aaijk2, aaijk))\n",
      "print(np.allclose(aaijk3, aaijk))"
     ],
     "language": "python",
     "metadata": {},
     "outputs": [
      {
       "output_type": "stream",
       "stream": "stdout",
       "text": [
        "True\n",
        "True\n",
        "True\n"
       ]
      }
     ],
     "prompt_number": 5
    },
    {
     "cell_type": "code",
     "collapsed": false,
     "input": [
      "# which method is faster?\n",
      "print(\"method 1: fancy indexing for each dimension seperately\")\n",
      "%timeit aa[i,:,:][:,j,:][:,:,k]\n",
      "print(\"method 2: slicing\")\n",
      "%timeit aa[3:100:3,9:200:5,[1,2]]\n",
      "print(\"method 3: fancy indexing\")\n",
      "%timeit aa[np.ix_(i,j,k)]"
     ],
     "language": "python",
     "metadata": {},
     "outputs": [
      {
       "output_type": "stream",
       "stream": "stdout",
       "text": [
        "method 1: fancy indexing for each dimension seperately\n",
        "1000 loops, best of 3: 407 \u00b5s per loop"
       ]
      },
      {
       "output_type": "stream",
       "stream": "stdout",
       "text": [
        "\n",
        "method 2: slicing\n",
        "10000 loops, best of 3: 34.2 \u00b5s per loop"
       ]
      },
      {
       "output_type": "stream",
       "stream": "stdout",
       "text": [
        "\n",
        "method 3: fancy indexing\n",
        "10000 loops, best of 3: 164 \u00b5s per loop"
       ]
      },
      {
       "output_type": "stream",
       "stream": "stdout",
       "text": [
        "\n"
       ]
      }
     ],
     "prompt_number": 6
    },
    {
     "cell_type": "code",
     "collapsed": false,
     "input": [],
     "language": "python",
     "metadata": {},
     "outputs": []
    }
   ],
   "metadata": {}
  }
 ]
}